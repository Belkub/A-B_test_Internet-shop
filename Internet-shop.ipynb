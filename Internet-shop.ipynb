{
 "cells": [
  {
   "cell_type": "markdown",
   "metadata": {},
   "source": [
    "#### ПРИОРИТИЗАЦИЯ ГИПОТЕЗ И АНАЛИЗ РЕЗУЛЬТАТОВ А/В ТЕСТИРОВАНИЯ ПОКУПАТЕЛЬНОЙ АКТИВНОСТИ КЛИЕНТОВ ИНТЕРНЕТ-МАГАЗИНА\n",
    "1. [Приоритизация гипотез](#step_8)\n",
    "2. [Вычисление фактора ICE](#step_3)  \n",
    "3. [Вычисление фактора RICE](#step_4)\n",
    "4. [Анализ А/В теста](#abtest)\n",
    "5. [Сравнение кумулятивной выручки разных групп клиентов ](#conc)\n",
    "6. [Распределение кумулятивного среднего чека в группах ](#check)\n",
    "7. [Динамика изменения кумулятивного среднего числа заказов на посетителя интернет-магазина](#check1)\n",
    "8. [Точечное распределение заказов по клиентам](#check2)\n",
    "9. [Точечное распределение стоимости заказов](#check3)\n",
    "10. [Проверка статистической идентичности сырых выборок А и В для удельного числа заказов](#choose)\n",
    "11. [Проверка статистической идентичности сырых выборок А и В для среднего чека](#order)   \n",
    "12. [Проверка статистической идентичности очищенных выборок А и В для удельного числа заказов](#clear)\n",
    "10. [Проверка статистической идентичности очищенных выборок А и В для среднего чека](#order_o)\n",
    "10. [Выводы по результатам А/В тестирования ](#infer)"
   ]
  },
  {
   "cell_type": "markdown",
   "metadata": {},
   "source": [
    "<div class=\"alert alert-info\">\n",
    "<a id=\"step_8\"></a>\n",
    "\n",
    "   <b>ПРИОРИТИЗАЦИЯ ГИПОТЕЗ</b>\n",
    "  \n",
    "   Изучаются гипотезы по увеличению выручки интернет магазина с помощью специальных метрик, позволяющих установить их \n",
    "приоритетность на основании численной оценки влияющих факторов. \n",
    "\n",
    "   <b> Задача и цель исследований </b>\n",
    "\n",
    "   Выполнить приоритезацию гипотез, позволяющих потенциально повысить продажи интернет магазина, на основе расчета фрейворков\n",
    "ICE и RICE, использующих численную оценку значимости основных влияющих факторов: Reach (охват клиентов), Impact (степень \n",
    "влияния на охваченную аудиторию), Confidence (степень уверенности в правильности численной оценки значимости факторов) и Effort \n",
    "(оценка финансовых и временных расходов на проверку гипотезы)."
   ]
  },
  {
   "cell_type": "code",
   "execution_count": 516,
   "metadata": {},
   "outputs": [],
   "source": [
    "import pandas as pd\n",
    "import matplotlib.pyplot as plt\n",
    "from pandas.plotting import register_matplotlib_converters\n",
    "import numpy as np\n",
    "from scipy import stats as st\n",
    "import random\n",
    "import statistics as stat"
   ]
  },
  {
   "cell_type": "code",
   "execution_count": 517,
   "metadata": {
    "scrolled": true
   },
   "outputs": [
    {
     "data": {
      "text/html": [
       "<div>\n",
       "<style scoped>\n",
       "    .dataframe tbody tr th:only-of-type {\n",
       "        vertical-align: middle;\n",
       "    }\n",
       "\n",
       "    .dataframe tbody tr th {\n",
       "        vertical-align: top;\n",
       "    }\n",
       "\n",
       "    .dataframe thead th {\n",
       "        text-align: right;\n",
       "    }\n",
       "</style>\n",
       "<table border=\"1\" class=\"dataframe\">\n",
       "  <thead>\n",
       "    <tr style=\"text-align: right;\">\n",
       "      <th></th>\n",
       "      <th>Hypothesis</th>\n",
       "      <th>Reach</th>\n",
       "      <th>Impact</th>\n",
       "      <th>Confidence</th>\n",
       "      <th>Efforts</th>\n",
       "    </tr>\n",
       "  </thead>\n",
       "  <tbody>\n",
       "    <tr>\n",
       "      <th>0</th>\n",
       "      <td>Добавить два новых канала привлечения трафика,...</td>\n",
       "      <td>3</td>\n",
       "      <td>10</td>\n",
       "      <td>8</td>\n",
       "      <td>6</td>\n",
       "    </tr>\n",
       "    <tr>\n",
       "      <th>1</th>\n",
       "      <td>Запустить собственную службу доставки, что сок...</td>\n",
       "      <td>2</td>\n",
       "      <td>5</td>\n",
       "      <td>4</td>\n",
       "      <td>10</td>\n",
       "    </tr>\n",
       "    <tr>\n",
       "      <th>2</th>\n",
       "      <td>Добавить блоки рекомендаций товаров на сайт ин...</td>\n",
       "      <td>8</td>\n",
       "      <td>3</td>\n",
       "      <td>7</td>\n",
       "      <td>3</td>\n",
       "    </tr>\n",
       "    <tr>\n",
       "      <th>3</th>\n",
       "      <td>Изменить структура категорий, что увеличит кон...</td>\n",
       "      <td>8</td>\n",
       "      <td>3</td>\n",
       "      <td>3</td>\n",
       "      <td>8</td>\n",
       "    </tr>\n",
       "    <tr>\n",
       "      <th>4</th>\n",
       "      <td>Изменить цвет фона главной страницы, чтобы уве...</td>\n",
       "      <td>3</td>\n",
       "      <td>1</td>\n",
       "      <td>1</td>\n",
       "      <td>1</td>\n",
       "    </tr>\n",
       "    <tr>\n",
       "      <th>5</th>\n",
       "      <td>Добавить страницу отзывов клиентов о магазине,...</td>\n",
       "      <td>3</td>\n",
       "      <td>2</td>\n",
       "      <td>2</td>\n",
       "      <td>3</td>\n",
       "    </tr>\n",
       "    <tr>\n",
       "      <th>6</th>\n",
       "      <td>Показать на главной странице баннеры с актуаль...</td>\n",
       "      <td>5</td>\n",
       "      <td>3</td>\n",
       "      <td>8</td>\n",
       "      <td>3</td>\n",
       "    </tr>\n",
       "    <tr>\n",
       "      <th>7</th>\n",
       "      <td>Добавить форму подписки на все основные страни...</td>\n",
       "      <td>10</td>\n",
       "      <td>7</td>\n",
       "      <td>8</td>\n",
       "      <td>5</td>\n",
       "    </tr>\n",
       "    <tr>\n",
       "      <th>8</th>\n",
       "      <td>Запустить акцию, дающую скидку на товар в день...</td>\n",
       "      <td>1</td>\n",
       "      <td>9</td>\n",
       "      <td>9</td>\n",
       "      <td>5</td>\n",
       "    </tr>\n",
       "  </tbody>\n",
       "</table>\n",
       "</div>"
      ],
      "text/plain": [
       "                                          Hypothesis  Reach  Impact  \\\n",
       "0  Добавить два новых канала привлечения трафика,...      3      10   \n",
       "1  Запустить собственную службу доставки, что сок...      2       5   \n",
       "2  Добавить блоки рекомендаций товаров на сайт ин...      8       3   \n",
       "3  Изменить структура категорий, что увеличит кон...      8       3   \n",
       "4  Изменить цвет фона главной страницы, чтобы уве...      3       1   \n",
       "5  Добавить страницу отзывов клиентов о магазине,...      3       2   \n",
       "6  Показать на главной странице баннеры с актуаль...      5       3   \n",
       "7  Добавить форму подписки на все основные страни...     10       7   \n",
       "8  Запустить акцию, дающую скидку на товар в день...      1       9   \n",
       "\n",
       "   Confidence  Efforts  \n",
       "0           8        6  \n",
       "1           4       10  \n",
       "2           7        3  \n",
       "3           3        8  \n",
       "4           1        1  \n",
       "5           2        3  \n",
       "6           8        3  \n",
       "7           8        5  \n",
       "8           9        5  "
      ]
     },
     "execution_count": 517,
     "metadata": {},
     "output_type": "execute_result"
    }
   ],
   "source": [
    "df = pd.read_csv('/datasets/hypothesis.csv')\n",
    "df"
   ]
  },
  {
   "cell_type": "code",
   "execution_count": 518,
   "metadata": {
    "scrolled": true
   },
   "outputs": [
    {
     "name": "stdout",
     "output_type": "stream",
     "text": [
      "<class 'pandas.core.frame.DataFrame'>\n",
      "RangeIndex: 9 entries, 0 to 8\n",
      "Data columns (total 5 columns):\n",
      " #   Column      Non-Null Count  Dtype \n",
      "---  ------      --------------  ----- \n",
      " 0   Hypothesis  9 non-null      object\n",
      " 1   Reach       9 non-null      int64 \n",
      " 2   Impact      9 non-null      int64 \n",
      " 3   Confidence  9 non-null      int64 \n",
      " 4   Efforts     9 non-null      int64 \n",
      "dtypes: int64(4), object(1)\n",
      "memory usage: 488.0+ bytes\n"
     ]
    }
   ],
   "source": [
    "df.info()"
   ]
  },
  {
   "cell_type": "code",
   "execution_count": 519,
   "metadata": {},
   "outputs": [
    {
     "data": {
      "text/plain": [
       "Hypothesis    0\n",
       "Reach         0\n",
       "Impact        0\n",
       "Confidence    0\n",
       "Efforts       0\n",
       "dtype: int64"
      ]
     },
     "execution_count": 519,
     "metadata": {},
     "output_type": "execute_result"
    }
   ],
   "source": [
    "df.isna().sum()"
   ]
  },
  {
   "cell_type": "code",
   "execution_count": 520,
   "metadata": {},
   "outputs": [
    {
     "data": {
      "text/plain": [
       "0"
      ]
     },
     "execution_count": 520,
     "metadata": {},
     "output_type": "execute_result"
    }
   ],
   "source": [
    "df.duplicated().sum()"
   ]
  },
  {
   "cell_type": "markdown",
   "metadata": {},
   "source": [
    "<div class=\"alert alert-info\">\n",
    "  В загруженной таблице c исходными данными для расчета факторов приоритизации гипотез не найдено пропусков и дубликатов строк.\n",
    "Типы данных установлены верные: столбец 'Hypothesis' имеет тип 'object', а остальные числовые столбца - тип 'int64'.\n",
    "</div>"
   ]
  },
  {
   "cell_type": "markdown",
   "metadata": {},
   "source": [
    "#### Вычисление фактора ICE\n",
    "<a id=\"step_3\"></a>"
   ]
  },
  {
   "cell_type": "code",
   "execution_count": 521,
   "metadata": {
    "scrolled": true
   },
   "outputs": [
    {
     "data": {
      "text/html": [
       "<div>\n",
       "<style scoped>\n",
       "    .dataframe tbody tr th:only-of-type {\n",
       "        vertical-align: middle;\n",
       "    }\n",
       "\n",
       "    .dataframe tbody tr th {\n",
       "        vertical-align: top;\n",
       "    }\n",
       "\n",
       "    .dataframe thead th {\n",
       "        text-align: right;\n",
       "    }\n",
       "</style>\n",
       "<table border=\"1\" class=\"dataframe\">\n",
       "  <thead>\n",
       "    <tr style=\"text-align: right;\">\n",
       "      <th></th>\n",
       "      <th>Hypothesis</th>\n",
       "      <th>Reach</th>\n",
       "      <th>Impact</th>\n",
       "      <th>Confidence</th>\n",
       "      <th>Efforts</th>\n",
       "      <th>ICE</th>\n",
       "    </tr>\n",
       "  </thead>\n",
       "  <tbody>\n",
       "    <tr>\n",
       "      <th>8</th>\n",
       "      <td>Запустить акцию, дающую скидку на товар в день...</td>\n",
       "      <td>1</td>\n",
       "      <td>9</td>\n",
       "      <td>9</td>\n",
       "      <td>5</td>\n",
       "      <td>16.200000</td>\n",
       "    </tr>\n",
       "    <tr>\n",
       "      <th>0</th>\n",
       "      <td>Добавить два новых канала привлечения трафика,...</td>\n",
       "      <td>3</td>\n",
       "      <td>10</td>\n",
       "      <td>8</td>\n",
       "      <td>6</td>\n",
       "      <td>13.333333</td>\n",
       "    </tr>\n",
       "    <tr>\n",
       "      <th>7</th>\n",
       "      <td>Добавить форму подписки на все основные страни...</td>\n",
       "      <td>10</td>\n",
       "      <td>7</td>\n",
       "      <td>8</td>\n",
       "      <td>5</td>\n",
       "      <td>11.200000</td>\n",
       "    </tr>\n",
       "    <tr>\n",
       "      <th>6</th>\n",
       "      <td>Показать на главной странице баннеры с актуаль...</td>\n",
       "      <td>5</td>\n",
       "      <td>3</td>\n",
       "      <td>8</td>\n",
       "      <td>3</td>\n",
       "      <td>8.000000</td>\n",
       "    </tr>\n",
       "    <tr>\n",
       "      <th>2</th>\n",
       "      <td>Добавить блоки рекомендаций товаров на сайт ин...</td>\n",
       "      <td>8</td>\n",
       "      <td>3</td>\n",
       "      <td>7</td>\n",
       "      <td>3</td>\n",
       "      <td>7.000000</td>\n",
       "    </tr>\n",
       "    <tr>\n",
       "      <th>1</th>\n",
       "      <td>Запустить собственную службу доставки, что сок...</td>\n",
       "      <td>2</td>\n",
       "      <td>5</td>\n",
       "      <td>4</td>\n",
       "      <td>10</td>\n",
       "      <td>2.000000</td>\n",
       "    </tr>\n",
       "    <tr>\n",
       "      <th>5</th>\n",
       "      <td>Добавить страницу отзывов клиентов о магазине,...</td>\n",
       "      <td>3</td>\n",
       "      <td>2</td>\n",
       "      <td>2</td>\n",
       "      <td>3</td>\n",
       "      <td>1.333333</td>\n",
       "    </tr>\n",
       "    <tr>\n",
       "      <th>3</th>\n",
       "      <td>Изменить структура категорий, что увеличит кон...</td>\n",
       "      <td>8</td>\n",
       "      <td>3</td>\n",
       "      <td>3</td>\n",
       "      <td>8</td>\n",
       "      <td>1.125000</td>\n",
       "    </tr>\n",
       "    <tr>\n",
       "      <th>4</th>\n",
       "      <td>Изменить цвет фона главной страницы, чтобы уве...</td>\n",
       "      <td>3</td>\n",
       "      <td>1</td>\n",
       "      <td>1</td>\n",
       "      <td>1</td>\n",
       "      <td>1.000000</td>\n",
       "    </tr>\n",
       "  </tbody>\n",
       "</table>\n",
       "</div>"
      ],
      "text/plain": [
       "                                          Hypothesis  Reach  Impact  \\\n",
       "8  Запустить акцию, дающую скидку на товар в день...      1       9   \n",
       "0  Добавить два новых канала привлечения трафика,...      3      10   \n",
       "7  Добавить форму подписки на все основные страни...     10       7   \n",
       "6  Показать на главной странице баннеры с актуаль...      5       3   \n",
       "2  Добавить блоки рекомендаций товаров на сайт ин...      8       3   \n",
       "1  Запустить собственную службу доставки, что сок...      2       5   \n",
       "5  Добавить страницу отзывов клиентов о магазине,...      3       2   \n",
       "3  Изменить структура категорий, что увеличит кон...      8       3   \n",
       "4  Изменить цвет фона главной страницы, чтобы уве...      3       1   \n",
       "\n",
       "   Confidence  Efforts        ICE  \n",
       "8           9        5  16.200000  \n",
       "0           8        6  13.333333  \n",
       "7           8        5  11.200000  \n",
       "6           8        3   8.000000  \n",
       "2           7        3   7.000000  \n",
       "1           4       10   2.000000  \n",
       "5           2        3   1.333333  \n",
       "3           3        8   1.125000  \n",
       "4           1        1   1.000000  "
      ]
     },
     "execution_count": 521,
     "metadata": {},
     "output_type": "execute_result"
    }
   ],
   "source": [
    "df['ICE'] = df['Impact']*df['Confidence']/df['Efforts']\n",
    "df.sort_values(by = 'ICE', ascending = False)"
   ]
  },
  {
   "cell_type": "code",
   "execution_count": 522,
   "metadata": {
    "scrolled": true
   },
   "outputs": [
    {
     "data": {
      "image/png": "[encoded data removed]",
      "text/plain": [
       "<Figure size 1080x576 with 1 Axes>"
      ]
     },
     "metadata": {
      "needs_background": "light"
     },
     "output_type": "display_data"
    }
   ],
   "source": [
    "df.sort_values(by = 'ICE', ascending = True)['ICE'].plot(kind='barh', width = 0.3, title = 'Распределение гипотез по величине параметра приоритизации ICE',\n",
    "                                             figsize=(15,8)); \n",
    "plt.xlabel('Величина метрики ICE')\n",
    "plt.show()"
   ]
  },
  {
   "cell_type": "markdown",
   "metadata": {},
   "source": [
    "<div class=\"alert alert-info\">\n",
    "  Лучшая гипотеза по версии ICE - запуск скидочных акций (16,2) за счет максимальных значений факторов Impact и Confidence.\n",
    "Второе и третье места занимают гипотезы, соответственно, о добавлении новых каналов привлечения трафика (13,3) (максимальный\n",
    "Impact (10)) и о добавлении формы подписки на все страницы сайта (11,2) (высокие Impact (7) и Confidence (8)). Самые \n",
    "низкоприоритетные гипотезы - об изменении структуры категорий товаров (1,13) (высокие усилия Effects (8)) и об изменение фона\n",
    "главной страницы (1) (общий низкий уровень влияющих факторов - все по 1). \n",
    "</div>"
   ]
  },
  {
   "cell_type": "code",
   "execution_count": 523,
   "metadata": {},
   "outputs": [
    {
     "data": {
      "text/plain": [
       "['Impact', 'Confidence', 'Efforts']"
      ]
     },
     "execution_count": 523,
     "metadata": {},
     "output_type": "execute_result"
    }
   ],
   "source": [
    "m = list(df.columns)\n",
    "m.remove('ICE')\n",
    "m.remove('Reach')\n",
    "m.pop(0)\n",
    "m"
   ]
  },
  {
   "cell_type": "code",
   "execution_count": 524,
   "metadata": {},
   "outputs": [
    {
     "data": {
      "text/plain": [
       "[0.86, 0.92, -0.02]"
      ]
     },
     "execution_count": 524,
     "metadata": {},
     "output_type": "execute_result"
    }
   ],
   "source": [
    "q = []\n",
    "for i in m: \n",
    "    q.append(round(df[i].corr(df['ICE']),2))\n",
    "q"
   ]
  },
  {
   "cell_type": "code",
   "execution_count": 525,
   "metadata": {
    "scrolled": true
   },
   "outputs": [
    {
     "data": {
      "image/png": "[encoded data removed]",
      "text/plain": [
       "<Figure size 1200x480 with 1 Axes>"
      ]
     },
     "metadata": {
      "needs_background": "light"
     },
     "output_type": "display_data"
    }
   ],
   "source": [
    "plt.figure(figsize=(15, 6), dpi=80)\n",
    "plt.bar(m, q, color ='maroon', width = 0.2); \n",
    "plt.title('Коэффициенты пропорциональности между метрикой ICE и влияющими факторами')\n",
    "plt.xlabel('Влияющий фактор', fontsize=15)\n",
    "plt.ylabel('Величина коэф пропорциональности', fontsize=15)\n",
    "plt.ylim([-0.2, 1])\n",
    "plt.show()"
   ]
  },
  {
   "cell_type": "markdown",
   "metadata": {},
   "source": [
    "<div class=\"alert alert-info\">\n",
    "  По убыванию силы влияния на ICE влияющие факторы распределяются в следующем порядке: Confidence и Impact. Фактор\n",
    "Effort, соответственно, обратнопропорционален ICE и практически не оказывает влияния на его величину.\n",
    "</div>"
   ]
  },
  {
   "cell_type": "markdown",
   "metadata": {},
   "source": [
    "#### Вычисление фактора RICE\n",
    "<a id=\"step_4\"></a>"
   ]
  },
  {
   "cell_type": "code",
   "execution_count": 526,
   "metadata": {},
   "outputs": [
    {
     "data": {
      "text/html": [
       "<div>\n",
       "<style scoped>\n",
       "    .dataframe tbody tr th:only-of-type {\n",
       "        vertical-align: middle;\n",
       "    }\n",
       "\n",
       "    .dataframe tbody tr th {\n",
       "        vertical-align: top;\n",
       "    }\n",
       "\n",
       "    .dataframe thead th {\n",
       "        text-align: right;\n",
       "    }\n",
       "</style>\n",
       "<table border=\"1\" class=\"dataframe\">\n",
       "  <thead>\n",
       "    <tr style=\"text-align: right;\">\n",
       "      <th></th>\n",
       "      <th>Hypothesis</th>\n",
       "      <th>Reach</th>\n",
       "      <th>Impact</th>\n",
       "      <th>Confidence</th>\n",
       "      <th>Efforts</th>\n",
       "      <th>ICE</th>\n",
       "      <th>RICE</th>\n",
       "    </tr>\n",
       "  </thead>\n",
       "  <tbody>\n",
       "    <tr>\n",
       "      <th>7</th>\n",
       "      <td>Добавить форму подписки на все основные страни...</td>\n",
       "      <td>10</td>\n",
       "      <td>7</td>\n",
       "      <td>8</td>\n",
       "      <td>5</td>\n",
       "      <td>11.200000</td>\n",
       "      <td>112.0</td>\n",
       "    </tr>\n",
       "    <tr>\n",
       "      <th>2</th>\n",
       "      <td>Добавить блоки рекомендаций товаров на сайт ин...</td>\n",
       "      <td>8</td>\n",
       "      <td>3</td>\n",
       "      <td>7</td>\n",
       "      <td>3</td>\n",
       "      <td>7.000000</td>\n",
       "      <td>56.0</td>\n",
       "    </tr>\n",
       "    <tr>\n",
       "      <th>0</th>\n",
       "      <td>Добавить два новых канала привлечения трафика,...</td>\n",
       "      <td>3</td>\n",
       "      <td>10</td>\n",
       "      <td>8</td>\n",
       "      <td>6</td>\n",
       "      <td>13.333333</td>\n",
       "      <td>40.0</td>\n",
       "    </tr>\n",
       "    <tr>\n",
       "      <th>6</th>\n",
       "      <td>Показать на главной странице баннеры с актуаль...</td>\n",
       "      <td>5</td>\n",
       "      <td>3</td>\n",
       "      <td>8</td>\n",
       "      <td>3</td>\n",
       "      <td>8.000000</td>\n",
       "      <td>40.0</td>\n",
       "    </tr>\n",
       "    <tr>\n",
       "      <th>8</th>\n",
       "      <td>Запустить акцию, дающую скидку на товар в день...</td>\n",
       "      <td>1</td>\n",
       "      <td>9</td>\n",
       "      <td>9</td>\n",
       "      <td>5</td>\n",
       "      <td>16.200000</td>\n",
       "      <td>16.2</td>\n",
       "    </tr>\n",
       "    <tr>\n",
       "      <th>3</th>\n",
       "      <td>Изменить структура категорий, что увеличит кон...</td>\n",
       "      <td>8</td>\n",
       "      <td>3</td>\n",
       "      <td>3</td>\n",
       "      <td>8</td>\n",
       "      <td>1.125000</td>\n",
       "      <td>9.0</td>\n",
       "    </tr>\n",
       "    <tr>\n",
       "      <th>1</th>\n",
       "      <td>Запустить собственную службу доставки, что сок...</td>\n",
       "      <td>2</td>\n",
       "      <td>5</td>\n",
       "      <td>4</td>\n",
       "      <td>10</td>\n",
       "      <td>2.000000</td>\n",
       "      <td>4.0</td>\n",
       "    </tr>\n",
       "    <tr>\n",
       "      <th>5</th>\n",
       "      <td>Добавить страницу отзывов клиентов о магазине,...</td>\n",
       "      <td>3</td>\n",
       "      <td>2</td>\n",
       "      <td>2</td>\n",
       "      <td>3</td>\n",
       "      <td>1.333333</td>\n",
       "      <td>4.0</td>\n",
       "    </tr>\n",
       "    <tr>\n",
       "      <th>4</th>\n",
       "      <td>Изменить цвет фона главной страницы, чтобы уве...</td>\n",
       "      <td>3</td>\n",
       "      <td>1</td>\n",
       "      <td>1</td>\n",
       "      <td>1</td>\n",
       "      <td>1.000000</td>\n",
       "      <td>3.0</td>\n",
       "    </tr>\n",
       "  </tbody>\n",
       "</table>\n",
       "</div>"
      ],
      "text/plain": [
       "                                          Hypothesis  Reach  Impact  \\\n",
       "7  Добавить форму подписки на все основные страни...     10       7   \n",
       "2  Добавить блоки рекомендаций товаров на сайт ин...      8       3   \n",
       "0  Добавить два новых канала привлечения трафика,...      3      10   \n",
       "6  Показать на главной странице баннеры с актуаль...      5       3   \n",
       "8  Запустить акцию, дающую скидку на товар в день...      1       9   \n",
       "3  Изменить структура категорий, что увеличит кон...      8       3   \n",
       "1  Запустить собственную службу доставки, что сок...      2       5   \n",
       "5  Добавить страницу отзывов клиентов о магазине,...      3       2   \n",
       "4  Изменить цвет фона главной страницы, чтобы уве...      3       1   \n",
       "\n",
       "   Confidence  Efforts        ICE   RICE  \n",
       "7           8        5  11.200000  112.0  \n",
       "2           7        3   7.000000   56.0  \n",
       "0           8        6  13.333333   40.0  \n",
       "6           8        3   8.000000   40.0  \n",
       "8           9        5  16.200000   16.2  \n",
       "3           3        8   1.125000    9.0  \n",
       "1           4       10   2.000000    4.0  \n",
       "5           2        3   1.333333    4.0  \n",
       "4           1        1   1.000000    3.0  "
      ]
     },
     "execution_count": 526,
     "metadata": {},
     "output_type": "execute_result"
    }
   ],
   "source": [
    "df['RICE'] = df['Reach']*df['Impact']*df['Confidence']/df['Efforts']\n",
    "df.sort_values(by = 'RICE', ascending = False)"
   ]
  },
  {
   "cell_type": "code",
   "execution_count": 527,
   "metadata": {},
   "outputs": [
    {
     "data": {
      "image/png": "[encoded data removed]",
      "text/plain": [
       "<Figure size 1080x576 with 1 Axes>"
      ]
     },
     "metadata": {
      "needs_background": "light"
     },
     "output_type": "display_data"
    }
   ],
   "source": [
    "df.sort_values(by = 'RICE', ascending = True)['RICE'].plot(kind='barh', width = 0.3, title = 'Распределение гипотез по величине параметра приоритизации RICE',\n",
    "                                             figsize=(15,8)); \n",
    "plt.xlabel('Величина метрики RICE')\n",
    "plt.show()"
   ]
  },
  {
   "cell_type": "markdown",
   "metadata": {},
   "source": [
    "<div class=\"alert alert-info\">\n",
    "  Лучшая гипотеза по версии RICE - добавление формы подписи на все основные страницы сайта (112) из-за максимального\n",
    "охвата Reach (10) и высокой уверенности в оценке факторов Confidence (8). Она в 2 раза опережает гипотезу, занявшую 2 место\n",
    "(56): добавление рекомендаций товаров на сайт (высокий Reach (8), но слабый Impact (3)). Третье место (40) делят гипотезы о \n",
    "добавлении 2 новых каналов привличения клиентов (слабый Reach (3)) и показ на главной странице баннеров с актуальными товарами\n",
    "(слабый Impact). Последние места занимают гипотеза с высокими расходами на организацию или разработку Effort (10): запустиить \n",
    "собственную доставку (4) и 2 гипотезы с очень низкими значениями влияющих всех факторов (менее 3): добавить новую \n",
    "страницу с отзывами клиентов (4) и измененить цвета фона главной страницы (3).\n",
    "</div>"
   ]
  },
  {
   "cell_type": "code",
   "execution_count": 528,
   "metadata": {},
   "outputs": [
    {
     "data": {
      "text/plain": [
       "['Reach', 'Impact', 'Confidence', 'Efforts']"
      ]
     },
     "execution_count": 528,
     "metadata": {},
     "output_type": "execute_result"
    }
   ],
   "source": [
    "d = list(df.columns)\n",
    "d.remove('RICE')\n",
    "d.remove('ICE')\n",
    "d.pop(0)\n",
    "d"
   ]
  },
  {
   "cell_type": "code",
   "execution_count": 529,
   "metadata": {},
   "outputs": [
    {
     "data": {
      "text/plain": [
       "[0.72, 0.35, 0.63, -0.12]"
      ]
     },
     "execution_count": 529,
     "metadata": {},
     "output_type": "execute_result"
    }
   ],
   "source": [
    "w = []\n",
    "for i in d: \n",
    "    w.append(round(df[i].corr(df['RICE']),2))\n",
    "w"
   ]
  },
  {
   "cell_type": "code",
   "execution_count": 530,
   "metadata": {
    "scrolled": true
   },
   "outputs": [
    {
     "data": {
      "image/png": "[encoded data removed]",
      "text/plain": [
       "<Figure size 1200x480 with 1 Axes>"
      ]
     },
     "metadata": {
      "needs_background": "light"
     },
     "output_type": "display_data"
    }
   ],
   "source": [
    "plt.figure(figsize=(15, 6), dpi=80)\n",
    "plt.bar(d, w, color ='maroon', width = 0.3); \n",
    "plt.title('Коэффициенты пропорциональности между метрикой RICE и влияющими факторами')\n",
    "plt.xlabel('Влияющий фактор', fontsize=15)\n",
    "plt.ylabel('Величина коэф пропорциональности', fontsize=15)\n",
    "plt.ylim([-0.2, 1])\n",
    "plt.show()"
   ]
  },
  {
   "cell_type": "markdown",
   "metadata": {},
   "source": [
    "<div class=\"alert alert-info\">\n",
    "  По убыванию силы влияния на RICE влияющие факторы распределяются в следующем порядке: Reach, Confidence и Impact. Фактор\n",
    "Effort, соответственно, обратнопропорционален RICE.\n",
    "</div>"
   ]
  },
  {
   "cell_type": "code",
   "execution_count": 531,
   "metadata": {
    "scrolled": true
   },
   "outputs": [],
   "source": [
    "q.insert(0,0)"
   ]
  },
  {
   "cell_type": "code",
   "execution_count": 532,
   "metadata": {},
   "outputs": [],
   "source": [
    "r = pd.DataFrame({'factors': d,\n",
    " 'RICE': w,\n",
    " 'ICE': q })"
   ]
  },
  {
   "cell_type": "code",
   "execution_count": 533,
   "metadata": {},
   "outputs": [
    {
     "data": {
      "image/png": "[encoded data removed]",
      "text/plain": [
       "<Figure size 1080x432 with 1 Axes>"
      ]
     },
     "metadata": {
      "needs_background": "light"
     },
     "output_type": "display_data"
    }
   ],
   "source": [
    "r[['factors', 'RICE', 'ICE']].plot(x='factors', kind='bar', stacked= False, figsize=(15, 6) )\n",
    "plt.title('Коэффициенты пропорциональности между метриками RICE, ICE и влияющими факторами', fontsize=15)\n",
    "plt.xlabel('Влияющий фактор', fontsize=15)\n",
    "plt.ylabel('Величина коэф пропорциональности', fontsize=13)\n",
    "plt.ylim([-0.2, 1])\n",
    "plt.legend()\n",
    "plt.show()"
   ]
  },
  {
   "cell_type": "markdown",
   "metadata": {},
   "source": [
    "<div class=\"alert alert-info\">\n",
    "  При переходе от ICE к RICE значимость пропорциональных факторов Impact и Confidence снижается, соответственно, на\n",
    "60 и 32 %. Это происходит за счет появления нового фактора Reach, который смещает центр равновесия метрики в сторону значимости\n",
    "охвата клиентов. При этом, также несколько увеличивается роль Efforts, хотя и остается наименее значительной из всех прочих\n",
    "влияющих фактолров. Благодаря фактору Reach меняется приоритетность гипотез в пользу высокого охвата аудитории, а гипотезы\n",
    "с низким охватом, даже обладая значительным влиянием Impact, смещаются вниз. То есть, в отличие от ICE, на величину которого\n",
    "максимальное влияние оказывают факторы Impact и Confidence, на RICE главное влияние оказывают Reach и Confidence. \n",
    "</div>"
   ]
  },
  {
   "cell_type": "markdown",
   "metadata": {},
   "source": [
    "<div class=\"alert alert-info\">\n",
    "  Из-за изменения удельного веса влияющих факторов при переходе от ICE к RICE изменился порядок приоритизации конкретных гипотез.\n",
    "Так, если при расчета ICE лидерские места занимали гипотезы о запуске скидочной акции, новых каналов привлечения, создание формы\n",
    "подписи, показ банеров и добавление блока рекомендаций товаров, то при пояалении фактора Reach в метрике RICE порядок лидирующих\n",
    "гипотез закономерно меняется в пользу гипотез с максимальным охватом аудитории: добавление на все страницы формы подписи, блоков \n",
    "рекомендаций товаров, использование новых каналов привлечения, показ актуальных банеров и введение скидочной акции. Самая \n",
    "аутсайдерская гипотеза по версии ICE (изменение цвета фона) остается таковой и в случае критерия RICE.\n",
    "</div>"
   ]
  },
  {
   "cell_type": "markdown",
   "metadata": {},
   "source": [
    "#### Анализ А/В теста\n",
    "<a id=\"abtest\"></a>"
   ]
  },
  {
   "cell_type": "code",
   "execution_count": 534,
   "metadata": {
    "scrolled": true
   },
   "outputs": [
    {
     "data": {
      "text/html": [
       "<div>\n",
       "<style scoped>\n",
       "    .dataframe tbody tr th:only-of-type {\n",
       "        vertical-align: middle;\n",
       "    }\n",
       "\n",
       "    .dataframe tbody tr th {\n",
       "        vertical-align: top;\n",
       "    }\n",
       "\n",
       "    .dataframe thead th {\n",
       "        text-align: right;\n",
       "    }\n",
       "</style>\n",
       "<table border=\"1\" class=\"dataframe\">\n",
       "  <thead>\n",
       "    <tr style=\"text-align: right;\">\n",
       "      <th></th>\n",
       "      <th>transactionId</th>\n",
       "      <th>visitorId</th>\n",
       "      <th>date</th>\n",
       "      <th>revenue</th>\n",
       "      <th>group</th>\n",
       "    </tr>\n",
       "  </thead>\n",
       "  <tbody>\n",
       "    <tr>\n",
       "      <th>0</th>\n",
       "      <td>3667963787</td>\n",
       "      <td>3312258926</td>\n",
       "      <td>2019-08-15</td>\n",
       "      <td>1650</td>\n",
       "      <td>B</td>\n",
       "    </tr>\n",
       "    <tr>\n",
       "      <th>1</th>\n",
       "      <td>2804400009</td>\n",
       "      <td>3642806036</td>\n",
       "      <td>2019-08-15</td>\n",
       "      <td>730</td>\n",
       "      <td>B</td>\n",
       "    </tr>\n",
       "    <tr>\n",
       "      <th>2</th>\n",
       "      <td>2961555356</td>\n",
       "      <td>4069496402</td>\n",
       "      <td>2019-08-15</td>\n",
       "      <td>400</td>\n",
       "      <td>A</td>\n",
       "    </tr>\n",
       "    <tr>\n",
       "      <th>3</th>\n",
       "      <td>3797467345</td>\n",
       "      <td>1196621759</td>\n",
       "      <td>2019-08-15</td>\n",
       "      <td>9759</td>\n",
       "      <td>B</td>\n",
       "    </tr>\n",
       "    <tr>\n",
       "      <th>4</th>\n",
       "      <td>2282983706</td>\n",
       "      <td>2322279887</td>\n",
       "      <td>2019-08-15</td>\n",
       "      <td>2308</td>\n",
       "      <td>B</td>\n",
       "    </tr>\n",
       "  </tbody>\n",
       "</table>\n",
       "</div>"
      ],
      "text/plain": [
       "   transactionId   visitorId       date  revenue group\n",
       "0     3667963787  3312258926 2019-08-15     1650     B\n",
       "1     2804400009  3642806036 2019-08-15      730     B\n",
       "2     2961555356  4069496402 2019-08-15      400     A\n",
       "3     3797467345  1196621759 2019-08-15     9759     B\n",
       "4     2282983706  2322279887 2019-08-15     2308     B"
      ]
     },
     "execution_count": 534,
     "metadata": {},
     "output_type": "execute_result"
    }
   ],
   "source": [
    "orders = pd.read_csv('/datasets/orders.csv', parse_dates=['date'])\n",
    "visitors = pd.read_csv('/datasets/visitors.csv', parse_dates=['date'])\n",
    "orders[:5]"
   ]
  },
  {
   "cell_type": "code",
   "execution_count": 535,
   "metadata": {},
   "outputs": [
    {
     "data": {
      "text/html": [
       "<div>\n",
       "<style scoped>\n",
       "    .dataframe tbody tr th:only-of-type {\n",
       "        vertical-align: middle;\n",
       "    }\n",
       "\n",
       "    .dataframe tbody tr th {\n",
       "        vertical-align: top;\n",
       "    }\n",
       "\n",
       "    .dataframe thead th {\n",
       "        text-align: right;\n",
       "    }\n",
       "</style>\n",
       "<table border=\"1\" class=\"dataframe\">\n",
       "  <thead>\n",
       "    <tr style=\"text-align: right;\">\n",
       "      <th></th>\n",
       "      <th>date</th>\n",
       "      <th>group</th>\n",
       "      <th>visitors</th>\n",
       "    </tr>\n",
       "  </thead>\n",
       "  <tbody>\n",
       "    <tr>\n",
       "      <th>0</th>\n",
       "      <td>2019-08-01</td>\n",
       "      <td>A</td>\n",
       "      <td>719</td>\n",
       "    </tr>\n",
       "    <tr>\n",
       "      <th>1</th>\n",
       "      <td>2019-08-02</td>\n",
       "      <td>A</td>\n",
       "      <td>619</td>\n",
       "    </tr>\n",
       "    <tr>\n",
       "      <th>2</th>\n",
       "      <td>2019-08-03</td>\n",
       "      <td>A</td>\n",
       "      <td>507</td>\n",
       "    </tr>\n",
       "    <tr>\n",
       "      <th>3</th>\n",
       "      <td>2019-08-04</td>\n",
       "      <td>A</td>\n",
       "      <td>717</td>\n",
       "    </tr>\n",
       "    <tr>\n",
       "      <th>4</th>\n",
       "      <td>2019-08-05</td>\n",
       "      <td>A</td>\n",
       "      <td>756</td>\n",
       "    </tr>\n",
       "  </tbody>\n",
       "</table>\n",
       "</div>"
      ],
      "text/plain": [
       "        date group  visitors\n",
       "0 2019-08-01     A       719\n",
       "1 2019-08-02     A       619\n",
       "2 2019-08-03     A       507\n",
       "3 2019-08-04     A       717\n",
       "4 2019-08-05     A       756"
      ]
     },
     "execution_count": 535,
     "metadata": {},
     "output_type": "execute_result"
    }
   ],
   "source": [
    "visitors[:5]"
   ]
  },
  {
   "cell_type": "code",
   "execution_count": 536,
   "metadata": {
    "scrolled": false
   },
   "outputs": [
    {
     "name": "stdout",
     "output_type": "stream",
     "text": [
      "<class 'pandas.core.frame.DataFrame'>\n",
      "RangeIndex: 1197 entries, 0 to 1196\n",
      "Data columns (total 5 columns):\n",
      " #   Column         Non-Null Count  Dtype         \n",
      "---  ------         --------------  -----         \n",
      " 0   transactionId  1197 non-null   int64         \n",
      " 1   visitorId      1197 non-null   int64         \n",
      " 2   date           1197 non-null   datetime64[ns]\n",
      " 3   revenue        1197 non-null   int64         \n",
      " 4   group          1197 non-null   object        \n",
      "dtypes: datetime64[ns](1), int64(3), object(1)\n",
      "memory usage: 46.9+ KB\n"
     ]
    }
   ],
   "source": [
    "orders.info()"
   ]
  },
  {
   "cell_type": "code",
   "execution_count": 537,
   "metadata": {
    "scrolled": true
   },
   "outputs": [
    {
     "data": {
      "text/plain": [
       "0"
      ]
     },
     "execution_count": 537,
     "metadata": {},
     "output_type": "execute_result"
    }
   ],
   "source": [
    "orders.duplicated().sum()"
   ]
  },
  {
   "cell_type": "code",
   "execution_count": 538,
   "metadata": {
    "scrolled": false
   },
   "outputs": [
    {
     "data": {
      "text/plain": [
       "transactionId    0\n",
       "visitorId        0\n",
       "date             0\n",
       "revenue          0\n",
       "group            0\n",
       "dtype: int64"
      ]
     },
     "execution_count": 538,
     "metadata": {},
     "output_type": "execute_result"
    }
   ],
   "source": [
    "orders.isna().sum()"
   ]
  },
  {
   "cell_type": "markdown",
   "metadata": {},
   "source": [
    "<div class=\"alert alert-info\">\n",
    "   В таблице данных о продажах orders не выявлено дубликатов строк и пропусков. Типы данных в столбцах верные.\n",
    "</div>"
   ]
  },
  {
   "cell_type": "code",
   "execution_count": 539,
   "metadata": {
    "scrolled": true
   },
   "outputs": [
    {
     "data": {
      "text/plain": [
       "1031"
      ]
     },
     "execution_count": 539,
     "metadata": {},
     "output_type": "execute_result"
    }
   ],
   "source": [
    "len(orders['visitorId'].unique())"
   ]
  },
  {
   "cell_type": "code",
   "execution_count": 540,
   "metadata": {
    "scrolled": true
   },
   "outputs": [
    {
     "data": {
      "text/plain": [
       "166"
      ]
     },
     "execution_count": 540,
     "metadata": {},
     "output_type": "execute_result"
    }
   ],
   "source": [
    "duplicates = orders[orders.duplicated(['visitorId'])]\n",
    "len(duplicates['visitorId'])"
   ]
  },
  {
   "cell_type": "code",
   "execution_count": 541,
   "metadata": {
    "scrolled": true
   },
   "outputs": [
    {
     "data": {
      "text/plain": [
       "54"
      ]
     },
     "execution_count": 541,
     "metadata": {},
     "output_type": "execute_result"
    }
   ],
   "source": [
    "duplicatesA = orders.query('group == \"A\"')[orders.query('group == \"A\"').duplicated(['visitorId'])]\n",
    "len(duplicatesA['visitorId'])"
   ]
  },
  {
   "cell_type": "code",
   "execution_count": 542,
   "metadata": {},
   "outputs": [
    {
     "data": {
      "text/plain": [
       "54"
      ]
     },
     "execution_count": 542,
     "metadata": {},
     "output_type": "execute_result"
    }
   ],
   "source": [
    "duplicatesB = orders.query('group == \"B\"')[orders.query('group == \"B\"').duplicated(['visitorId'])]\n",
    "len(duplicatesB['visitorId'])"
   ]
  },
  {
   "cell_type": "code",
   "execution_count": 543,
   "metadata": {
    "scrolled": true
   },
   "outputs": [
    {
     "data": {
      "text/plain": [
       "94"
      ]
     },
     "execution_count": 543,
     "metadata": {},
     "output_type": "execute_result"
    }
   ],
   "source": [
    "duplicates = orders[orders.duplicated(['visitorId'])]\n",
    "len(duplicates['visitorId'].unique())"
   ]
  },
  {
   "cell_type": "code",
   "execution_count": 544,
   "metadata": {},
   "outputs": [
    {
     "data": {
      "text/plain": [
       "(58, 183)"
      ]
     },
     "execution_count": 544,
     "metadata": {},
     "output_type": "execute_result"
    }
   ],
   "source": [
    "d = []\n",
    "for i in orders.query('group == \"A\"')['visitorId']:\n",
    "    for j in orders.query('group == \"B\"')['visitorId']:\n",
    "        if i == j:\n",
    "            d.append(i)\n",
    "dd = set(d)\n",
    "len(dd), len(d)"
   ]
  },
  {
   "cell_type": "code",
   "execution_count": 545,
   "metadata": {},
   "outputs": [
    {
     "data": {
      "text/plain": [
       "1016"
      ]
     },
     "execution_count": 545,
     "metadata": {},
     "output_type": "execute_result"
    }
   ],
   "source": [
    "orders = orders[~orders['visitorId'].isin(dd)]\n",
    "len(orders['visitorId'])"
   ]
  },
  {
   "cell_type": "code",
   "execution_count": 546,
   "metadata": {},
   "outputs": [
    {
     "data": {
      "text/plain": [
       "23"
      ]
     },
     "execution_count": 546,
     "metadata": {},
     "output_type": "execute_result"
    }
   ],
   "source": [
    "duplicatesA = orders.query('group == \"A\"')[orders.query('group == \"A\"').duplicated(['visitorId'])]\n",
    "len(duplicatesA['visitorId'])"
   ]
  },
  {
   "cell_type": "code",
   "execution_count": 547,
   "metadata": {},
   "outputs": [
    {
     "data": {
      "text/plain": [
       "20"
      ]
     },
     "execution_count": 547,
     "metadata": {},
     "output_type": "execute_result"
    }
   ],
   "source": [
    "duplicatesB = orders.query('group == \"B\"')[orders.query('group == \"B\"').duplicated(['visitorId'])]\n",
    "len(duplicatesB['visitorId'])"
   ]
  },
  {
   "cell_type": "markdown",
   "metadata": {},
   "source": [
    "<div class=\"alert alert-info\">\n",
    "   Таблица с заказами orders содержит 166 дубликатов в столбце 'visitorId'. Из них в таблицах A и В содержится по 54 дубликата,\n",
    "а также присутствует 183 смежных (перекрестных) дубликатов, принадлежащих 58 клиентам. Перекрестные дубликаты удалялись вместе с\n",
    "оригинальными ID, так как не ясно к какой группе отнести оригинальный ID. После удаления смежных дубликатов в столбце \n",
    "'visitorId' группы А осталось 23 дубликата и 20 дубликатов группы В, которые соответствуют клиентам, совершившим более 1 покупки.\n",
    "</div>"
   ]
  },
  {
   "cell_type": "code",
   "execution_count": 548,
   "metadata": {
    "scrolled": false
   },
   "outputs": [
    {
     "name": "stdout",
     "output_type": "stream",
     "text": [
      "<class 'pandas.core.frame.DataFrame'>\n",
      "RangeIndex: 62 entries, 0 to 61\n",
      "Data columns (total 3 columns):\n",
      " #   Column    Non-Null Count  Dtype         \n",
      "---  ------    --------------  -----         \n",
      " 0   date      62 non-null     datetime64[ns]\n",
      " 1   group     62 non-null     object        \n",
      " 2   visitors  62 non-null     int64         \n",
      "dtypes: datetime64[ns](1), int64(1), object(1)\n",
      "memory usage: 1.6+ KB\n"
     ]
    }
   ],
   "source": [
    "visitors.info()"
   ]
  },
  {
   "cell_type": "code",
   "execution_count": 549,
   "metadata": {
    "scrolled": true
   },
   "outputs": [
    {
     "data": {
      "text/plain": [
       "0"
      ]
     },
     "execution_count": 549,
     "metadata": {},
     "output_type": "execute_result"
    }
   ],
   "source": [
    "visitors.duplicated().sum()"
   ]
  },
  {
   "cell_type": "code",
   "execution_count": 550,
   "metadata": {
    "scrolled": true
   },
   "outputs": [
    {
     "data": {
      "text/plain": [
       "date        0\n",
       "group       0\n",
       "visitors    0\n",
       "dtype: int64"
      ]
     },
     "execution_count": 550,
     "metadata": {},
     "output_type": "execute_result"
    }
   ],
   "source": [
    "visitors.isna().sum()"
   ]
  },
  {
   "cell_type": "markdown",
   "metadata": {},
   "source": [
    "<div class=\"alert alert-info\">\n",
    "   В таблице данных о ежедневном количестве клиентов visitors не выявлено дубликатов строк и пропусков. Типы данных в столбцах\n",
    "верные.\n",
    "</div>"
   ]
  },
  {
   "cell_type": "markdown",
   "metadata": {},
   "source": [
    "<div class=\"alert alert-info\">\n",
    "  <b> Сравнение кумулятивной выручки разных групп клиентов </b>\n",
    "    <a id=\"conc\"></a>\n",
    "</div>"
   ]
  },
  {
   "cell_type": "code",
   "execution_count": 551,
   "metadata": {},
   "outputs": [
    {
     "data": {
      "text/html": [
       "<div>\n",
       "<style scoped>\n",
       "    .dataframe tbody tr th:only-of-type {\n",
       "        vertical-align: middle;\n",
       "    }\n",
       "\n",
       "    .dataframe tbody tr th {\n",
       "        vertical-align: top;\n",
       "    }\n",
       "\n",
       "    .dataframe thead th {\n",
       "        text-align: right;\n",
       "    }\n",
       "</style>\n",
       "<table border=\"1\" class=\"dataframe\">\n",
       "  <thead>\n",
       "    <tr style=\"text-align: right;\">\n",
       "      <th></th>\n",
       "      <th>date</th>\n",
       "      <th>revenueA</th>\n",
       "      <th>revenueB</th>\n",
       "    </tr>\n",
       "  </thead>\n",
       "  <tbody>\n",
       "    <tr>\n",
       "      <th>0</th>\n",
       "      <td>2019-08-01</td>\n",
       "      <td>142779</td>\n",
       "      <td>59758</td>\n",
       "    </tr>\n",
       "    <tr>\n",
       "      <th>1</th>\n",
       "      <td>2019-08-02</td>\n",
       "      <td>91602</td>\n",
       "      <td>162043</td>\n",
       "    </tr>\n",
       "    <tr>\n",
       "      <th>2</th>\n",
       "      <td>2019-08-03</td>\n",
       "      <td>112473</td>\n",
       "      <td>67049</td>\n",
       "    </tr>\n",
       "    <tr>\n",
       "      <th>3</th>\n",
       "      <td>2019-08-04</td>\n",
       "      <td>41176</td>\n",
       "      <td>96890</td>\n",
       "    </tr>\n",
       "    <tr>\n",
       "      <th>4</th>\n",
       "      <td>2019-08-05</td>\n",
       "      <td>86383</td>\n",
       "      <td>89908</td>\n",
       "    </tr>\n",
       "  </tbody>\n",
       "</table>\n",
       "</div>"
      ],
      "text/plain": [
       "        date  revenueA  revenueB\n",
       "0 2019-08-01    142779     59758\n",
       "1 2019-08-02     91602    162043\n",
       "2 2019-08-03    112473     67049\n",
       "3 2019-08-04     41176     96890\n",
       "4 2019-08-05     86383     89908"
      ]
     },
     "execution_count": 551,
     "metadata": {},
     "output_type": "execute_result"
    }
   ],
   "source": [
    "df_a = orders[orders['group'] == 'A'].groupby('date', as_index = False).agg({'revenue':'sum'})\n",
    "df_b = orders[orders['group'] == 'B'].groupby('date', as_index = False).agg({'revenue':'sum'})\n",
    "df_ab = df_a.merge(df_b, left_on='date', right_on='date', how='left', suffixes=['A', 'B'])\n",
    "df_ab[:5]"
   ]
  },
  {
   "cell_type": "code",
   "execution_count": 552,
   "metadata": {},
   "outputs": [
    {
     "data": {
      "image/png": "[encoded data removed]",
      "text/plain": [
       "<Figure size 1200x480 with 1 Axes>"
      ]
     },
     "metadata": {
      "needs_background": "light"
     },
     "output_type": "display_data"
    }
   ],
   "source": [
    "plt.figure(figsize=(15, 6), dpi=80)\n",
    "plt.plot(df_ab['date'], df_ab['revenueA'], label = 'A')\n",
    "plt.plot(df_ab['date'], df_ab['revenueB'], label = 'B')\n",
    "plt.legend(loc = 'upper right', title = 'Группы', fontsize = 15)\n",
    "plt.ylabel('Ежедневная выручка', fontsize = 15)\n",
    "plt.title('Динамика ежедневной выручки интернет-магазина', fontsize = 16)\n",
    "plt.xlabel('Дата', fontsize = 15);"
   ]
  },
  {
   "cell_type": "markdown",
   "metadata": {},
   "source": [
    "<div class=\"alert alert-info\">\n",
    "  Изучение диаграммы ежедневной выручки интернет-магазина не позволяет сделать вывод о сравнительной эффективности двух \n",
    "групп клиентов (А и В). Можно только сказать, что в группе В присутствуют аномалоьные выбросы (групные покупки) в период \n",
    "между 17.08.2019 и 21.08.2019. \n",
    "</div>"
   ]
  },
  {
   "cell_type": "code",
   "execution_count": 553,
   "metadata": {},
   "outputs": [],
   "source": [
    "order_drop = orders[['date', 'group']].drop_duplicates().sort_values(by = 'date')\n",
    "order_a = order_drop[order_drop['group'] == 'A'].apply(lambda x: orders[np.logical_and(orders['date']<=x['date'],\\\n",
    "        orders['group'] == x['group'])].agg({'date':'max', 'group':'max', 'transactionId':'nunique', 'revenue':'sum'}), axis = 1)\n",
    "order_b = order_drop[order_drop['group'] == 'B'].apply(lambda x: orders[np.logical_and(orders['date']<=x['date'],\\\n",
    "        orders['group'] == x['group'])].agg({'date':'max', 'group':'max', 'transactionId':'nunique', 'revenue':'sum'}), axis = 1)"
   ]
  },
  {
   "cell_type": "code",
   "execution_count": 554,
   "metadata": {},
   "outputs": [
    {
     "data": {
      "text/html": [
       "<div>\n",
       "<style scoped>\n",
       "    .dataframe tbody tr th:only-of-type {\n",
       "        vertical-align: middle;\n",
       "    }\n",
       "\n",
       "    .dataframe tbody tr th {\n",
       "        vertical-align: top;\n",
       "    }\n",
       "\n",
       "    .dataframe thead th {\n",
       "        text-align: right;\n",
       "    }\n",
       "</style>\n",
       "<table border=\"1\" class=\"dataframe\">\n",
       "  <thead>\n",
       "    <tr style=\"text-align: right;\">\n",
       "      <th></th>\n",
       "      <th>date</th>\n",
       "      <th>groupA</th>\n",
       "      <th>transactionIdA</th>\n",
       "      <th>revenueA</th>\n",
       "      <th>groupB</th>\n",
       "      <th>transactionIdB</th>\n",
       "      <th>revenueB</th>\n",
       "    </tr>\n",
       "  </thead>\n",
       "  <tbody>\n",
       "    <tr>\n",
       "      <th>0</th>\n",
       "      <td>2019-08-01</td>\n",
       "      <td>A</td>\n",
       "      <td>23</td>\n",
       "      <td>142779</td>\n",
       "      <td>B</td>\n",
       "      <td>17</td>\n",
       "      <td>59758</td>\n",
       "    </tr>\n",
       "    <tr>\n",
       "      <th>1</th>\n",
       "      <td>2019-08-02</td>\n",
       "      <td>A</td>\n",
       "      <td>42</td>\n",
       "      <td>234381</td>\n",
       "      <td>B</td>\n",
       "      <td>40</td>\n",
       "      <td>221801</td>\n",
       "    </tr>\n",
       "    <tr>\n",
       "      <th>2</th>\n",
       "      <td>2019-08-03</td>\n",
       "      <td>A</td>\n",
       "      <td>66</td>\n",
       "      <td>346854</td>\n",
       "      <td>B</td>\n",
       "      <td>54</td>\n",
       "      <td>288850</td>\n",
       "    </tr>\n",
       "    <tr>\n",
       "      <th>3</th>\n",
       "      <td>2019-08-04</td>\n",
       "      <td>A</td>\n",
       "      <td>77</td>\n",
       "      <td>388030</td>\n",
       "      <td>B</td>\n",
       "      <td>68</td>\n",
       "      <td>385740</td>\n",
       "    </tr>\n",
       "    <tr>\n",
       "      <th>4</th>\n",
       "      <td>2019-08-05</td>\n",
       "      <td>A</td>\n",
       "      <td>99</td>\n",
       "      <td>474413</td>\n",
       "      <td>B</td>\n",
       "      <td>89</td>\n",
       "      <td>475648</td>\n",
       "    </tr>\n",
       "  </tbody>\n",
       "</table>\n",
       "</div>"
      ],
      "text/plain": [
       "        date groupA  transactionIdA  revenueA groupB  transactionIdB  revenueB\n",
       "0 2019-08-01      A              23    142779      B              17     59758\n",
       "1 2019-08-02      A              42    234381      B              40    221801\n",
       "2 2019-08-03      A              66    346854      B              54    288850\n",
       "3 2019-08-04      A              77    388030      B              68    385740\n",
       "4 2019-08-05      A              99    474413      B              89    475648"
      ]
     },
     "execution_count": 554,
     "metadata": {},
     "output_type": "execute_result"
    }
   ],
   "source": [
    "order_ab = order_a.merge(order_b, left_on='date', right_on='date', how='left', suffixes=['A', 'B'])\n",
    "order_ab[:5]"
   ]
  },
  {
   "cell_type": "code",
   "execution_count": 555,
   "metadata": {
    "scrolled": true
   },
   "outputs": [
    {
     "data": {
      "image/png": "[encoded data removed]",
      "text/plain": [
       "<Figure size 1200x480 with 1 Axes>"
      ]
     },
     "metadata": {
      "needs_background": "light"
     },
     "output_type": "display_data"
    }
   ],
   "source": [
    "plt.figure(figsize=(15, 6), dpi=80)\n",
    "plt.plot(order_ab['date'], order_ab['revenueA'], label = 'A')\n",
    "plt.plot(order_ab['date'], order_ab['revenueB'], label = 'B')\n",
    "plt.legend(loc = 'upper right', title = 'Группы', fontsize = 15)\n",
    "plt.ylabel('Кумулятивная выручка', fontsize = 15)\n",
    "plt.title('Динамика кумулятивной выручки интернет-магазина', fontsize = 16)\n",
    "plt.xlabel('Дата', fontsize = 15);"
   ]
  },
  {
   "cell_type": "markdown",
   "metadata": {},
   "source": [
    "<div class=\"alert alert-info\">\n",
    "    Кумулятивная выручка интернет-магазина от клиентов группы В нарастает гораздо быстрее, по сравнению с клиентами группы А.\n",
    "Если до 13.08.2019 развитие кумулятивной выручки для обеих групп происходило параллельно, то после этой даты различие в выручках\n",
    "становится отчетливо заметно и далее разрыв между группами А и В только нарастает.\n",
    "</div>"
   ]
  },
  {
   "cell_type": "code",
   "execution_count": 556,
   "metadata": {},
   "outputs": [
    {
     "data": {
      "image/png": "[encoded data removed]",
      "text/plain": [
       "<Figure size 1200x480 with 1 Axes>"
      ]
     },
     "metadata": {
      "needs_background": "light"
     },
     "output_type": "display_data"
    }
   ],
   "source": [
    "plt.figure(figsize=(15, 6), dpi=80)\n",
    "plt.plot(order_ab['date'], order_ab['revenueB']/order_ab['revenueA'] - 1)\n",
    "plt.ylabel('Относительная кумулятивная выручка', fontsize = 15)\n",
    "plt.title('Динамика относительной кумулятивной выручки интернет-магазина', fontsize = 16)\n",
    "plt.xlabel('Дата', fontsize = 15)\n",
    "plt.axhline(y=0, color='black', linestyle='--');"
   ]
  },
  {
   "cell_type": "markdown",
   "metadata": {},
   "source": [
    "<div class=\"alert alert-info\">\n",
    "  Графики динамики кумулятивной выручки для обеих групп и график изменения относительной кумулятивной выручки свидетельствуют\n",
    "о том, что скорость накопления выручки в группе B существенной превосходит скорость накопления выручки в группе А. Не смотря\n",
    "на неусточивую динамику нарастания относительной выручки, которая характеризуется наличием нескольких экстремумов, в целом,\n",
    "данный показатель в период эксперимента отчетливо повышается, что свидетельствует о преимуществе клиентского подхода в \n",
    "группе В. \n",
    "</div>"
   ]
  },
  {
   "cell_type": "markdown",
   "metadata": {},
   "source": [
    "<div class=\"alert alert-info\">\n",
    "  <b> Распределение кумулятивного среднего чека в группах </b>\n",
    "    <a id=\"check\"></a>\n",
    "</div>"
   ]
  },
  {
   "cell_type": "code",
   "execution_count": 557,
   "metadata": {},
   "outputs": [],
   "source": [
    "order_ab['checkA'] = order_ab['revenueA']/order_ab['transactionIdA'] \n",
    "order_ab['checkB'] = order_ab['revenueB']/order_ab['transactionIdB'] "
   ]
  },
  {
   "cell_type": "code",
   "execution_count": 558,
   "metadata": {},
   "outputs": [
    {
     "data": {
      "image/png": "[encoded data removed]",
      "text/plain": [
       "<Figure size 1200x480 with 1 Axes>"
      ]
     },
     "metadata": {
      "needs_background": "light"
     },
     "output_type": "display_data"
    }
   ],
   "source": [
    "plt.figure(figsize=(15, 6), dpi=80)\n",
    "plt.plot(order_ab['date'], order_ab['checkA'], label = 'A')\n",
    "plt.plot(order_ab['date'], order_ab['checkB'], label = 'B')\n",
    "plt.legend(loc = 'upper right', title = 'Группы', fontsize = 15)\n",
    "plt.ylabel('Кумулятивный средний чек', fontsize = 15)\n",
    "plt.title('Динамика кумулятивного среднего чека интернет-магазина', fontsize = 16)\n",
    "plt.xlabel('Дата', fontsize = 15);"
   ]
  },
  {
   "cell_type": "code",
   "execution_count": 559,
   "metadata": {},
   "outputs": [
    {
     "data": {
      "image/png": "[encoded data removed]",
      "text/plain": [
       "<Figure size 1200x480 with 1 Axes>"
      ]
     },
     "metadata": {
      "needs_background": "light"
     },
     "output_type": "display_data"
    }
   ],
   "source": [
    "plt.figure(figsize=(15, 6), dpi=80)\n",
    "plt.plot(order_ab['date'], order_ab['checkB']/order_ab['checkA'] - 1)\n",
    "plt.ylabel('Относительный кумулятивный средний чек', fontsize = 15)\n",
    "plt.title('Динамика относительного кумулятивного среднего чека интернет-магазина', fontsize = 16)\n",
    "plt.xlabel('Дата', fontsize = 15)\n",
    "plt.axhline(y=0, color='black', linestyle='--');"
   ]
  },
  {
   "cell_type": "markdown",
   "metadata": {},
   "source": [
    "<div class=\"alert alert-info\">\n",
    "  Изменение кумулятивного среднего чека в группах сравнения показывает, что скорость роста среднего чека в группе В существенно\n",
    "превышает скорость роста среднего чека в группе А, повторяя тенденции, обнаруженные на диаграмме роста кумулятивной выручки. \n",
    "Аналоги.но себя ведет относительный средний чек, который, не смотря на минимум от 13.08.2019, имеет тенденцию к росту,\n",
    "свидетельствуя о повышении продаж в группе B, по сравнению с группой А.\n",
    "</div>."
   ]
  },
  {
   "cell_type": "markdown",
   "metadata": {},
   "source": [
    "<div class=\"alert alert-info\">\n",
    "  <b> Динамика изменения кумулятивного среднего числа заказов на посетителя интернет-магазина </b>\n",
    "    <a id=\"check1\"></a>\n",
    "</div>"
   ]
  },
  {
   "cell_type": "code",
   "execution_count": 560,
   "metadata": {},
   "outputs": [],
   "source": [
    "visitors_n = visitors[['date', 'group']]\n",
    "visitors_a = visitors_n[visitors_n['group'] == 'A'].drop_duplicates().sort_values(by = 'date')\n",
    "visitors_a = visitors_a.apply(lambda x: visitors[np.logical_and(visitors['group'] == x['group'], visitors['date'] <= x['date'])].\\\n",
    "             agg({'date':'max','group':'max','visitors':\"sum\"}), axis = 1).sort_values(by = 'date')\n",
    "visitors_b = visitors_n[visitors_n['group'] == 'B'].drop_duplicates()\n",
    "visitors_b = visitors_b.apply(lambda x: visitors[np.logical_and(visitors['group'] == x['group'], visitors['date'] <= x['date'])].\\\n",
    "             agg({'date':'max','group':'max','visitors':\"sum\"}), axis = 1).sort_values(by = 'date')\n",
    "visitors_ab = visitors_a[['date','visitors']].merge(visitors_b[['date','visitors']], left_on = 'date',  right_on = 'date', \\\n",
    "              how = 'left', suffixes = ['A','B'])"
   ]
  },
  {
   "cell_type": "code",
   "execution_count": 561,
   "metadata": {},
   "outputs": [
    {
     "data": {
      "text/html": [
       "<div>\n",
       "<style scoped>\n",
       "    .dataframe tbody tr th:only-of-type {\n",
       "        vertical-align: middle;\n",
       "    }\n",
       "\n",
       "    .dataframe tbody tr th {\n",
       "        vertical-align: top;\n",
       "    }\n",
       "\n",
       "    .dataframe thead th {\n",
       "        text-align: right;\n",
       "    }\n",
       "</style>\n",
       "<table border=\"1\" class=\"dataframe\">\n",
       "  <thead>\n",
       "    <tr style=\"text-align: right;\">\n",
       "      <th></th>\n",
       "      <th>date</th>\n",
       "      <th>groupA</th>\n",
       "      <th>transactionIdA</th>\n",
       "      <th>revenueA</th>\n",
       "      <th>groupB</th>\n",
       "      <th>transactionIdB</th>\n",
       "      <th>revenueB</th>\n",
       "      <th>checkA</th>\n",
       "      <th>checkB</th>\n",
       "      <th>visitorsA</th>\n",
       "      <th>visitorsB</th>\n",
       "      <th>order/vis_a</th>\n",
       "      <th>order/vis_b</th>\n",
       "    </tr>\n",
       "  </thead>\n",
       "  <tbody>\n",
       "    <tr>\n",
       "      <th>0</th>\n",
       "      <td>2019-08-01</td>\n",
       "      <td>A</td>\n",
       "      <td>23</td>\n",
       "      <td>142779</td>\n",
       "      <td>B</td>\n",
       "      <td>17</td>\n",
       "      <td>59758</td>\n",
       "      <td>6207.782609</td>\n",
       "      <td>3515.176471</td>\n",
       "      <td>719</td>\n",
       "      <td>713</td>\n",
       "      <td>0.031989</td>\n",
       "      <td>0.023843</td>\n",
       "    </tr>\n",
       "    <tr>\n",
       "      <th>1</th>\n",
       "      <td>2019-08-02</td>\n",
       "      <td>A</td>\n",
       "      <td>42</td>\n",
       "      <td>234381</td>\n",
       "      <td>B</td>\n",
       "      <td>40</td>\n",
       "      <td>221801</td>\n",
       "      <td>5580.500000</td>\n",
       "      <td>5545.025000</td>\n",
       "      <td>1338</td>\n",
       "      <td>1294</td>\n",
       "      <td>0.031390</td>\n",
       "      <td>0.030912</td>\n",
       "    </tr>\n",
       "    <tr>\n",
       "      <th>2</th>\n",
       "      <td>2019-08-03</td>\n",
       "      <td>A</td>\n",
       "      <td>66</td>\n",
       "      <td>346854</td>\n",
       "      <td>B</td>\n",
       "      <td>54</td>\n",
       "      <td>288850</td>\n",
       "      <td>5255.363636</td>\n",
       "      <td>5349.074074</td>\n",
       "      <td>1845</td>\n",
       "      <td>1803</td>\n",
       "      <td>0.035772</td>\n",
       "      <td>0.029950</td>\n",
       "    </tr>\n",
       "    <tr>\n",
       "      <th>3</th>\n",
       "      <td>2019-08-04</td>\n",
       "      <td>A</td>\n",
       "      <td>77</td>\n",
       "      <td>388030</td>\n",
       "      <td>B</td>\n",
       "      <td>68</td>\n",
       "      <td>385740</td>\n",
       "      <td>5039.350649</td>\n",
       "      <td>5672.647059</td>\n",
       "      <td>2562</td>\n",
       "      <td>2573</td>\n",
       "      <td>0.030055</td>\n",
       "      <td>0.026428</td>\n",
       "    </tr>\n",
       "    <tr>\n",
       "      <th>4</th>\n",
       "      <td>2019-08-05</td>\n",
       "      <td>A</td>\n",
       "      <td>99</td>\n",
       "      <td>474413</td>\n",
       "      <td>B</td>\n",
       "      <td>89</td>\n",
       "      <td>475648</td>\n",
       "      <td>4792.050505</td>\n",
       "      <td>5344.359551</td>\n",
       "      <td>3318</td>\n",
       "      <td>3280</td>\n",
       "      <td>0.029837</td>\n",
       "      <td>0.027134</td>\n",
       "    </tr>\n",
       "  </tbody>\n",
       "</table>\n",
       "</div>"
      ],
      "text/plain": [
       "        date groupA  transactionIdA  revenueA groupB  transactionIdB  \\\n",
       "0 2019-08-01      A              23    142779      B              17   \n",
       "1 2019-08-02      A              42    234381      B              40   \n",
       "2 2019-08-03      A              66    346854      B              54   \n",
       "3 2019-08-04      A              77    388030      B              68   \n",
       "4 2019-08-05      A              99    474413      B              89   \n",
       "\n",
       "   revenueB       checkA       checkB  visitorsA  visitorsB  order/vis_a  \\\n",
       "0     59758  6207.782609  3515.176471        719        713     0.031989   \n",
       "1    221801  5580.500000  5545.025000       1338       1294     0.031390   \n",
       "2    288850  5255.363636  5349.074074       1845       1803     0.035772   \n",
       "3    385740  5039.350649  5672.647059       2562       2573     0.030055   \n",
       "4    475648  4792.050505  5344.359551       3318       3280     0.029837   \n",
       "\n",
       "   order/vis_b  \n",
       "0     0.023843  \n",
       "1     0.030912  \n",
       "2     0.029950  \n",
       "3     0.026428  \n",
       "4     0.027134  "
      ]
     },
     "execution_count": 561,
     "metadata": {},
     "output_type": "execute_result"
    }
   ],
   "source": [
    "order_vis = order_ab.merge(visitors_ab, left_on = 'date', right_on = 'date', how = 'left')\n",
    "order_vis['order/vis_a'] = order_vis['transactionIdA']/order_vis['visitorsA']\n",
    "order_vis['order/vis_b'] = order_vis['transactionIdB']/order_vis['visitorsB']\n",
    "order_vis[:5]"
   ]
  },
  {
   "cell_type": "code",
   "execution_count": 562,
   "metadata": {},
   "outputs": [
    {
     "data": {
      "image/png": "[encoded data removed]",
      "text/plain": [
       "<Figure size 1200x480 with 1 Axes>"
      ]
     },
     "metadata": {
      "needs_background": "light"
     },
     "output_type": "display_data"
    }
   ],
   "source": [
    "plt.figure(figsize=(15, 6), dpi=80)\n",
    "plt.plot(order_vis['date'], order_vis['order/vis_a'], label = 'A')\n",
    "plt.plot(order_vis['date'], order_vis['order/vis_b'], label = 'B')\n",
    "plt.legend(loc = 'upper right', title = 'Группы', fontsize = 15)\n",
    "plt.ylabel('Кумулятивное среднее число заказов на пользователя', fontsize = 10)\n",
    "plt.title('Динамика кумулятивного среднего количества заказов на клиента интернет-магазина', fontsize = 16)\n",
    "plt.xlabel('Дата', fontsize = 15);"
   ]
  },
  {
   "cell_type": "code",
   "execution_count": 563,
   "metadata": {},
   "outputs": [
    {
     "data": {
      "image/png": "[encoded data removed]",
      "text/plain": [
       "<Figure size 1200x480 with 1 Axes>"
      ]
     },
     "metadata": {
      "needs_background": "light"
     },
     "output_type": "display_data"
    }
   ],
   "source": [
    "plt.figure(figsize=(15, 6), dpi=80)\n",
    "plt.plot(order_vis['date'], order_vis['order/vis_b']/order_vis['order/vis_a'] - 1)\n",
    "plt.ylabel('Относительное кумулятивное число заказов на клиента ', fontsize = 10)\n",
    "plt.title('Динамика относительного кумулятивного числа заказов на клиента интернет-магазина', fontsize = 16)\n",
    "plt.xlabel('Дата', fontsize = 15)\n",
    "plt.axhline(y=0, color='black', linestyle='--');"
   ]
  },
  {
   "cell_type": "markdown",
   "metadata": {},
   "source": [
    "<div class=\"alert alert-info\">\n",
    "  Кумулятивные кривые динамики изменения среднего числа заказов на посетителя интернет-магазина имеют зеркальный характер и \n",
    "свидетельствует о нарастании со времененм удельного числа заказов в группе В и, соответственно, о снижении удельного количества\n",
    "заказов в группе А. Кривая относительного изменения удельного числа заказов подтверждает данную тенденцию и показывает, что,\n",
    "начиная с 09.08.2019, удельное количество заказов в группе В стабильно на 15 - 20 % выше, по сравнению с удельным числом\n",
    "заказов в группе А. \n",
    "</div>"
   ]
  },
  {
   "cell_type": "markdown",
   "metadata": {},
   "source": [
    "<div class=\"alert alert-info\">\n",
    "  <b> Точечное распределение заказов по клиентам </b>\n",
    "    <a id=\"check2\"></a>\n",
    "</div>"
   ]
  },
  {
   "cell_type": "code",
   "execution_count": 564,
   "metadata": {},
   "outputs": [],
   "source": [
    "df_oa = orders[orders['group'] == 'A'].groupby('visitorId', as_index = False).agg({'transactionId':'nunique'})\n",
    "df_ob = orders[orders['group'] == 'B'].groupby('visitorId', as_index = False).agg({'transactionId':'nunique'})"
   ]
  },
  {
   "cell_type": "code",
   "execution_count": 565,
   "metadata": {
    "scrolled": true
   },
   "outputs": [
    {
     "data": {
      "image/png": "[encoded data removed]",
      "text/plain": [
       "<Figure size 960x480 with 1 Axes>"
      ]
     },
     "metadata": {
      "needs_background": "light"
     },
     "output_type": "display_data"
    }
   ],
   "source": [
    "plt.figure(figsize=(12, 6), dpi=80)\n",
    "d = range(len(df_oa))\n",
    "plt.scatter(d, df_oa['transactionId']);\n",
    "plt.title('Точечная диаграмма числа заказов группы А', fontsize = 15)\n",
    "plt.xlabel('Номер клиента', fontsize=15)\n",
    "plt.ylabel('Число заказов', fontsize=15);"
   ]
  },
  {
   "cell_type": "markdown",
   "metadata": {},
   "source": [
    "<div class=\"alert alert-info\">\n",
    "  Визуальная оценка точечной диаграммы распределения заказов по клиентам группы А показывает, что максимальное число клиентов \n",
    "выполнили по 1 заказы. Существенно меньшее количество клиентов сделало по 2 или по 3 заказа. От 4 до 7 заказов выполнила\n",
    "ничтожная часть клиентов. Можно сказать, что величина более 3 заказов на клиента нехарактерна и является выбросом. \n",
    "</div>"
   ]
  },
  {
   "cell_type": "code",
   "execution_count": 566,
   "metadata": {
    "scrolled": false
   },
   "outputs": [
    {
     "data": {
      "image/png": "[encoded data removed]",
      "text/plain": [
       "<Figure size 960x480 with 1 Axes>"
      ]
     },
     "metadata": {
      "needs_background": "light"
     },
     "output_type": "display_data"
    }
   ],
   "source": [
    "plt.figure(figsize=(12, 6), dpi=80)\n",
    "d = range(len(df_ob))\n",
    "plt.scatter(d, df_ob['transactionId']);\n",
    "plt.title('Точечная диаграмма числа заказов группы В', fontsize = 15)\n",
    "plt.xlabel('Номер клиента', fontsize=15)\n",
    "plt.ylabel('Число заказов', fontsize=15);"
   ]
  },
  {
   "cell_type": "markdown",
   "metadata": {},
   "source": [
    "<div class=\"alert alert-info\">\n",
    "  Оценка точечной диаграммы распределения заказов по клиентам показывает группы В показывает аналогичную тенденцию, что и для \n",
    "группы А: большинство клиентов делают не более 1 заказа, существенно меньшая часть клиентов выполняет 2 или 3 заказа,\n",
    "более 3 заказов не характерно и является выбросом.\n",
    "</div>"
   ]
  },
  {
   "cell_type": "code",
   "execution_count": 567,
   "metadata": {},
   "outputs": [
    {
     "data": {
      "text/plain": [
       "array([1.  , 2.  , 2.56])"
      ]
     },
     "execution_count": 567,
     "metadata": {},
     "output_type": "execute_result"
    }
   ],
   "source": [
    "np.percentile(df_oa['transactionId'], [95, 97.5, 99])"
   ]
  },
  {
   "cell_type": "code",
   "execution_count": 568,
   "metadata": {},
   "outputs": [
    {
     "data": {
      "text/plain": [
       "array([1., 2., 2.])"
      ]
     },
     "execution_count": 568,
     "metadata": {},
     "output_type": "execute_result"
    }
   ],
   "source": [
    "np.percentile(df_ob['transactionId'], [95, 97.5, 99])"
   ]
  },
  {
   "cell_type": "code",
   "execution_count": 569,
   "metadata": {},
   "outputs": [
    {
     "data": {
      "text/plain": [
       "count    445.000000\n",
       "mean       1.051685\n",
       "std        0.267669\n",
       "min        1.000000\n",
       "25%        1.000000\n",
       "50%        1.000000\n",
       "75%        1.000000\n",
       "max        3.000000\n",
       "Name: transactionId, dtype: float64"
      ]
     },
     "execution_count": 569,
     "metadata": {},
     "output_type": "execute_result"
    }
   ],
   "source": [
    "df_oa['transactionId'].describe()"
   ]
  },
  {
   "cell_type": "code",
   "execution_count": 570,
   "metadata": {},
   "outputs": [
    {
     "data": {
      "text/plain": [
       "count    528.000000\n",
       "mean       1.037879\n",
       "std        0.210008\n",
       "min        1.000000\n",
       "25%        1.000000\n",
       "50%        1.000000\n",
       "75%        1.000000\n",
       "max        3.000000\n",
       "Name: transactionId, dtype: float64"
      ]
     },
     "execution_count": 570,
     "metadata": {},
     "output_type": "execute_result"
    }
   ],
   "source": [
    "df_ob['transactionId'].describe()"
   ]
  },
  {
   "cell_type": "markdown",
   "metadata": {},
   "source": [
    "<div class=\"alert alert-info\">\n",
    "  Точечные диаграммы количества заказов в группах А и В идентичны: при медианном значении заказов равном 1, среднее значение \n",
    "заказов для обеих групп близко к 1. Выбросы с числом заказов на клиента равном 3 присутствуют в обеих группах. Перцентили\n",
    "же 95% и 99% для группы А составляют 2,0 и 2,56, соответственно, а для группы В оба перцентиля равны 2. \n",
    "</div>"
   ]
  },
  {
   "cell_type": "markdown",
   "metadata": {},
   "source": [
    "<div class=\"alert alert-info\">\n",
    "  <b> Точечное распределение стоимости заказов </b>\n",
    "    <a id=\"check3\"></a>\n",
    "</div>"
   ]
  },
  {
   "cell_type": "code",
   "execution_count": 571,
   "metadata": {},
   "outputs": [],
   "source": [
    "df_ra = orders[orders['group'] == 'A']\n",
    "df_rb = orders[orders['group'] == 'B']"
   ]
  },
  {
   "cell_type": "code",
   "execution_count": 572,
   "metadata": {
    "scrolled": true
   },
   "outputs": [
    {
     "data": {
      "image/png": "[encoded data removed]",
      "text/plain": [
       "<Figure size 1080x360 with 1 Axes>"
      ]
     },
     "metadata": {
      "needs_background": "light"
     },
     "output_type": "display_data"
    }
   ],
   "source": [
    "df_ra.hist(column='revenue', bins= 20 , grid= True , rwidth= .9 , color='purple', figsize =(15,5),  range=(0,50000));\n",
    "plt.title('Гистограмма выручки заказов группы А', fontsize = 15)\n",
    "plt.xlabel('Величина выручки', fontsize=15)\n",
    "plt.ylabel('Число клиентов', fontsize=15);"
   ]
  },
  {
   "cell_type": "markdown",
   "metadata": {},
   "source": [
    "<div class=\"alert alert-info\">\n",
    "  Гистограмма выручки заказов группы А показывает, что более 50 % клиентов совершают покупки на сумму менее 5000. Однако,\n",
    "есть и выбросы с суммой чека от 20000 до 50000.\n",
    "</div>"
   ]
  },
  {
   "cell_type": "code",
   "execution_count": 573,
   "metadata": {
    "scrolled": true
   },
   "outputs": [
    {
     "data": {
      "image/png": "[encoded data removed]",
      "text/plain": [
       "<Figure size 1080x360 with 1 Axes>"
      ]
     },
     "metadata": {
      "needs_background": "light"
     },
     "output_type": "display_data"
    }
   ],
   "source": [
    "df_rb.hist(column='revenue', bins= 20 , grid= True , rwidth= .9 , color='purple', figsize =(15,5),  range=(0,50000));\n",
    "plt.title('Гистограмма выручки заказов группы B', fontsize = 15)\n",
    "plt.xlabel('Величина выручки', fontsize=15)\n",
    "plt.ylabel('Число клиентов', fontsize=15);"
   ]
  },
  {
   "cell_type": "markdown",
   "metadata": {},
   "source": [
    "<div class=\"alert alert-info\">\n",
    "  Гистограммы стоимости заказов группы В аналогична группе А: большинство заказов имеют чек до 5000, то есть выбросы от\n",
    "20000 до 50000.\n",
    "</div>"
   ]
  },
  {
   "cell_type": "code",
   "execution_count": 574,
   "metadata": {},
   "outputs": [
    {
     "data": {
      "image/png": "[encoded data removed]",
      "text/plain": [
       "<Figure size 960x480 with 1 Axes>"
      ]
     },
     "metadata": {
      "needs_background": "light"
     },
     "output_type": "display_data"
    }
   ],
   "source": [
    "plt.figure(figsize=(12, 6), dpi=80)\n",
    "d = range(len(df_ra))\n",
    "plt.scatter(d, df_ra['revenue']);\n",
    "plt.title('Точечная диаграмма выручки заказов группы А', fontsize = 15)\n",
    "plt.xlabel('Номер клиента', fontsize=15)\n",
    "plt.ylabel('Величина выручки', fontsize=15);"
   ]
  },
  {
   "cell_type": "markdown",
   "metadata": {},
   "source": [
    "<div class=\"alert alert-info\">\n",
    "   Точечная диаграмма выручки от покупок клиентов группы А показывает максимальную плотность точек в интервале менее 10000. \n",
    "Существенно меньше чеков лежит в интервале 10000 - 20000. Остальные чеки в интервале более 20000 маргинальны, то есть \n",
    "могут квалифицироваться как выбросы.\n",
    "</div>"
   ]
  },
  {
   "cell_type": "code",
   "execution_count": 575,
   "metadata": {
    "scrolled": true
   },
   "outputs": [
    {
     "data": {
      "image/png": "[encoded data removed]",
      "text/plain": [
       "<Figure size 960x480 with 1 Axes>"
      ]
     },
     "metadata": {
      "needs_background": "light"
     },
     "output_type": "display_data"
    }
   ],
   "source": [
    "plt.figure(figsize=(12, 6), dpi=80)\n",
    "d = range(len(df_rb))\n",
    "plt.scatter(d, df_rb['revenue']);\n",
    "plt.title('Точечная диаграмма выручки заказов группы B', fontsize = 15)\n",
    "plt.xlabel('Номер клиента', fontsize=15)\n",
    "plt.ylabel('Величина выручки', fontsize=15);"
   ]
  },
  {
   "cell_type": "code",
   "execution_count": 576,
   "metadata": {},
   "outputs": [
    {
     "data": {
      "text/plain": [
       "1294500"
      ]
     },
     "execution_count": 576,
     "metadata": {},
     "output_type": "execute_result"
    }
   ],
   "source": [
    "df_rb['revenue'].max()"
   ]
  },
  {
   "cell_type": "markdown",
   "metadata": {},
   "source": [
    "<div class=\"alert alert-info\">\n",
    "  Точечная диаграмма чеков группы В смазана за счет наличия нехарактерно крупной покупки на сумму 1294500, поэтому ее анализ\n",
    "затруднен. Для интерпретации диаграммы нужно исключить данный выброс из рассмотрения.\n",
    "</div>"
   ]
  },
  {
   "cell_type": "code",
   "execution_count": 577,
   "metadata": {
    "scrolled": false
   },
   "outputs": [
    {
     "data": {
      "image/png": "[encoded data removed]",
      "text/plain": [
       "<Figure size 960x480 with 1 Axes>"
      ]
     },
     "metadata": {
      "needs_background": "light"
     },
     "output_type": "display_data"
    }
   ],
   "source": [
    "plt.figure(figsize=(12, 6), dpi=80)\n",
    "df_rv = df_rb.query('revenue < 1294500')\n",
    "d = range(len(df_rv))\n",
    "plt.scatter(d, df_rv['revenue']);\n",
    "plt.title('Точечная диаграмма выручки заказов группы B', fontsize = 15)\n",
    "plt.xlabel('Номер клиента', fontsize=15)\n",
    "plt.ylabel('Величина выручки', fontsize=15);"
   ]
  },
  {
   "cell_type": "markdown",
   "metadata": {},
   "source": [
    "<div class=\"alert alert-info\">\n",
    "    На частично очищенной точечной диаграмме стоимосмти покупок группы В также есть крупные выбросы от 20000 до 220000. Но,\n",
    "аналогично диаграмме группы А, большинство клиентов делают покупки на сумму до 10000.  \n",
    "</div>"
   ]
  },
  {
   "cell_type": "code",
   "execution_count": 578,
   "metadata": {},
   "outputs": [
    {
     "data": {
      "text/plain": [
       "array([24944.5 , 43787.5 , 56064.18])"
      ]
     },
     "execution_count": 578,
     "metadata": {},
     "output_type": "execute_result"
    }
   ],
   "source": [
    "np.percentile(df_ra['revenue'], [95, 97.5, 99])"
   ]
  },
  {
   "cell_type": "code",
   "execution_count": 579,
   "metadata": {},
   "outputs": [
    {
     "data": {
      "text/plain": [
       "array([27561.5  , 35616.625, 49553.6  ])"
      ]
     },
     "execution_count": 579,
     "metadata": {},
     "output_type": "execute_result"
    }
   ],
   "source": [
    "np.percentile(df_rb['revenue'], [95, 97.5, 99])"
   ]
  },
  {
   "cell_type": "code",
   "execution_count": 580,
   "metadata": {},
   "outputs": [
    {
     "data": {
      "text/plain": [
       "count      468.000000\n",
       "mean      7189.435897\n",
       "std      11137.761128\n",
       "min         50.000000\n",
       "25%       1164.750000\n",
       "50%       3090.000000\n",
       "75%       8438.750000\n",
       "max      92550.000000\n",
       "Name: revenue, dtype: float64"
      ]
     },
     "execution_count": 580,
     "metadata": {},
     "output_type": "execute_result"
    }
   ],
   "source": [
    "df_ra['revenue'].describe()"
   ]
  },
  {
   "cell_type": "code",
   "execution_count": 581,
   "metadata": {
    "scrolled": true
   },
   "outputs": [
    {
     "data": {
      "text/plain": [
       "count    5.480000e+02\n",
       "mean     9.249949e+03\n",
       "std      5.643059e+04\n",
       "min      5.000000e+01\n",
       "25%      1.280750e+03\n",
       "50%      2.898500e+03\n",
       "75%      7.991250e+03\n",
       "max      1.294500e+06\n",
       "Name: revenue, dtype: float64"
      ]
     },
     "execution_count": 581,
     "metadata": {},
     "output_type": "execute_result"
    }
   ],
   "source": [
    "df_rb['revenue'].describe()"
   ]
  },
  {
   "cell_type": "markdown",
   "metadata": {},
   "source": [
    "<div class=\"alert alert-info\">\n",
    "  Гистограммы выручки от заказов групп А и B практически идентичны. Выручка от большинства заказов находится в интервале\n",
    "до 10000, присутствуют выбросы с выручкой выше 30000. Более информативно сравнение точечных диаграмм, которое позволяет \n",
    "заключить, что выручка от заказов группы А имеет больше выбросов выше среднего уровня (5000 - 10000), по сравнению с группой В.\n",
    "Это подтверждается величиной перцентилей выручки с заказа для обеих групп: перцентили 97,5% и 99% для группы А составляют 43788 и \n",
    "56064, соответственно, что существенно выше аналогичных перцентелей группы В - 35617 и 49554. \n",
    "  В данных заказов группы В содержатся одиночные аномалии, существенно искажающие картину распределения выручки. Размах \n",
    "стоимости заказов группы В составляет 50 - 1294500, а средняя выручка составляет 9250, в то время, как для группы А размах \n",
    "выручки раен 50 - 92550, а среднее значение только 7189. В этих условиях более объективным будет сравнение медиан: медиана \n",
    "выборки А составляет 3090 и превышает медиану выборки В - 2899. Собственно, картину распределения стоимости заказов группы В\n",
    "искажает 1 аномальный заказ стоимомстью 1294500, что вызывает срезмерное увеличение стредней стоимости заказов и стандартного\n",
    "отклонения, которое у заказов группы В равно 56431, что более, чем в 4 раза превышает std группы А (11138). \n",
    "</div>"
   ]
  },
  {
   "cell_type": "markdown",
   "metadata": {},
   "source": [
    "<div class=\"alert alert-info\">\n",
    "  <b> Проверка статистической идентичности сырых выборок А и В для удельного числа заказов </b>\n",
    "    <a id=\"choose\"></a>\n",
    "</div>"
   ]
  },
  {
   "cell_type": "code",
   "execution_count": 585,
   "metadata": {
    "scrolled": true
   },
   "outputs": [
    {
     "data": {
      "text/plain": [
       "0.3775373897229706"
      ]
     },
     "execution_count": 585,
     "metadata": {},
     "output_type": "execute_result"
    }
   ],
   "source": [
    "st.ttest_ind(df_oa['transactionId'], df_ob['transactionId'], equal_var=False, alternative='two-sided').pvalue"
   ]
  },
  {
   "cell_type": "code",
   "execution_count": 586,
   "metadata": {},
   "outputs": [
    {
     "data": {
      "text/plain": [
       "0.8112313051385147"
      ]
     },
     "execution_count": 586,
     "metadata": {},
     "output_type": "execute_result"
    }
   ],
   "source": [
    "st.ttest_ind(df_oa['transactionId'], df_ob['transactionId'], equal_var=False, alternative='less').pvalue"
   ]
  },
  {
   "cell_type": "code",
   "execution_count": 587,
   "metadata": {},
   "outputs": [
    {
     "data": {
      "text/plain": [
       "0.1887686948614853"
      ]
     },
     "execution_count": 587,
     "metadata": {},
     "output_type": "execute_result"
    }
   ],
   "source": [
    "st.ttest_ind(df_oa['transactionId'], df_ob['transactionId'], equal_var=False, alternative='greater').pvalue"
   ]
  },
  {
   "cell_type": "markdown",
   "metadata": {},
   "source": [
    "<div class=\"alert alert-info\">\n",
    "  Формулировка гипотез: H0: средние арифм. значения ген совокупностей А и В среднего числа заказов равны между собой. \n",
    "                        Н1 'greater': средн арифм ген сов А больше средн арифм ген сов В\n",
    "                        Н1 'two-sided': средн арифм ген сов А и В не равны\n",
    "                        H1 'less': средн арифм ген сов В больше средн арифм ген сов А\n",
    "  Проверка статистической значимости различий между сырыми выборками среднего количества заказов на посетителя интернет-мегазина\n",
    "методом ttest_ind() с фиксированием факта различия дисперсий генеральных совокупностей (equal_var = False) для двусторонней и\n",
    "односторонних альтернатитвных гипотез показывает, что при уровне статистической значимости 5 % нулевая гипотеза о равенстве\n",
    "средних арифметических ген сов не может быть опровергнута. Наименьшее значение p-value фиксируется для гипотезы 'greater' (18,9%),\n",
    "а наибольщее - для альтернативной гипотезы 'less' - 81,1%.ь \n",
    "</div>"
   ]
  },
  {
   "cell_type": "code",
   "execution_count": 588,
   "metadata": {},
   "outputs": [],
   "source": [
    "\n",
    "seq_a = pd.concat([df_oa['transactionId'],pd.Series(0, index=np.arange(visitors[visitors['group'] == 'A']['visitors'].sum() -\\\n",
    "        len(df_oa['transactionId'])), name='orders_a')],axis=0)\n",
    "seq_b = pd.concat([df_ob['transactionId'],pd.Series(0, index=np.arange(visitors[visitors['group'] == 'B']['visitors'].sum() -\\\n",
    "        len(df_ob['transactionId'])), name='orders_b')],axis=0)"
   ]
  },
  {
   "cell_type": "code",
   "execution_count": 589,
   "metadata": {},
   "outputs": [
    {
     "data": {
      "text/plain": [
       "0.011018084110014696"
      ]
     },
     "execution_count": 589,
     "metadata": {},
     "output_type": "execute_result"
    }
   ],
   "source": [
    "st.mannwhitneyu(seq_a,seq_b,True,'two-sided').pvalue"
   ]
  },
  {
   "cell_type": "code",
   "execution_count": 590,
   "metadata": {},
   "outputs": [
    {
     "data": {
      "text/plain": [
       "0.005509042055007348"
      ]
     },
     "execution_count": 590,
     "metadata": {},
     "output_type": "execute_result"
    }
   ],
   "source": [
    "st.mannwhitneyu(seq_a,seq_b,True,'less').pvalue"
   ]
  },
  {
   "cell_type": "code",
   "execution_count": 591,
   "metadata": {},
   "outputs": [
    {
     "data": {
      "text/plain": [
       "0.9944910123339719"
      ]
     },
     "execution_count": 591,
     "metadata": {},
     "output_type": "execute_result"
    }
   ],
   "source": [
    "st.mannwhitneyu(seq_a,seq_b,True,'greater').pvalue"
   ]
  },
  {
   "cell_type": "markdown",
   "metadata": {},
   "source": [
    "<div class=\"alert alert-info\">\n",
    "  Формулировка гипотез: H0: ген совокупности А и В среднего числа заказов равны между собой. \n",
    "                        Н1 'greater': ген сов А больше ген сов В\n",
    "                        Н1 'two-sided': ген сов А и В не равны\n",
    "                        H1 'less': ген сов В больше ген сов А\n",
    "  Проверка значимости различий между генеральными совокупностями удельного числа заказов (на клиента) с применением \n",
    "непараметрического метода Манна-Уитни показывает следующую тенденцию: нулевая гипотеза отбрасывается при двусторонней и\n",
    "односторонней 'less' альтернативных гипотезах (p-value << 5%), а при односторонней 'greater' гипотезе нулевая гипотеза не может\n",
    "быть опровергнута. Это свидетельствует о наличии статистической значимости различий распределений удельного количества заказов, \n",
    "а также о том, что совокупность B больше совокупности A. \n",
    "</div>"
   ]
  },
  {
   "cell_type": "markdown",
   "metadata": {},
   "source": [
    "<div class=\"alert alert-info\">\n",
    "  <b> Проверка статистической идентичности сырых выборок А и В для среднего чека </b>\n",
    "    <a id=\"order\"></a>\n",
    "</div>"
   ]
  },
  {
   "cell_type": "code",
   "execution_count": 592,
   "metadata": {},
   "outputs": [],
   "source": [
    "df_sa = orders[orders['group'] == 'A'].groupby('date', as_index = False).agg({'transactionId':'nunique', 'revenue':'sum'})\n",
    "df_sa['check'] = df_sa['revenue']/df_sa['transactionId']\n",
    "df_sb = orders[orders['group'] == 'B'].groupby('date', as_index = False).agg({'transactionId':'nunique', 'revenue':'sum'})\n",
    "df_sb['check'] = df_sa['revenue']/df_sa['transactionId']"
   ]
  },
  {
   "cell_type": "code",
   "execution_count": 593,
   "metadata": {},
   "outputs": [
    {
     "data": {
      "text/plain": [
       "1.0"
      ]
     },
     "execution_count": 593,
     "metadata": {},
     "output_type": "execute_result"
    }
   ],
   "source": [
    "st.ttest_ind(df_sa['check'], df_sb['check'], equal_var=False, alternative='two-sided').pvalue"
   ]
  },
  {
   "cell_type": "code",
   "execution_count": 594,
   "metadata": {},
   "outputs": [
    {
     "data": {
      "text/plain": [
       "0.5"
      ]
     },
     "execution_count": 594,
     "metadata": {},
     "output_type": "execute_result"
    }
   ],
   "source": [
    "st.ttest_ind(df_sa['check'], df_sb['check'], equal_var=False, alternative='less').pvalue"
   ]
  },
  {
   "cell_type": "code",
   "execution_count": 595,
   "metadata": {},
   "outputs": [
    {
     "data": {
      "text/plain": [
       "0.5"
      ]
     },
     "execution_count": 595,
     "metadata": {},
     "output_type": "execute_result"
    }
   ],
   "source": [
    "st.ttest_ind(df_sa['check'], df_sb['check'], equal_var=False, alternative='greater').pvalue"
   ]
  },
  {
   "cell_type": "markdown",
   "metadata": {},
   "source": [
    "<div class=\"alert alert-info\">\n",
    "  Формулировка гипотез: H0: средние арифм. значения ген совокупностей А и В среднего чека равны между собой. \n",
    "                        Н1 'greater': средн арифм ген сов А больше средн арифм ген сов В\n",
    "                        Н1 'two-sided': средн арифм ген сов А и В не равны\n",
    "                        H1 'less': средн арифм ген сов В больше средн арифм ген сов А\n",
    "  Проверка значимости различий между сырыми значениями среднего чека (группировка orders по дате) для выборок А и В методом \n",
    "st.ttest_ind() показывает, что нулевая гипотеза о равенстве средн арифм сравниваемых совокупностей не может быть отброшена, \n",
    "как в случае двусторонней альтернативной гипотезы (p-value = 100%), так и в случае односторонних альтернативных гипотез 'less' \n",
    "и 'greater' (p-value по 50%).\n",
    "</div>"
   ]
  },
  {
   "cell_type": "code",
   "execution_count": 596,
   "metadata": {},
   "outputs": [],
   "source": [
    "df_da = orders[orders['group'] == 'A'].groupby('visitorId', as_index = False).agg({'transactionId':'nunique', 'revenue':'sum'})\n",
    "df_da['check'] = df_da['revenue']/df_da['transactionId']\n",
    "df_db = orders[orders['group'] == 'B'].groupby('visitorId', as_index = False).agg({'transactionId':'nunique', 'revenue':'sum'})\n",
    "df_db['check'] = df_db['revenue']/df_db['transactionId']"
   ]
  },
  {
   "cell_type": "code",
   "execution_count": 597,
   "metadata": {},
   "outputs": [
    {
     "data": {
      "text/plain": [
       "0.3810176766865303"
      ]
     },
     "execution_count": 597,
     "metadata": {},
     "output_type": "execute_result"
    }
   ],
   "source": [
    "st.ttest_ind(df_da['check'], df_db['check'], equal_var=False, alternative='two-sided').pvalue"
   ]
  },
  {
   "cell_type": "code",
   "execution_count": 598,
   "metadata": {},
   "outputs": [
    {
     "data": {
      "text/plain": [
       "0.19050883834326515"
      ]
     },
     "execution_count": 598,
     "metadata": {},
     "output_type": "execute_result"
    }
   ],
   "source": [
    "st.ttest_ind(df_da['check'], df_db['check'], equal_var=False, alternative='less').pvalue"
   ]
  },
  {
   "cell_type": "code",
   "execution_count": 599,
   "metadata": {
    "scrolled": true
   },
   "outputs": [
    {
     "data": {
      "text/plain": [
       "0.8094911616567348"
      ]
     },
     "execution_count": 599,
     "metadata": {},
     "output_type": "execute_result"
    }
   ],
   "source": [
    "st.ttest_ind(df_da['check'], df_db['check'], equal_var=False, alternative='greater').pvalue"
   ]
  },
  {
   "cell_type": "markdown",
   "metadata": {},
   "source": [
    "<div class=\"alert alert-info\">\n",
    "  Формулировка гипотез: H0: средние арифм. значения ген совокупностей А и В среднего клиентского чека равны между собой. \n",
    "                        Н1 'greater': средн арифм ген сов А больше средн арифм ген сов В\n",
    "                        Н1 'two-sided': средн арифм ген сов А и В не равны\n",
    "                        H1 'less': средн арифм ген сов В больше средн арифм ген сов А\n",
    "  Сравнение методом st.ttest_ind() последовательностей значений клиентского среднего чека (группировка orders по клиенту)\n",
    "оказывается более информативна. И хотя результаты теста не позволяют отбросить нулевую гипотезу, тем не менее, p-value имеет\n",
    "наименьшее значение в случае альтернативной гипотезы 'less' (19,1 %), что косвенно показывает тенденцию к тому, что \n",
    "среднее совокупности B больше среднего совокупности А.\n",
    "</div>"
   ]
  },
  {
   "cell_type": "code",
   "execution_count": 600,
   "metadata": {},
   "outputs": [
    {
     "data": {
      "text/plain": [
       "1.0"
      ]
     },
     "execution_count": 600,
     "metadata": {},
     "output_type": "execute_result"
    }
   ],
   "source": [
    "st.mannwhitneyu(df_sa['check'],df_sb['check'],True,'two-sided').pvalue"
   ]
  },
  {
   "cell_type": "code",
   "execution_count": 601,
   "metadata": {},
   "outputs": [
    {
     "data": {
      "text/plain": [
       "0.5028093426677256"
      ]
     },
     "execution_count": 601,
     "metadata": {},
     "output_type": "execute_result"
    }
   ],
   "source": [
    "st.mannwhitneyu(df_sa['check'],df_sb['check'],True,'less').pvalue"
   ]
  },
  {
   "cell_type": "code",
   "execution_count": 602,
   "metadata": {},
   "outputs": [
    {
     "data": {
      "text/plain": [
       "0.5028093426677256"
      ]
     },
     "execution_count": 602,
     "metadata": {},
     "output_type": "execute_result"
    }
   ],
   "source": [
    "st.mannwhitneyu(df_sa['check'],df_sb['check'],True,'greater').pvalue"
   ]
  },
  {
   "cell_type": "markdown",
   "metadata": {},
   "source": [
    "<div class=\"alert alert-info\">\n",
    "   Формулировка гипотез: H0: ген совокупности А и В среднего клиентского чека равны между собой. \n",
    "                        Н1 'greater': ген сов А больше ген сов В\n",
    "                        Н1 'two-sided': ген сов А и В не равны\n",
    "                        H1 'less': ген сов В больше ген сов А\n",
    "   Использование непараметрического метода st.mannwhitneyu() для сравнения последовательностей значений среднего чека\n",
    "(группировка orders по дате) показывает, что нулевая гипотеза о равенстве этих совокупностей не может быть отвергнута. \n",
    "</div>"
   ]
  },
  {
   "cell_type": "code",
   "execution_count": 603,
   "metadata": {},
   "outputs": [],
   "source": [
    "seq_a = pd.concat([df_da['check'],pd.Series(0, index=np.arange(visitors[visitors['group'] == 'A']['visitors'].sum() -\\\n",
    "        len(df_da['check'])), name='orders_a')],axis=0)\n",
    "seq_b = pd.concat([df_db['check'],pd.Series(0, index=np.arange(visitors[visitors['group'] == 'B']['visitors'].sum() -\\\n",
    "        len(df_db['check'])), name='orders_b')],axis=0)"
   ]
  },
  {
   "cell_type": "code",
   "execution_count": 604,
   "metadata": {},
   "outputs": [
    {
     "data": {
      "text/plain": [
       "0.011049357796521822"
      ]
     },
     "execution_count": 604,
     "metadata": {},
     "output_type": "execute_result"
    }
   ],
   "source": [
    "st.mannwhitneyu(seq_a,seq_b,True,'two-sided').pvalue"
   ]
  },
  {
   "cell_type": "code",
   "execution_count": 605,
   "metadata": {},
   "outputs": [
    {
     "data": {
      "text/plain": [
       "0.005524678898260911"
      ]
     },
     "execution_count": 605,
     "metadata": {},
     "output_type": "execute_result"
    }
   ],
   "source": [
    "st.mannwhitneyu(seq_a,seq_b,True,'less').pvalue"
   ]
  },
  {
   "cell_type": "code",
   "execution_count": 606,
   "metadata": {
    "scrolled": true
   },
   "outputs": [
    {
     "data": {
      "text/plain": [
       "0.9944753756222926"
      ]
     },
     "execution_count": 606,
     "metadata": {},
     "output_type": "execute_result"
    }
   ],
   "source": [
    "st.mannwhitneyu(seq_a,seq_b,True,'greater').pvalue"
   ]
  },
  {
   "cell_type": "markdown",
   "metadata": {},
   "source": [
    "<div class=\"alert alert-info\">\n",
    "   Формулировка гипотез: H0: ген совокупности А и В среднего клиентского чека равны между собой. \n",
    "                        Н1 'greater': ген сов А больше ген сов В\n",
    "                        Н1 'two-sided': ген сов А и В не равны\n",
    "                        H1 'less': ген сов В больше ген сов А\n",
    "   Использование непараметрического метода st.mannwhitneyu() для сравнения последовательностей значений клиентского среднего\n",
    "чека (группировка orders по клиенту) показывает, что нулевая гипотеза отвергается в случае двусторонней и односторонней 'less'\n",
    "альтернативных гипотез, а в случае альтернативной гипотезы 'greater' нулевую гипотезу нельзя отбросить. Это свидетельствует\n",
    "о том, что совокупность B больше, чем А. \n",
    "</div>"
   ]
  },
  {
   "cell_type": "markdown",
   "metadata": {},
   "source": [
    "<div class=\"alert alert-info\">\n",
    "  <b> Проверка статистической идентичности очищенных выборок А и В для удельного числа заказов </b>\n",
    "    <a id=\"clear\"></a>\n",
    "</div>"
   ]
  },
  {
   "cell_type": "code",
   "execution_count": 607,
   "metadata": {},
   "outputs": [],
   "source": [
    "df_o = orders.groupby('visitorId', as_index = False).agg({'transactionId':'nunique'})"
   ]
  },
  {
   "cell_type": "code",
   "execution_count": 608,
   "metadata": {
    "scrolled": true
   },
   "outputs": [
    {
     "data": {
      "image/png": "[encoded data removed]",
      "text/plain": [
       "<Figure size 960x480 with 1 Axes>"
      ]
     },
     "metadata": {
      "needs_background": "light"
     },
     "output_type": "display_data"
    }
   ],
   "source": [
    "plt.figure(figsize=(12, 6), dpi=80)\n",
    "d = range(len(df_o))\n",
    "plt.scatter(d, df_o['transactionId']);\n",
    "plt.title('Точечная диаграмма числа заказов клиентов интернет-магазина', fontsize = 15)\n",
    "plt.xlabel('Номер клиента', fontsize=15)\n",
    "plt.ylabel('Число заказов', fontsize=15);"
   ]
  },
  {
   "cell_type": "markdown",
   "metadata": {},
   "source": [
    "<div class=\"alert alert-info\">\n",
    "  Точечная диаграмма числа заказов всех клиентов интернет-магазина показывает, что подавляющее большинство клиентов делают не \n",
    "более 1 заказа. Существенно меньшее количество клиентов делает от 2 до 3 заказов. Более 3 заказов нехаратерно и заведомо\n",
    "является выбросом.\n",
    "</div>"
   ]
  },
  {
   "cell_type": "code",
   "execution_count": 609,
   "metadata": {},
   "outputs": [
    {
     "data": {
      "text/plain": [
       "array([1., 2., 2.])"
      ]
     },
     "execution_count": 609,
     "metadata": {},
     "output_type": "execute_result"
    }
   ],
   "source": [
    "np.percentile(df_o['transactionId'], [95, 97.5, 99])"
   ]
  },
  {
   "cell_type": "markdown",
   "metadata": {},
   "source": [
    "<div class=\"alert alert-info\">\n",
    "   Для всех покупающих клиентов перцентиль 95% = 2, поэтому можно исключить клиентов, сделавших более 2 покупок. \n",
    "</div>"
   ]
  },
  {
   "cell_type": "code",
   "execution_count": 610,
   "metadata": {},
   "outputs": [
    {
     "data": {
      "text/plain": [
       "7"
      ]
     },
     "execution_count": 610,
     "metadata": {},
     "output_type": "execute_result"
    }
   ],
   "source": [
    "df_oc = df_o[df_o['transactionId'] > 2]\n",
    "df_oc['visitorId'].nunique()"
   ]
  },
  {
   "cell_type": "markdown",
   "metadata": {},
   "source": [
    "<div class=\"alert alert-info\">\n",
    "   Из списка клиентов можно исключить 7 id, которые совершили аномально много покупок.\n",
    "</div>"
   ]
  },
  {
   "cell_type": "code",
   "execution_count": 611,
   "metadata": {
    "scrolled": true
   },
   "outputs": [
    {
     "data": {
      "image/png": "[encoded data removed]",
      "text/plain": [
       "<Figure size 960x480 with 1 Axes>"
      ]
     },
     "metadata": {
      "needs_background": "light"
     },
     "output_type": "display_data"
    }
   ],
   "source": [
    "plt.figure(figsize=(12, 6), dpi=80)\n",
    "orders_o = orders.query('revenue < 1294500')\n",
    "d = range(len(orders_o))\n",
    "plt.scatter(d, orders_o['revenue']);\n",
    "plt.title('Точечная диаграмма выручки заказов клиентов интернет-магазина', fontsize = 15)\n",
    "plt.xlabel('Номер клиента', fontsize=15)\n",
    "plt.ylabel('Величина выручки', fontsize=15);"
   ]
  },
  {
   "cell_type": "markdown",
   "metadata": {},
   "source": [
    "<div class=\"alert alert-info\">\n",
    "  Точечная диаграмма выручки от покупок всех клиентов (с удаленным максимальным чеком) полказывает, что подавляющее большинство\n",
    "заказов до 10000, а все чеки стоимостью выше 25000 - 30000 являются выбросами.\n",
    "</div>"
   ]
  },
  {
   "cell_type": "code",
   "execution_count": 612,
   "metadata": {},
   "outputs": [
    {
     "data": {
      "text/plain": [
       "array([26785., 37400., 53904.])"
      ]
     },
     "execution_count": 612,
     "metadata": {},
     "output_type": "execute_result"
    }
   ],
   "source": [
    "np.percentile(orders['revenue'], [95, 97.5, 99])"
   ]
  },
  {
   "cell_type": "markdown",
   "metadata": {},
   "source": [
    "<div class=\"alert alert-info\">\n",
    "   Для всех покупающих клиентов перцентиль 95% = 37400, поэтому можно исключить клиентов, сделавших заказ на сумму \n",
    "более 40000. \n",
    "</div>"
   ]
  },
  {
   "cell_type": "code",
   "execution_count": 613,
   "metadata": {
    "scrolled": false
   },
   "outputs": [
    {
     "data": {
      "text/plain": [
       "23"
      ]
     },
     "execution_count": 613,
     "metadata": {},
     "output_type": "execute_result"
    }
   ],
   "source": [
    "orders_c = orders[orders['revenue'] > 40000]\n",
    "orders_c['visitorId'].nunique()"
   ]
  },
  {
   "cell_type": "code",
   "execution_count": 614,
   "metadata": {
    "scrolled": true
   },
   "outputs": [
    {
     "data": {
      "text/plain": [
       "23"
      ]
     },
     "execution_count": 614,
     "metadata": {},
     "output_type": "execute_result"
    }
   ],
   "source": [
    "orders_cc = orders_c['visitorId'].drop_duplicates()\n",
    "len(orders_cc)"
   ]
  },
  {
   "cell_type": "markdown",
   "metadata": {},
   "source": [
    "<div class=\"alert alert-info\">\n",
    "   Из списка клиентов можно исключить 23 id, которые совершили аномально дорогие покупки.\n",
    "</div>"
   ]
  },
  {
   "cell_type": "code",
   "execution_count": 615,
   "metadata": {},
   "outputs": [],
   "source": [
    "seq_ex = pd.concat([df_oc['visitorId'], orders_cc],axis=0)"
   ]
  },
  {
   "cell_type": "code",
   "execution_count": 616,
   "metadata": {},
   "outputs": [
    {
     "data": {
      "text/plain": [
       "30"
      ]
     },
     "execution_count": 616,
     "metadata": {},
     "output_type": "execute_result"
    }
   ],
   "source": [
    "len(seq_ex)"
   ]
  },
  {
   "cell_type": "markdown",
   "metadata": {},
   "source": [
    "<div class=\"alert alert-info\">\n",
    "   Все исключается 30 клиентов, которые совершали аномально дорогие покупки или делали аномального много заказов.\n",
    "</div>"
   ]
  },
  {
   "cell_type": "code",
   "execution_count": 617,
   "metadata": {},
   "outputs": [
    {
     "data": {
      "text/plain": [
       "0.8018474557710069"
      ]
     },
     "execution_count": 617,
     "metadata": {},
     "output_type": "execute_result"
    }
   ],
   "source": [
    "df_oa = df_oa[~df_oa['visitorId'].isin(seq_ex)]\n",
    "df_ob = df_ob[~df_ob['visitorId'].isin(seq_ex)]\n",
    "st.ttest_ind(df_oa['transactionId'], df_ob['transactionId'], equal_var=False, alternative='two-sided').pvalue"
   ]
  },
  {
   "cell_type": "code",
   "execution_count": 618,
   "metadata": {},
   "outputs": [
    {
     "data": {
      "text/plain": [
       "0.40092372788550346"
      ]
     },
     "execution_count": 618,
     "metadata": {},
     "output_type": "execute_result"
    }
   ],
   "source": [
    "st.ttest_ind(df_oa['transactionId'], df_ob['transactionId'], equal_var=False, alternative='less').pvalue"
   ]
  },
  {
   "cell_type": "code",
   "execution_count": 619,
   "metadata": {},
   "outputs": [
    {
     "data": {
      "text/plain": [
       "0.5990762721144964"
      ]
     },
     "execution_count": 619,
     "metadata": {},
     "output_type": "execute_result"
    }
   ],
   "source": [
    "st.ttest_ind(df_oa['transactionId'], df_ob['transactionId'], equal_var=False, alternative='greater').pvalue"
   ]
  },
  {
   "cell_type": "markdown",
   "metadata": {},
   "source": [
    "<div class=\"alert alert-info\">\n",
    "  Формулировка гипотез: H0: средние арифм. значения ген совокупностей А и В среднего числа заказов равны между собой. \n",
    "                        Н1 'greater': средн арифм ген сов А больше средн арифм ген сов В\n",
    "                        Н1 'two-sided': средн арифм ген сов А и В не равны\n",
    "                        H1 'less': средн арифм ген сов В больше средн арифм ген сов А\n",
    "  Проверка статистической значимости различий между очищенными выборками среднего количества заказов на посетителя интернет-мегазина\n",
    "методом ttest_ind() с фиксированием факта различия дисперсий генеральных совокупностей (equal_var = False) для двусторонней и\n",
    "односторонних альтернатитвных гипотез показывает, что при уровне статистической значимости 5 % нулевая гипотеза о равенстве\n",
    "средних арифметических ген сов не может быть опровергнута. Результаты теста практически не изменились, по сравнению с сырыми\n",
    "данными\n",
    "</div>"
   ]
  },
  {
   "cell_type": "code",
   "execution_count": 620,
   "metadata": {},
   "outputs": [],
   "source": [
    "seq_a = pd.concat([df_oa['transactionId'],pd.Series(0, index=np.arange(visitors[visitors['group'] =='A']['visitors'].sum()\\\n",
    "        - len(seq_ex) - len(df_oa['transactionId'])), name='orders_a')],axis=0)\n",
    "seq_b = pd.concat([df_ob['transactionId'],pd.Series(0, index=np.arange(visitors[visitors['group'] == 'B']['visitors'].sum()\\\n",
    "        - len(seq_ex) - len(df_ob['transactionId'])), name='orders_b')],axis=0)"
   ]
  },
  {
   "cell_type": "code",
   "execution_count": 621,
   "metadata": {},
   "outputs": [
    {
     "data": {
      "text/plain": [
       "0.004325799359877893"
      ]
     },
     "execution_count": 621,
     "metadata": {},
     "output_type": "execute_result"
    }
   ],
   "source": [
    "st.mannwhitneyu(seq_a,seq_b,True,'two-sided').pvalue"
   ]
  },
  {
   "cell_type": "code",
   "execution_count": 622,
   "metadata": {},
   "outputs": [
    {
     "data": {
      "text/plain": [
       "0.0021628996799389465"
      ]
     },
     "execution_count": 622,
     "metadata": {},
     "output_type": "execute_result"
    }
   ],
   "source": [
    "st.mannwhitneyu(seq_a,seq_b,True,'less').pvalue"
   ]
  },
  {
   "cell_type": "code",
   "execution_count": 623,
   "metadata": {},
   "outputs": [
    {
     "data": {
      "text/plain": [
       "0.9978371242077547"
      ]
     },
     "execution_count": 623,
     "metadata": {},
     "output_type": "execute_result"
    }
   ],
   "source": [
    "st.mannwhitneyu(seq_a,seq_b,True,'greater').pvalue"
   ]
  },
  {
   "cell_type": "markdown",
   "metadata": {},
   "source": [
    "<div class=\"alert alert-info\">\n",
    "  Формулировка гипотез: H0: ген совокупности А и В среднего числа заказов равны между собой. \n",
    "                        Н1 'greater': ген сов А больше ген сов В\n",
    "                        Н1 'two-sided': ген сов А и В не равны\n",
    "                        H1 'less': ген сов В больше ген сов А\n",
    "  Проверка значимости различий между генеральными совокупностями удельного числа заказов (на клиента) с применением \n",
    "непараметрического метода Манна-Уитни по очищенным данным показывает, что нулевая гипотеза отбрасывается при двусторонней и\n",
    "односторонней 'less' альтернативных гипотезах (p-value << 5%), а при односторонней 'greater' гипотезе нулевая гипотеза не может\n",
    "быть опровергнута. Это соответствует проверке гипотез по сырым данным. Очистка данных сделала ранее отмеченные тенденции\n",
    "еще более отчетливыми - значения p-value для двусторонней и односторонней 'less' альтернативных гипотез снизились в 1,5 - 2 раза,\n",
    "что позволяет в этих случаях отвергать нулевую гипотезу еще более уверенно и подтверждает факт того, что совокупность В больше\n",
    "совокупности А.\n",
    "</div>"
   ]
  },
  {
   "cell_type": "markdown",
   "metadata": {},
   "source": [
    "<div class=\"alert alert-info\">\n",
    "  <b> Проверка статистической идентичности очищенных выборок А и В для среднего чека </b>\n",
    "    <a id=\"order_o\"></a>\n",
    "</div>"
   ]
  },
  {
   "cell_type": "code",
   "execution_count": 624,
   "metadata": {},
   "outputs": [],
   "source": [
    "df_sa = orders[(~orders['visitorId'].isin(seq_ex)) & (orders['group'] == 'A')].groupby('date', as_index = False).agg({'transactionId':'nunique', 'revenue':'sum'})\n",
    "df_sa['check'] = df_sa['revenue']/df_sa['transactionId']\n",
    "df_sb = orders[(~orders['visitorId'].isin(seq_ex)) & (orders['group'] == 'B')].groupby('date', as_index = False).agg({'transactionId':'nunique', 'revenue':'sum'})\n",
    "df_sb['check'] = df_sa['revenue']/df_sa['transactionId']"
   ]
  },
  {
   "cell_type": "code",
   "execution_count": 625,
   "metadata": {},
   "outputs": [
    {
     "data": {
      "text/plain": [
       "1.0"
      ]
     },
     "execution_count": 625,
     "metadata": {},
     "output_type": "execute_result"
    }
   ],
   "source": [
    "st.ttest_ind(df_sa['check'], df_sb['check'], equal_var=False, alternative='two-sided').pvalue"
   ]
  },
  {
   "cell_type": "code",
   "execution_count": 626,
   "metadata": {},
   "outputs": [
    {
     "data": {
      "text/plain": [
       "0.5"
      ]
     },
     "execution_count": 626,
     "metadata": {},
     "output_type": "execute_result"
    }
   ],
   "source": [
    "st.ttest_ind(df_sa['check'], df_sb['check'], equal_var=False, alternative='less').pvalue"
   ]
  },
  {
   "cell_type": "code",
   "execution_count": 627,
   "metadata": {},
   "outputs": [
    {
     "data": {
      "text/plain": [
       "0.5"
      ]
     },
     "execution_count": 627,
     "metadata": {},
     "output_type": "execute_result"
    }
   ],
   "source": [
    "st.ttest_ind(df_sa['check'], df_sb['check'], equal_var=False, alternative='greater').pvalue"
   ]
  },
  {
   "cell_type": "markdown",
   "metadata": {},
   "source": [
    "<div class=\"alert alert-info\">\n",
    "  Формулировка гипотез: H0: средние арифм. значения ген совокупностей А и В среднего чека равны между собой. \n",
    "                        Н1 'greater': средн арифм ген сов А больше средн арифм ген сов В\n",
    "                        Н1 'two-sided': средн арифм ген сов А и В не равны\n",
    "                        H1 'less': средн арифм ген сов В больше средн арифм ген сов А\n",
    "  Проверка значимости различий между очищенными значениями среднего чека (группировка orders по дате) для выборок А и В методом \n",
    "st.ttest_ind() показывает, что нулевая гипотеза о равенстве средн арифм сравниваемых совокупностей не может быть отброшена. \n",
    "Значения p_value для всех альтернативных гипотез те же, что и в случе сырых данных.\n",
    "</div>"
   ]
  },
  {
   "cell_type": "code",
   "execution_count": 628,
   "metadata": {},
   "outputs": [],
   "source": [
    "df_da = orders[(~orders['visitorId'].isin(seq_ex)) & (orders['group'] == 'A')].groupby('visitorId', as_index = False).agg({'transactionId':'nunique', 'revenue':'sum'})\n",
    "df_da['check'] = df_da['revenue']/df_da['transactionId']\n",
    "df_db = orders[(~orders['visitorId'].isin(seq_ex)) & (orders['group'] == 'B')].groupby('visitorId', as_index = False).agg({'transactionId':'nunique', 'revenue':'sum'})\n",
    "df_db['check'] = df_db['revenue']/df_db['transactionId']"
   ]
  },
  {
   "cell_type": "code",
   "execution_count": 629,
   "metadata": {},
   "outputs": [
    {
     "data": {
      "text/plain": [
       "0.43540762166583546"
      ]
     },
     "execution_count": 629,
     "metadata": {},
     "output_type": "execute_result"
    }
   ],
   "source": [
    "st.ttest_ind(df_da['check'], df_db['check'], equal_var=False, alternative='two-sided').pvalue"
   ]
  },
  {
   "cell_type": "code",
   "execution_count": 630,
   "metadata": {},
   "outputs": [
    {
     "data": {
      "text/plain": [
       "0.21770381083291773"
      ]
     },
     "execution_count": 630,
     "metadata": {},
     "output_type": "execute_result"
    }
   ],
   "source": [
    "st.ttest_ind(df_da['check'], df_db['check'], equal_var=False, alternative='less').pvalue"
   ]
  },
  {
   "cell_type": "code",
   "execution_count": 631,
   "metadata": {},
   "outputs": [
    {
     "data": {
      "text/plain": [
       "0.7822961891670823"
      ]
     },
     "execution_count": 631,
     "metadata": {},
     "output_type": "execute_result"
    }
   ],
   "source": [
    "st.ttest_ind(df_da['check'], df_db['check'], equal_var=False, alternative='greater').pvalue"
   ]
  },
  {
   "cell_type": "markdown",
   "metadata": {},
   "source": [
    "<div class=\"alert alert-info\">\n",
    "  Формулировка гипотез: H0: средние арифм. значения ген совокупностей А и В среднего клиентского чека равны между собой. \n",
    "                        Н1 'greater': средн арифм ген сов А больше средн арифм ген сов В\n",
    "                        Н1 'two-sided': средн арифм ген сов А и В не равны\n",
    "                        H1 'less': средн арифм ген сов В больше средн арифм ген сов А\n",
    "  Сравнение методом st.ttest_ind() последовательностей очищенных значений клиентского среднего чека (группировка orders \n",
    "по клиенту) показывает, что, хотя результаты теста не позволяют отбросить нулевую гипотезу, тем не менее, p-value имеет\n",
    "наменьшее значение в случае альтернативной гипотезы 'less' (21,8 %), что косвенно подтверждает тенденцию к тому, что \n",
    "среднее совокупности B больше среднего совокупности А. Данный результат аналогичен полученному на сырых данных.\n",
    "</div>"
   ]
  },
  {
   "cell_type": "code",
   "execution_count": 632,
   "metadata": {},
   "outputs": [
    {
     "data": {
      "text/plain": [
       "1.0"
      ]
     },
     "execution_count": 632,
     "metadata": {},
     "output_type": "execute_result"
    }
   ],
   "source": [
    "st.mannwhitneyu(df_sa['check'],df_sb['check'],True,'two-sided').pvalue"
   ]
  },
  {
   "cell_type": "code",
   "execution_count": 633,
   "metadata": {},
   "outputs": [
    {
     "data": {
      "text/plain": [
       "0.5028093426677256"
      ]
     },
     "execution_count": 633,
     "metadata": {},
     "output_type": "execute_result"
    }
   ],
   "source": [
    "st.mannwhitneyu(df_sa['check'],df_sb['check'],True,'less').pvalue"
   ]
  },
  {
   "cell_type": "code",
   "execution_count": 634,
   "metadata": {},
   "outputs": [
    {
     "data": {
      "text/plain": [
       "0.5028093426677256"
      ]
     },
     "execution_count": 634,
     "metadata": {},
     "output_type": "execute_result"
    }
   ],
   "source": [
    "st.mannwhitneyu(df_sa['check'],df_sb['check'],True,'greater').pvalue"
   ]
  },
  {
   "cell_type": "markdown",
   "metadata": {},
   "source": [
    "<div class=\"alert alert-info\">\n",
    "   Формулировка гипотез: H0: ген совокупности А и В среднего чека равны между собой. \n",
    "                        Н1 'greater': ген сов А больше ген сов В\n",
    "                        Н1 'two-sided': ген сов А и В не равны\n",
    "                        H1 'less': ген сов В больше ген сов А\n",
    "   Использование непараметрического метода st.mannwhitneyu() для сравнения очищенных последовательностей значений среднего чека\n",
    "(группировка orders по дате) показывает тот же результат, что для сырых данных: нулевая гипотеза о равенстве совокупностей \n",
    "ьне может быть отвергнута. \n",
    "</div>"
   ]
  },
  {
   "cell_type": "code",
   "execution_count": 635,
   "metadata": {},
   "outputs": [],
   "source": [
    "seq_a = pd.concat([df_da['check'], pd.Series(0, index=np.arange(visitors[visitors['group'] =='A']['visitors'].sum()\\\n",
    "        - len(seq_ex) - len(df_da['check'])), name='orders_a')],axis=0)\n",
    "seq_b = pd.concat([df_db['check'], pd.Series(0, index=np.arange(visitors[visitors['group'] == 'B']['visitors'].sum()\\\n",
    "        - len(seq_ex) - len(df_db['check'])), name='orders_b')],axis=0)"
   ]
  },
  {
   "cell_type": "code",
   "execution_count": 636,
   "metadata": {},
   "outputs": [
    {
     "data": {
      "text/plain": [
       "0.004320662048873511"
      ]
     },
     "execution_count": 636,
     "metadata": {},
     "output_type": "execute_result"
    }
   ],
   "source": [
    "st.mannwhitneyu(seq_a,seq_b,True,'two-sided').pvalue"
   ]
  },
  {
   "cell_type": "code",
   "execution_count": 637,
   "metadata": {},
   "outputs": [
    {
     "data": {
      "text/plain": [
       "0.0021603310244367557"
      ]
     },
     "execution_count": 637,
     "metadata": {},
     "output_type": "execute_result"
    }
   ],
   "source": [
    "st.mannwhitneyu(seq_a,seq_b,True,'less').pvalue"
   ]
  },
  {
   "cell_type": "code",
   "execution_count": 638,
   "metadata": {},
   "outputs": [
    {
     "data": {
      "text/plain": [
       "0.9978396928351898"
      ]
     },
     "execution_count": 638,
     "metadata": {},
     "output_type": "execute_result"
    }
   ],
   "source": [
    "st.mannwhitneyu(seq_a,seq_b,True,'greater').pvalue"
   ]
  },
  {
   "cell_type": "markdown",
   "metadata": {},
   "source": [
    "<div class=\"alert alert-info\">\n",
    "   Формулировка гипотез: H0: ген совокупности А и В среднего клиентского чека равны между собой. \n",
    "                         Н1 'greater': ген сов А больше ген сов В\n",
    "                         Н1 'two-sided': ген сов А и В не равны\n",
    "                         H1 'less': ген сов В больше ген сов А\n",
    "   Использование непараметрического метода st.mannwhitneyu() для сравнения последовательностей очищенных значений клиентского \n",
    "среднего чека (группировка orders по клиенту) показывает тенденцию аналогичную для случая сырых данных: нулевая гипотеза\n",
    "отвергается в случае двусторонней и односторонней 'less' альтернативных гипотез, а в случае альтернативной гипотезы 'greater' \n",
    "нулевую гипотезу нельзя отбросить. Это свидетельствует о том, что совокупность B больше, чем А. Величины p-value для \n",
    "двусторонней и односторонней 'less' гипотез в случае очищенных данных в 2 раза ниже, по сравнению с сырыми данным, что \n",
    "еще больше подчеркивает факт превосходства монжества В над множеством А. \n",
    "</div>"
   ]
  },
  {
   "cell_type": "markdown",
   "metadata": {},
   "source": [
    "<div class=\"alert alert-info\">\n",
    "  <b> Выводы по результатам А/В тестирования </b>\n",
    "    <a id=\"infer\"></a>\n",
    "</div>"
   ]
  },
  {
   "cell_type": "markdown",
   "metadata": {},
   "source": [
    "<div class=\"alert alert-info\">\n",
    "   В ходе исследования изменения кумулятивных метрик были установлены следующие тенденции:\n",
    "\n",
    "   -  Графики динамики кумулятивной выручки для обеих групп и график изменения относительной кумулятивной выручки свидетельствуют\n",
    "о том, что скорость накопления выручки в группе B существенной превосходит скорость накопления выручки в группе А. Не смотря\n",
    "на неусточивую динамику нарастания относительной выручки, которая характеризуется наличием нескольких экстремумов, в целом,\n",
    "данный показатель в период эксперимента отчетливо повышается, что свидетельствует о преимуществе клиентского подхода в \n",
    "группе В. \n",
    "\n",
    "   - Изменение кумулятивного среднего чека в группах сравнения показывает, что скорость роста среднего чека в группе В существенно\n",
    "превышает скорость роста среднего чека в группе А, повторяя тенденции, обнаруженные на диаграмме роста кумулятивной выручки. \n",
    "Аналоги.но себя ведет относительный средний чек, который, не смотря на минимум от 13.08.2019, имеет тенденцию к росту,\n",
    "свидетельствуя о повышении продаж в группе B, по сравнению с группой А.\n",
    "\n",
    "   -  Кумулятивные кривые динамики изменения среднего числа заказов на посетителя интернет-магазина имеют зеркальный характер и \n",
    "свидетельствует о нарастании со времененм удельного числа заказов в группе В и, соответственно, о снижении удельного количества\n",
    "заказов в группе А. Кривая относительного изменения удельного числа заказов подтверждает данную тенденцию и показывает, что,\n",
    "начиная с 09.08.2019, удельное количество заказов в группе В стабильно на 8 - 15 % выше, по сравнению с удельным числом\n",
    "заказов в группе А. \n",
    "\n",
    "   Проверка статистической значимости различий между выборками А и В показал следующее:\n",
    "        \n",
    "   - Формулировка гипотез:\n",
    "         Нулевая гипотеза: H0: генеральные совокупности А и В удельного числа заказов равны между собой. \n",
    "         Альтернативные гипотезы: Н1 'greater': генеральная совокупность А больше генеральной совокупности В\n",
    "                                  Н1 'two-sided': генеральные совокупности А и В не равны\n",
    "                                  H1 'less': генеральная совокупность В больше генеральной совокупности А\n",
    "        \n",
    "   - Проверка значимости различий между генеральными совокупностями удельного числа заказов (на клиента) с применением \n",
    "непараметрического метода Манна-Уитни показывает следующую тенденцию: нулевая гипотеза отбрасывается при двусторонней и\n",
    "односторонней 'less' альтернативных гипотезах (p-value << 5%), а при односторонней 'greater' гипотезе нулевая гипотеза не может\n",
    "быть опровергнута. Это свидетельствует о наличии статистической значимости различий распределений удельного количества заказов, \n",
    "а также о том, что совокупность B больше совокупности A. Очистка данных сделала ранее отмеченные тенденции\n",
    "еще более отчетливыми - значения p-value для двусторонней и односторонней 'less' альтернативных гипотез снизились в 1,5 - 2 раза,\n",
    "что позволяет в этих случаях отвергать нулевую гипотезу еще более уверенно и подтверждает факт того, что совокупность В больше\n",
    "совокупности А.\n",
    "\n",
    "   - Формулировка гипотез:\n",
    "         Нулевая гипотеза: H0: генеральные совокупности А и В клиентского среднего чека равны между собой. \n",
    "         Альтернативные гипотезы: Н1 'greater': генеральная совокупность А больше генеральной совокупности В\n",
    "                                  Н1 'two-sided': генеральные совокупности А и В не равны\n",
    "                                  H1 'less': генеральная совокупность В больше генеральной совокупности А\n",
    "\n",
    "   - Использование непараметрического метода st.mannwhitneyu() для сравнения последовательностей значений клиентского среднего\n",
    "чека (группировка orders по клиенту) показывает, что нулевая гипотеза отвергается в случае двусторонней и односторонней 'less'\n",
    "альтернативных гипотез, а в случае альтернативной гипотезы 'greater' нулевую гипотезу нельзя отбросить. Это свидетельствует\n",
    "о том, что совокупность B больше, чем А. Величины p-value для двусторонней и односторонней 'less' гипотез в случае очищенных \n",
    "данных в 2 раза ниже, по сравнению с сырыми данным, что еще больше подчеркивает факт превосходства множества В над множеством А.\n",
    "\n",
    "  Таким образом, результаты анализа А/В тестирования достаточно достоверно показывает превосходство группы В над\n",
    "группой А по исследуемым основным метрикам (выручка, количество заказов на клиента и средний чек), что позволяет остановить\n",
    "эксперимент и зафиксировать победу группы В. \n",
    "</div>"
   ]
  },
  {
   "cell_type": "code",
   "execution_count": null,
   "metadata": {},
   "outputs": [],
   "source": []
  }
 ],
 "metadata": {
  "ExecuteTimeLog": [
   {
    "duration": 53,
    "start_time": "2023-09-29T12:16:08.456Z"
   },
   {
    "duration": 418,
    "start_time": "2023-09-29T12:16:13.664Z"
   },
   {
    "duration": 84,
    "start_time": "2023-09-29T12:16:14.144Z"
   },
   {
    "duration": 14,
    "start_time": "2023-09-29T12:24:07.976Z"
   },
   {
    "duration": 533,
    "start_time": "2023-09-29T12:25:40.256Z"
   },
   {
    "duration": 36,
    "start_time": "2023-09-29T12:25:42.026Z"
   },
   {
    "duration": 14,
    "start_time": "2023-09-29T12:25:45.655Z"
   },
   {
    "duration": 14,
    "start_time": "2023-09-29T12:27:17.856Z"
   },
   {
    "duration": 13,
    "start_time": "2023-09-29T12:29:16.065Z"
   },
   {
    "duration": 221,
    "start_time": "2023-09-29T12:29:23.458Z"
   },
   {
    "duration": 17,
    "start_time": "2023-09-29T12:29:49.023Z"
   },
   {
    "duration": 325,
    "start_time": "2023-09-29T12:30:15.978Z"
   },
   {
    "duration": 253,
    "start_time": "2023-09-29T12:30:46.754Z"
   },
   {
    "duration": 189,
    "start_time": "2023-09-29T12:31:05.626Z"
   },
   {
    "duration": 200,
    "start_time": "2023-09-29T12:31:23.690Z"
   },
   {
    "duration": 39,
    "start_time": "2023-09-29T13:06:46.701Z"
   },
   {
    "duration": 33,
    "start_time": "2023-09-29T13:07:06.751Z"
   },
   {
    "duration": 12,
    "start_time": "2023-09-29T13:07:13.988Z"
   },
   {
    "duration": 39,
    "start_time": "2023-09-29T13:34:57.079Z"
   },
   {
    "duration": 13,
    "start_time": "2023-09-29T13:35:13.923Z"
   },
   {
    "duration": 14,
    "start_time": "2023-09-29T13:35:24.960Z"
   },
   {
    "duration": 6,
    "start_time": "2023-09-29T13:35:58.698Z"
   },
   {
    "duration": 64,
    "start_time": "2023-09-29T13:36:42.473Z"
   },
   {
    "duration": 4,
    "start_time": "2023-09-29T13:36:47.009Z"
   },
   {
    "duration": 3,
    "start_time": "2023-09-29T13:38:00.134Z"
   },
   {
    "duration": 10,
    "start_time": "2023-09-29T13:38:14.321Z"
   },
   {
    "duration": 11,
    "start_time": "2023-09-29T13:39:22.681Z"
   },
   {
    "duration": 8,
    "start_time": "2023-09-29T13:40:01.441Z"
   },
   {
    "duration": 8,
    "start_time": "2023-09-29T13:40:15.570Z"
   },
   {
    "duration": 9,
    "start_time": "2023-09-29T13:41:09.043Z"
   },
   {
    "duration": 4,
    "start_time": "2023-09-29T13:41:26.163Z"
   },
   {
    "duration": 5,
    "start_time": "2023-09-29T13:41:41.476Z"
   },
   {
    "duration": 3,
    "start_time": "2023-09-29T13:41:52.210Z"
   },
   {
    "duration": 5,
    "start_time": "2023-09-29T13:41:55.754Z"
   },
   {
    "duration": 4,
    "start_time": "2023-09-29T13:42:04.523Z"
   },
   {
    "duration": 1882,
    "start_time": "2023-09-29T13:43:03.815Z"
   },
   {
    "duration": 1823,
    "start_time": "2023-09-29T13:43:17.563Z"
   },
   {
    "duration": 13,
    "start_time": "2023-09-29T13:43:44.564Z"
   },
   {
    "duration": 5,
    "start_time": "2023-09-29T13:44:38.699Z"
   },
   {
    "duration": 5,
    "start_time": "2023-09-29T13:44:45.723Z"
   },
   {
    "duration": 7,
    "start_time": "2023-09-29T13:44:51.886Z"
   },
   {
    "duration": 5,
    "start_time": "2023-09-29T13:45:16.152Z"
   },
   {
    "duration": 5,
    "start_time": "2023-09-29T13:45:38.005Z"
   },
   {
    "duration": 13,
    "start_time": "2023-09-29T13:46:12.971Z"
   },
   {
    "duration": 34,
    "start_time": "2023-09-29T13:46:21.724Z"
   },
   {
    "duration": 12,
    "start_time": "2023-09-29T13:46:26.756Z"
   },
   {
    "duration": 12,
    "start_time": "2023-09-29T13:46:52.080Z"
   },
   {
    "duration": 11,
    "start_time": "2023-09-29T13:46:54.164Z"
   },
   {
    "duration": 1686,
    "start_time": "2023-09-29T13:46:59.727Z"
   },
   {
    "duration": 181,
    "start_time": "2023-09-29T13:47:13.723Z"
   },
   {
    "duration": 8,
    "start_time": "2023-09-29T13:47:24.395Z"
   },
   {
    "duration": 4,
    "start_time": "2023-09-29T13:47:37.636Z"
   },
   {
    "duration": 5,
    "start_time": "2023-09-29T13:47:42.524Z"
   },
   {
    "duration": 6,
    "start_time": "2023-09-29T13:47:48.531Z"
   },
   {
    "duration": 10,
    "start_time": "2023-09-29T14:57:08.919Z"
   },
   {
    "duration": 8,
    "start_time": "2023-09-29T14:57:43.257Z"
   },
   {
    "duration": 131,
    "start_time": "2023-09-29T14:59:16.566Z"
   },
   {
    "duration": 94,
    "start_time": "2023-09-29T15:00:22.758Z"
   },
   {
    "duration": 104,
    "start_time": "2023-09-29T15:00:47.214Z"
   },
   {
    "duration": 215,
    "start_time": "2023-09-29T15:01:14.719Z"
   },
   {
    "duration": 80,
    "start_time": "2023-09-29T15:01:31.978Z"
   },
   {
    "duration": 106,
    "start_time": "2023-09-29T15:01:38.708Z"
   },
   {
    "duration": 9,
    "start_time": "2023-09-29T15:01:47.080Z"
   },
   {
    "duration": 97,
    "start_time": "2023-09-29T15:02:19.070Z"
   },
   {
    "duration": 80,
    "start_time": "2023-09-29T15:02:33.950Z"
   },
   {
    "duration": 75,
    "start_time": "2023-09-29T15:03:03.718Z"
   },
   {
    "duration": 82,
    "start_time": "2023-09-29T15:04:30.147Z"
   },
   {
    "duration": 10,
    "start_time": "2023-09-29T15:04:37.070Z"
   },
   {
    "duration": 8,
    "start_time": "2023-09-29T15:04:56.159Z"
   },
   {
    "duration": 101,
    "start_time": "2023-09-29T15:05:04.059Z"
   },
   {
    "duration": 98,
    "start_time": "2023-09-29T15:06:49.131Z"
   },
   {
    "duration": 101,
    "start_time": "2023-09-29T15:07:28.567Z"
   },
   {
    "duration": 97,
    "start_time": "2023-09-29T15:07:49.433Z"
   },
   {
    "duration": 4,
    "start_time": "2023-09-29T15:08:01.802Z"
   },
   {
    "duration": 102,
    "start_time": "2023-09-29T15:08:07.886Z"
   },
   {
    "duration": 163,
    "start_time": "2023-09-29T15:08:28.239Z"
   },
   {
    "duration": 92,
    "start_time": "2023-09-29T15:08:33.088Z"
   },
   {
    "duration": 93,
    "start_time": "2023-09-29T15:09:26.318Z"
   },
   {
    "duration": 100,
    "start_time": "2023-09-29T15:10:18.691Z"
   },
   {
    "duration": 99,
    "start_time": "2023-09-29T15:10:33.932Z"
   },
   {
    "duration": 99,
    "start_time": "2023-09-29T15:10:49.559Z"
   },
   {
    "duration": 98,
    "start_time": "2023-09-29T15:10:57.030Z"
   },
   {
    "duration": 99,
    "start_time": "2023-09-29T15:15:53.049Z"
   },
   {
    "duration": 294,
    "start_time": "2023-09-29T15:19:02.680Z"
   },
   {
    "duration": 283,
    "start_time": "2023-09-29T15:19:35.088Z"
   },
   {
    "duration": 148,
    "start_time": "2023-09-29T15:21:35.983Z"
   },
   {
    "duration": 146,
    "start_time": "2023-09-29T15:22:25.611Z"
   },
   {
    "duration": 150,
    "start_time": "2023-09-29T15:22:33.455Z"
   },
   {
    "duration": 154,
    "start_time": "2023-09-29T15:22:38.419Z"
   },
   {
    "duration": 215,
    "start_time": "2023-09-29T15:31:59.549Z"
   },
   {
    "duration": 175,
    "start_time": "2023-09-29T15:32:14.444Z"
   },
   {
    "duration": 35,
    "start_time": "2023-09-29T15:37:01.604Z"
   },
   {
    "duration": 12,
    "start_time": "2023-09-29T15:37:07.643Z"
   },
   {
    "duration": 183,
    "start_time": "2023-09-29T15:38:10.532Z"
   },
   {
    "duration": 4,
    "start_time": "2023-09-29T15:49:49.806Z"
   },
   {
    "duration": 8,
    "start_time": "2023-09-29T15:50:26.013Z"
   },
   {
    "duration": 5,
    "start_time": "2023-09-29T15:50:49.521Z"
   },
   {
    "duration": 2433,
    "start_time": "2023-09-29T15:51:33.726Z"
   },
   {
    "duration": 7,
    "start_time": "2023-09-29T15:51:42.957Z"
   },
   {
    "duration": 98,
    "start_time": "2023-09-29T15:52:05.685Z"
   },
   {
    "duration": 6,
    "start_time": "2023-09-29T15:52:22.215Z"
   },
   {
    "duration": 302,
    "start_time": "2023-09-29T15:53:01.806Z"
   },
   {
    "duration": 256,
    "start_time": "2023-09-29T15:53:34.968Z"
   },
   {
    "duration": 169,
    "start_time": "2023-09-29T15:55:49.156Z"
   },
   {
    "duration": 218,
    "start_time": "2023-09-29T15:58:44.859Z"
   },
   {
    "duration": 14,
    "start_time": "2023-09-29T16:00:35.395Z"
   },
   {
    "duration": 177,
    "start_time": "2023-09-29T16:00:36.276Z"
   },
   {
    "duration": 4,
    "start_time": "2023-09-29T16:00:38.261Z"
   },
   {
    "duration": 8,
    "start_time": "2023-09-29T16:00:39.123Z"
   },
   {
    "duration": 181,
    "start_time": "2023-09-29T16:00:40.282Z"
   },
   {
    "duration": 313,
    "start_time": "2023-09-29T16:00:42.523Z"
   },
   {
    "duration": 5,
    "start_time": "2023-09-29T16:01:45.946Z"
   },
   {
    "duration": 7,
    "start_time": "2023-09-29T16:01:47.495Z"
   },
   {
    "duration": 180,
    "start_time": "2023-09-29T16:01:48.406Z"
   },
   {
    "duration": 391,
    "start_time": "2023-09-29T16:01:55.281Z"
   },
   {
    "duration": 291,
    "start_time": "2023-09-29T16:02:45.950Z"
   },
   {
    "duration": 3,
    "start_time": "2023-09-29T16:03:07.091Z"
   },
   {
    "duration": 7,
    "start_time": "2023-09-29T16:04:04.251Z"
   },
   {
    "duration": 174,
    "start_time": "2023-09-29T16:04:05.042Z"
   },
   {
    "duration": 5,
    "start_time": "2023-09-29T16:04:19.768Z"
   },
   {
    "duration": 9,
    "start_time": "2023-09-29T16:04:20.562Z"
   },
   {
    "duration": 179,
    "start_time": "2023-09-29T16:04:21.265Z"
   },
   {
    "duration": 14,
    "start_time": "2023-09-29T16:05:12.848Z"
   },
   {
    "duration": 188,
    "start_time": "2023-09-29T16:05:13.643Z"
   },
   {
    "duration": 5,
    "start_time": "2023-09-29T16:05:15.194Z"
   },
   {
    "duration": 10,
    "start_time": "2023-09-29T16:05:15.930Z"
   },
   {
    "duration": 195,
    "start_time": "2023-09-29T16:05:16.522Z"
   },
   {
    "duration": 34,
    "start_time": "2023-09-29T16:05:38.962Z"
   },
   {
    "duration": 14,
    "start_time": "2023-09-29T16:05:39.962Z"
   },
   {
    "duration": 202,
    "start_time": "2023-09-29T16:05:40.522Z"
   },
   {
    "duration": 6,
    "start_time": "2023-09-29T16:05:41.538Z"
   },
   {
    "duration": 8,
    "start_time": "2023-09-29T16:05:42.138Z"
   },
   {
    "duration": 174,
    "start_time": "2023-09-29T16:05:42.662Z"
   },
   {
    "duration": 5,
    "start_time": "2023-09-29T16:09:27.362Z"
   },
   {
    "duration": 4,
    "start_time": "2023-09-29T17:32:17.965Z"
   },
   {
    "duration": 383,
    "start_time": "2023-09-29T17:32:18.760Z"
   },
   {
    "duration": 5,
    "start_time": "2023-09-29T17:32:57.166Z"
   },
   {
    "duration": 4,
    "start_time": "2023-09-29T17:33:20.127Z"
   },
   {
    "duration": 5,
    "start_time": "2023-09-29T17:33:56.248Z"
   },
   {
    "duration": 5,
    "start_time": "2023-09-29T17:33:57.047Z"
   },
   {
    "duration": 5,
    "start_time": "2023-09-29T17:34:14.645Z"
   },
   {
    "duration": 7,
    "start_time": "2023-09-29T17:34:16.878Z"
   },
   {
    "duration": 6,
    "start_time": "2023-09-29T17:34:41.907Z"
   },
   {
    "duration": 445,
    "start_time": "2023-09-29T17:34:49.632Z"
   },
   {
    "duration": 5,
    "start_time": "2023-09-29T17:35:12.022Z"
   },
   {
    "duration": 14,
    "start_time": "2023-09-29T17:35:19.410Z"
   },
   {
    "duration": 5,
    "start_time": "2023-09-29T17:35:29.266Z"
   },
   {
    "duration": 4,
    "start_time": "2023-09-29T17:35:49.096Z"
   },
   {
    "duration": 203,
    "start_time": "2023-09-29T17:35:58.377Z"
   },
   {
    "duration": 387,
    "start_time": "2023-09-29T17:36:43.425Z"
   },
   {
    "duration": 169,
    "start_time": "2023-09-29T17:37:13.376Z"
   },
   {
    "duration": 3643,
    "start_time": "2023-09-29T17:37:35.095Z"
   },
   {
    "duration": 14,
    "start_time": "2023-09-29T17:38:02.143Z"
   },
   {
    "duration": 261,
    "start_time": "2023-09-29T17:38:02.831Z"
   },
   {
    "duration": 5,
    "start_time": "2023-09-29T17:38:04.366Z"
   },
   {
    "duration": 7,
    "start_time": "2023-09-29T17:38:05.151Z"
   },
   {
    "duration": 143,
    "start_time": "2023-09-29T17:38:26.303Z"
   },
   {
    "duration": 7,
    "start_time": "2023-09-29T17:38:37.862Z"
   },
   {
    "duration": 4,
    "start_time": "2023-09-29T17:38:51.926Z"
   },
   {
    "duration": 211,
    "start_time": "2023-09-29T17:40:45.623Z"
   },
   {
    "duration": 151,
    "start_time": "2023-09-29T17:43:27.722Z"
   },
   {
    "duration": 200,
    "start_time": "2023-09-29T17:43:34.181Z"
   },
   {
    "duration": 5,
    "start_time": "2023-09-29T17:47:38.579Z"
   },
   {
    "duration": 6,
    "start_time": "2023-09-29T17:47:54.182Z"
   },
   {
    "duration": 5,
    "start_time": "2023-09-29T17:48:01.532Z"
   },
   {
    "duration": 3,
    "start_time": "2023-09-29T17:48:16.940Z"
   },
   {
    "duration": 4,
    "start_time": "2023-09-29T17:48:22.972Z"
   },
   {
    "duration": 6,
    "start_time": "2023-09-29T17:49:42.447Z"
   },
   {
    "duration": 5,
    "start_time": "2023-09-29T17:49:54.411Z"
   },
   {
    "duration": 1473,
    "start_time": "2023-09-29T17:51:01.804Z"
   },
   {
    "duration": 228,
    "start_time": "2023-09-29T17:51:26.540Z"
   },
   {
    "duration": 197,
    "start_time": "2023-09-29T17:52:51.160Z"
   },
   {
    "duration": 264,
    "start_time": "2023-09-29T17:53:19.779Z"
   },
   {
    "duration": 214,
    "start_time": "2023-09-29T17:54:46.973Z"
   },
   {
    "duration": 227,
    "start_time": "2023-09-29T17:55:09.212Z"
   },
   {
    "duration": 228,
    "start_time": "2023-09-29T17:55:31.024Z"
   },
   {
    "duration": 4,
    "start_time": "2023-09-29T18:10:22.176Z"
   },
   {
    "duration": 37,
    "start_time": "2023-09-29T18:10:22.643Z"
   },
   {
    "duration": 13,
    "start_time": "2023-09-29T18:10:23.532Z"
   },
   {
    "duration": 289,
    "start_time": "2023-09-29T18:10:24.033Z"
   },
   {
    "duration": 5,
    "start_time": "2023-09-29T18:10:24.937Z"
   },
   {
    "duration": 9,
    "start_time": "2023-09-29T18:10:25.323Z"
   },
   {
    "duration": 166,
    "start_time": "2023-09-29T18:10:25.969Z"
   },
   {
    "duration": 14,
    "start_time": "2023-09-29T18:10:27.179Z"
   },
   {
    "duration": 186,
    "start_time": "2023-09-29T18:10:27.620Z"
   },
   {
    "duration": 5,
    "start_time": "2023-09-29T18:10:28.449Z"
   },
   {
    "duration": 6,
    "start_time": "2023-09-29T18:10:28.840Z"
   },
   {
    "duration": 179,
    "start_time": "2023-09-29T18:10:29.301Z"
   },
   {
    "duration": 4,
    "start_time": "2023-09-29T18:10:30.242Z"
   },
   {
    "duration": 6,
    "start_time": "2023-09-29T18:10:30.689Z"
   },
   {
    "duration": 252,
    "start_time": "2023-09-29T18:10:31.097Z"
   },
   {
    "duration": 48,
    "start_time": "2023-09-30T14:20:31.787Z"
   },
   {
    "duration": 7,
    "start_time": "2023-09-30T14:20:38.612Z"
   },
   {
    "duration": 761,
    "start_time": "2023-09-30T14:20:57.572Z"
   },
   {
    "duration": 71,
    "start_time": "2023-09-30T14:20:58.335Z"
   },
   {
    "duration": 12,
    "start_time": "2023-09-30T14:20:59.420Z"
   },
   {
    "duration": 188,
    "start_time": "2023-09-30T14:20:59.892Z"
   },
   {
    "duration": 4,
    "start_time": "2023-09-30T14:21:00.733Z"
   },
   {
    "duration": 7,
    "start_time": "2023-09-30T14:21:01.133Z"
   },
   {
    "duration": 178,
    "start_time": "2023-09-30T14:21:01.623Z"
   },
   {
    "duration": 13,
    "start_time": "2023-09-30T14:21:02.813Z"
   },
   {
    "duration": 166,
    "start_time": "2023-09-30T14:21:03.223Z"
   },
   {
    "duration": 4,
    "start_time": "2023-09-30T14:21:04.131Z"
   },
   {
    "duration": 7,
    "start_time": "2023-09-30T14:21:04.644Z"
   },
   {
    "duration": 154,
    "start_time": "2023-09-30T14:21:05.172Z"
   },
   {
    "duration": 3,
    "start_time": "2023-09-30T14:21:06.343Z"
   },
   {
    "duration": 3,
    "start_time": "2023-09-30T14:21:06.852Z"
   },
   {
    "duration": 245,
    "start_time": "2023-09-30T14:21:07.424Z"
   },
   {
    "duration": 144,
    "start_time": "2023-09-30T14:21:09.573Z"
   },
   {
    "duration": 8,
    "start_time": "2023-09-30T14:21:56.252Z"
   },
   {
    "duration": 80,
    "start_time": "2023-09-30T14:35:49.055Z"
   },
   {
    "duration": 117,
    "start_time": "2023-09-30T14:37:01.982Z"
   },
   {
    "duration": 405,
    "start_time": "2023-09-30T14:37:48.614Z"
   },
   {
    "duration": 9,
    "start_time": "2023-09-30T14:39:14.942Z"
   },
   {
    "duration": 2,
    "start_time": "2023-09-30T14:39:47.224Z"
   },
   {
    "duration": 707,
    "start_time": "2023-09-30T14:40:03.073Z"
   },
   {
    "duration": 67,
    "start_time": "2023-09-30T14:43:26.934Z"
   },
   {
    "duration": 64,
    "start_time": "2023-09-30T14:43:53.375Z"
   },
   {
    "duration": 66,
    "start_time": "2023-09-30T14:44:04.142Z"
   },
   {
    "duration": 1202,
    "start_time": "2023-09-30T14:55:47.017Z"
   },
   {
    "duration": 14,
    "start_time": "2023-09-30T14:57:48.699Z"
   },
   {
    "duration": 19,
    "start_time": "2023-09-30T15:07:25.734Z"
   },
   {
    "duration": 21,
    "start_time": "2023-09-30T15:08:50.733Z"
   },
   {
    "duration": 249,
    "start_time": "2023-09-30T15:14:05.369Z"
   },
   {
    "duration": 231,
    "start_time": "2023-09-30T15:14:28.351Z"
   },
   {
    "duration": 241,
    "start_time": "2023-09-30T15:15:45.470Z"
   },
   {
    "duration": 224,
    "start_time": "2023-09-30T15:17:08.295Z"
   },
   {
    "duration": 267,
    "start_time": "2023-09-30T15:17:25.652Z"
   },
   {
    "duration": 85,
    "start_time": "2023-09-30T15:21:17.054Z"
   },
   {
    "duration": 12,
    "start_time": "2023-09-30T15:40:57.466Z"
   },
   {
    "duration": 24,
    "start_time": "2023-09-30T15:42:18.789Z"
   },
   {
    "duration": 20,
    "start_time": "2023-09-30T15:42:34.139Z"
   },
   {
    "duration": 174,
    "start_time": "2023-09-30T15:44:14.794Z"
   },
   {
    "duration": 78,
    "start_time": "2023-09-30T15:45:09.339Z"
   },
   {
    "duration": 176,
    "start_time": "2023-09-30T15:45:29.821Z"
   },
   {
    "duration": 166,
    "start_time": "2023-09-30T15:46:18.757Z"
   },
   {
    "duration": 90,
    "start_time": "2023-09-30T15:47:18.627Z"
   },
   {
    "duration": 100,
    "start_time": "2023-09-30T15:48:44.038Z"
   },
   {
    "duration": 68,
    "start_time": "2023-09-30T15:48:52.948Z"
   },
   {
    "duration": 155,
    "start_time": "2023-09-30T15:50:02.582Z"
   },
   {
    "duration": 9,
    "start_time": "2023-09-30T15:50:09.179Z"
   },
   {
    "duration": 117,
    "start_time": "2023-09-30T15:50:55.109Z"
   },
   {
    "duration": 180,
    "start_time": "2023-09-30T15:51:11.061Z"
   },
   {
    "duration": 130,
    "start_time": "2023-09-30T15:51:30.828Z"
   },
   {
    "duration": 108,
    "start_time": "2023-09-30T15:51:41.220Z"
   },
   {
    "duration": 160,
    "start_time": "2023-09-30T15:52:06.181Z"
   },
   {
    "duration": 138,
    "start_time": "2023-09-30T15:52:15.629Z"
   },
   {
    "duration": 168,
    "start_time": "2023-09-30T15:54:19.540Z"
   },
   {
    "duration": 169,
    "start_time": "2023-09-30T15:54:40.036Z"
   },
   {
    "duration": 167,
    "start_time": "2023-09-30T15:55:52.790Z"
   },
   {
    "duration": 8,
    "start_time": "2023-09-30T15:57:17.094Z"
   },
   {
    "duration": 3,
    "start_time": "2023-09-30T15:57:38.222Z"
   },
   {
    "duration": 5,
    "start_time": "2023-09-30T15:57:47.861Z"
   },
   {
    "duration": 5,
    "start_time": "2023-09-30T15:58:16.196Z"
   },
   {
    "duration": 6,
    "start_time": "2023-09-30T15:59:21.053Z"
   },
   {
    "duration": 193,
    "start_time": "2023-09-30T16:01:46.310Z"
   },
   {
    "duration": 183,
    "start_time": "2023-09-30T16:02:10.143Z"
   },
   {
    "duration": 8,
    "start_time": "2023-09-30T16:10:27.681Z"
   },
   {
    "duration": 11,
    "start_time": "2023-09-30T16:10:37.233Z"
   },
   {
    "duration": 11,
    "start_time": "2023-09-30T16:10:56.483Z"
   },
   {
    "duration": 1462,
    "start_time": "2023-09-30T16:24:53.690Z"
   },
   {
    "duration": 217,
    "start_time": "2023-09-30T16:25:29.770Z"
   },
   {
    "duration": 157,
    "start_time": "2023-09-30T16:25:44.801Z"
   },
   {
    "duration": 184,
    "start_time": "2023-09-30T16:25:50.242Z"
   },
   {
    "duration": 152,
    "start_time": "2023-09-30T16:25:55.443Z"
   },
   {
    "duration": 161,
    "start_time": "2023-09-30T16:26:42.841Z"
   },
   {
    "duration": 5,
    "start_time": "2023-09-30T16:27:31.756Z"
   },
   {
    "duration": 6,
    "start_time": "2023-09-30T16:27:54.540Z"
   },
   {
    "duration": 8,
    "start_time": "2023-09-30T16:28:35.080Z"
   },
   {
    "duration": 8,
    "start_time": "2023-09-30T16:28:53.913Z"
   },
   {
    "duration": 55,
    "start_time": "2023-09-30T18:30:29.581Z"
   },
   {
    "duration": 7,
    "start_time": "2023-09-30T18:30:43.466Z"
   },
   {
    "duration": 863,
    "start_time": "2023-09-30T18:30:55.103Z"
   },
   {
    "duration": 75,
    "start_time": "2023-09-30T18:30:55.968Z"
   },
   {
    "duration": 14,
    "start_time": "2023-09-30T18:30:59.865Z"
   },
   {
    "duration": 260,
    "start_time": "2023-09-30T18:31:05.088Z"
   },
   {
    "duration": 5,
    "start_time": "2023-09-30T18:31:07.127Z"
   },
   {
    "duration": 7,
    "start_time": "2023-09-30T18:31:07.656Z"
   },
   {
    "duration": 176,
    "start_time": "2023-09-30T18:31:08.167Z"
   },
   {
    "duration": 14,
    "start_time": "2023-09-30T18:31:09.727Z"
   },
   {
    "duration": 195,
    "start_time": "2023-09-30T18:31:10.267Z"
   },
   {
    "duration": 5,
    "start_time": "2023-09-30T18:31:11.256Z"
   },
   {
    "duration": 7,
    "start_time": "2023-09-30T18:31:11.828Z"
   },
   {
    "duration": 170,
    "start_time": "2023-09-30T18:31:12.376Z"
   },
   {
    "duration": 3,
    "start_time": "2023-09-30T18:31:13.687Z"
   },
   {
    "duration": 3,
    "start_time": "2023-09-30T18:31:14.168Z"
   },
   {
    "duration": 256,
    "start_time": "2023-09-30T18:31:14.616Z"
   },
   {
    "duration": 146,
    "start_time": "2023-09-30T18:31:16.944Z"
   },
   {
    "duration": 8,
    "start_time": "2023-09-30T18:31:17.536Z"
   },
   {
    "duration": 22,
    "start_time": "2023-09-30T18:31:18.655Z"
   },
   {
    "duration": 334,
    "start_time": "2023-09-30T18:31:19.144Z"
   },
   {
    "duration": 92,
    "start_time": "2023-09-30T18:31:19.581Z"
   },
   {
    "duration": 20,
    "start_time": "2023-09-30T18:31:20.295Z"
   },
   {
    "duration": 208,
    "start_time": "2023-09-30T18:31:20.847Z"
   },
   {
    "duration": 200,
    "start_time": "2023-09-30T18:31:21.528Z"
   },
   {
    "duration": 183,
    "start_time": "2023-09-30T18:31:22.166Z"
   },
   {
    "duration": 188,
    "start_time": "2023-09-30T18:31:22.687Z"
   },
   {
    "duration": 5,
    "start_time": "2023-09-30T18:31:23.247Z"
   },
   {
    "duration": 5,
    "start_time": "2023-09-30T18:31:23.807Z"
   },
   {
    "duration": 8,
    "start_time": "2023-09-30T18:31:24.414Z"
   },
   {
    "duration": 8,
    "start_time": "2023-09-30T18:31:24.967Z"
   },
   {
    "duration": 184,
    "start_time": "2023-09-30T18:31:26.023Z"
   },
   {
    "duration": 173,
    "start_time": "2023-09-30T18:31:26.387Z"
   },
   {
    "duration": 6,
    "start_time": "2023-09-30T18:31:26.878Z"
   },
   {
    "duration": 6,
    "start_time": "2023-09-30T18:31:27.378Z"
   },
   {
    "duration": 8,
    "start_time": "2023-09-30T18:31:27.895Z"
   },
   {
    "duration": 9,
    "start_time": "2023-09-30T18:31:28.423Z"
   },
   {
    "duration": 12,
    "start_time": "2023-09-30T18:31:29.975Z"
   },
   {
    "duration": 12,
    "start_time": "2023-09-30T18:32:20.736Z"
   },
   {
    "duration": 53,
    "start_time": "2023-09-30T18:41:00.816Z"
   },
   {
    "duration": 99,
    "start_time": "2023-09-30T18:42:12.361Z"
   },
   {
    "duration": 99,
    "start_time": "2023-09-30T18:45:35.791Z"
   },
   {
    "duration": 98,
    "start_time": "2023-09-30T18:46:30.487Z"
   },
   {
    "duration": 77,
    "start_time": "2023-09-30T18:47:03.144Z"
   },
   {
    "duration": 103,
    "start_time": "2023-09-30T18:47:39.262Z"
   },
   {
    "duration": 94,
    "start_time": "2023-09-30T18:47:55.984Z"
   },
   {
    "duration": 9,
    "start_time": "2023-09-30T18:48:11.917Z"
   },
   {
    "duration": 163,
    "start_time": "2023-09-30T18:49:24.655Z"
   },
   {
    "duration": 9,
    "start_time": "2023-09-30T18:49:31.047Z"
   },
   {
    "duration": 10,
    "start_time": "2023-09-30T18:49:40.017Z"
   },
   {
    "duration": 14,
    "start_time": "2023-09-30T19:44:15.145Z"
   },
   {
    "duration": 306,
    "start_time": "2023-09-30T19:45:55.761Z"
   },
   {
    "duration": 228,
    "start_time": "2023-09-30T19:48:20.898Z"
   },
   {
    "duration": 6,
    "start_time": "2023-09-30T19:49:39.079Z"
   },
   {
    "duration": 225,
    "start_time": "2023-09-30T19:49:56.537Z"
   },
   {
    "duration": 221,
    "start_time": "2023-09-30T19:50:57.154Z"
   },
   {
    "duration": 223,
    "start_time": "2023-09-30T19:51:41.978Z"
   },
   {
    "duration": 227,
    "start_time": "2023-09-30T19:51:59.244Z"
   },
   {
    "duration": 245,
    "start_time": "2023-09-30T19:52:49.955Z"
   },
   {
    "duration": 348,
    "start_time": "2023-09-30T19:54:47.577Z"
   },
   {
    "duration": 351,
    "start_time": "2023-09-30T19:55:54.657Z"
   },
   {
    "duration": 877,
    "start_time": "2023-10-01T11:10:10.026Z"
   },
   {
    "duration": 82,
    "start_time": "2023-10-01T11:10:10.906Z"
   },
   {
    "duration": 15,
    "start_time": "2023-10-01T11:10:12.401Z"
   },
   {
    "duration": 203,
    "start_time": "2023-10-01T11:10:13.141Z"
   },
   {
    "duration": 5,
    "start_time": "2023-10-01T11:10:14.886Z"
   },
   {
    "duration": 6,
    "start_time": "2023-10-01T11:10:15.521Z"
   },
   {
    "duration": 178,
    "start_time": "2023-10-01T11:10:16.181Z"
   },
   {
    "duration": 16,
    "start_time": "2023-10-01T11:10:18.618Z"
   },
   {
    "duration": 177,
    "start_time": "2023-10-01T11:10:19.394Z"
   },
   {
    "duration": 5,
    "start_time": "2023-10-01T11:10:21.205Z"
   },
   {
    "duration": 7,
    "start_time": "2023-10-01T11:10:21.914Z"
   },
   {
    "duration": 173,
    "start_time": "2023-10-01T11:10:22.622Z"
   },
   {
    "duration": 3,
    "start_time": "2023-10-01T11:10:24.249Z"
   },
   {
    "duration": 3,
    "start_time": "2023-10-01T11:10:24.926Z"
   },
   {
    "duration": 284,
    "start_time": "2023-10-01T11:10:25.734Z"
   },
   {
    "duration": 157,
    "start_time": "2023-10-01T11:10:28.450Z"
   },
   {
    "duration": 8,
    "start_time": "2023-10-01T11:10:30.406Z"
   },
   {
    "duration": 20,
    "start_time": "2023-10-01T11:10:32.614Z"
   },
   {
    "duration": 330,
    "start_time": "2023-10-01T11:10:33.441Z"
   },
   {
    "duration": 106,
    "start_time": "2023-10-01T11:10:34.670Z"
   },
   {
    "duration": 19,
    "start_time": "2023-10-01T11:10:35.605Z"
   },
   {
    "duration": 204,
    "start_time": "2023-10-01T11:10:36.590Z"
   },
   {
    "duration": 244,
    "start_time": "2023-10-01T11:10:37.685Z"
   },
   {
    "duration": 205,
    "start_time": "2023-10-01T11:10:38.759Z"
   },
   {
    "duration": 194,
    "start_time": "2023-10-01T11:10:40.256Z"
   },
   {
    "duration": 5,
    "start_time": "2023-10-01T11:10:41.341Z"
   },
   {
    "duration": 5,
    "start_time": "2023-10-01T11:10:42.397Z"
   },
   {
    "duration": 8,
    "start_time": "2023-10-01T11:10:43.098Z"
   },
   {
    "duration": 9,
    "start_time": "2023-10-01T11:10:43.841Z"
   },
   {
    "duration": 166,
    "start_time": "2023-10-01T11:10:45.614Z"
   },
   {
    "duration": 170,
    "start_time": "2023-10-01T11:10:46.650Z"
   },
   {
    "duration": 6,
    "start_time": "2023-10-01T11:10:47.926Z"
   },
   {
    "duration": 5,
    "start_time": "2023-10-01T11:10:48.798Z"
   },
   {
    "duration": 11,
    "start_time": "2023-10-01T11:10:49.530Z"
   },
   {
    "duration": 12,
    "start_time": "2023-10-01T11:10:50.250Z"
   },
   {
    "duration": 174,
    "start_time": "2023-10-01T11:10:51.998Z"
   },
   {
    "duration": 16,
    "start_time": "2023-10-01T11:10:52.930Z"
   },
   {
    "duration": 254,
    "start_time": "2023-10-01T11:10:53.794Z"
   },
   {
    "duration": 350,
    "start_time": "2023-10-01T11:10:55.134Z"
   },
   {
    "duration": 6,
    "start_time": "2023-10-01T12:25:36.393Z"
   },
   {
    "duration": 315,
    "start_time": "2023-10-01T12:26:49.173Z"
   },
   {
    "duration": 351,
    "start_time": "2023-10-01T12:28:55.005Z"
   },
   {
    "duration": 11,
    "start_time": "2023-10-01T12:58:10.928Z"
   },
   {
    "duration": 13,
    "start_time": "2023-10-01T13:01:06.587Z"
   },
   {
    "duration": 70,
    "start_time": "2023-10-01T13:06:10.676Z"
   },
   {
    "duration": 8,
    "start_time": "2023-10-01T13:06:27.569Z"
   },
   {
    "duration": 143,
    "start_time": "2023-10-01T13:07:51.468Z"
   },
   {
    "duration": 9,
    "start_time": "2023-10-01T13:08:06.648Z"
   },
   {
    "duration": 77,
    "start_time": "2023-10-01T13:13:10.468Z"
   },
   {
    "duration": 135,
    "start_time": "2023-10-01T13:13:13.380Z"
   },
   {
    "duration": 125,
    "start_time": "2023-10-01T13:13:35.720Z"
   },
   {
    "duration": 9,
    "start_time": "2023-10-01T13:13:38.328Z"
   },
   {
    "duration": 18,
    "start_time": "2023-10-01T13:16:51.592Z"
   },
   {
    "duration": 16,
    "start_time": "2023-10-01T13:17:03.552Z"
   },
   {
    "duration": 23,
    "start_time": "2023-10-01T13:48:44.936Z"
   },
   {
    "duration": 335,
    "start_time": "2023-10-01T13:52:24.091Z"
   },
   {
    "duration": 336,
    "start_time": "2023-10-01T13:55:11.725Z"
   },
   {
    "duration": 326,
    "start_time": "2023-10-01T13:55:19.541Z"
   },
   {
    "duration": 359,
    "start_time": "2023-10-01T13:55:38.316Z"
   },
   {
    "duration": 348,
    "start_time": "2023-10-01T13:55:51.172Z"
   },
   {
    "duration": 260,
    "start_time": "2023-10-01T13:56:03.677Z"
   },
   {
    "duration": 13,
    "start_time": "2023-10-01T14:29:49.872Z"
   },
   {
    "duration": 169,
    "start_time": "2023-10-01T14:30:30.469Z"
   },
   {
    "duration": 183,
    "start_time": "2023-10-01T14:31:15.377Z"
   },
   {
    "duration": 6,
    "start_time": "2023-10-01T14:31:42.172Z"
   },
   {
    "duration": 6,
    "start_time": "2023-10-01T14:32:08.740Z"
   },
   {
    "duration": 9,
    "start_time": "2023-10-01T14:32:29.973Z"
   },
   {
    "duration": 10,
    "start_time": "2023-10-01T14:33:04.713Z"
   },
   {
    "duration": 12,
    "start_time": "2023-10-01T14:45:34.367Z"
   },
   {
    "duration": 289,
    "start_time": "2023-10-01T14:46:12.175Z"
   },
   {
    "duration": 183,
    "start_time": "2023-10-01T14:46:33.425Z"
   },
   {
    "duration": 164,
    "start_time": "2023-10-01T14:46:57.021Z"
   },
   {
    "duration": 189,
    "start_time": "2023-10-01T14:47:23.794Z"
   },
   {
    "duration": 181,
    "start_time": "2023-10-01T14:47:28.697Z"
   },
   {
    "duration": 5,
    "start_time": "2023-10-01T14:47:59.759Z"
   },
   {
    "duration": 6,
    "start_time": "2023-10-01T14:48:29.418Z"
   },
   {
    "duration": 9,
    "start_time": "2023-10-01T14:49:01.608Z"
   },
   {
    "duration": 9,
    "start_time": "2023-10-01T14:49:48.397Z"
   },
   {
    "duration": 88,
    "start_time": "2023-10-01T14:50:21.163Z"
   },
   {
    "duration": 5,
    "start_time": "2023-10-01T14:52:13.606Z"
   },
   {
    "duration": 202,
    "start_time": "2023-10-01T14:52:14.414Z"
   },
   {
    "duration": 175,
    "start_time": "2023-10-01T14:52:16.070Z"
   },
   {
    "duration": 174,
    "start_time": "2023-10-01T14:52:17.902Z"
   },
   {
    "duration": 174,
    "start_time": "2023-10-01T14:52:19.546Z"
   },
   {
    "duration": 5,
    "start_time": "2023-10-01T14:52:26.422Z"
   },
   {
    "duration": 6,
    "start_time": "2023-10-01T14:52:30.214Z"
   },
   {
    "duration": 9,
    "start_time": "2023-10-01T14:52:33.634Z"
   },
   {
    "duration": 8,
    "start_time": "2023-10-01T14:52:40.027Z"
   },
   {
    "duration": 4,
    "start_time": "2023-10-01T14:54:52.959Z"
   },
   {
    "duration": 4,
    "start_time": "2023-10-01T14:55:08.811Z"
   },
   {
    "duration": 5,
    "start_time": "2023-10-01T14:55:49.559Z"
   },
   {
    "duration": 181,
    "start_time": "2023-10-01T14:55:50.574Z"
   },
   {
    "duration": 178,
    "start_time": "2023-10-01T14:55:51.746Z"
   },
   {
    "duration": 239,
    "start_time": "2023-10-01T14:55:52.874Z"
   },
   {
    "duration": 184,
    "start_time": "2023-10-01T14:55:54.263Z"
   },
   {
    "duration": 5,
    "start_time": "2023-10-01T14:55:55.947Z"
   },
   {
    "duration": 6,
    "start_time": "2023-10-01T14:55:57.298Z"
   },
   {
    "duration": 8,
    "start_time": "2023-10-01T14:55:58.267Z"
   },
   {
    "duration": 10,
    "start_time": "2023-10-01T14:55:59.019Z"
   },
   {
    "duration": 184,
    "start_time": "2023-10-01T14:57:40.867Z"
   },
   {
    "duration": 188,
    "start_time": "2023-10-01T14:57:52.582Z"
   },
   {
    "duration": 169,
    "start_time": "2023-10-01T14:58:00.837Z"
   },
   {
    "duration": 210,
    "start_time": "2023-10-01T14:58:17.483Z"
   },
   {
    "duration": 933,
    "start_time": "2023-10-02T13:24:04.454Z"
   },
   {
    "duration": 80,
    "start_time": "2023-10-02T13:24:05.391Z"
   },
   {
    "duration": 20,
    "start_time": "2023-10-02T13:24:06.157Z"
   },
   {
    "duration": 220,
    "start_time": "2023-10-02T13:24:06.718Z"
   },
   {
    "duration": 5,
    "start_time": "2023-10-02T13:24:08.177Z"
   },
   {
    "duration": 7,
    "start_time": "2023-10-02T13:24:08.757Z"
   },
   {
    "duration": 168,
    "start_time": "2023-10-02T13:24:09.330Z"
   },
   {
    "duration": 14,
    "start_time": "2023-10-02T13:24:11.205Z"
   },
   {
    "duration": 183,
    "start_time": "2023-10-02T13:24:11.734Z"
   },
   {
    "duration": 5,
    "start_time": "2023-10-02T13:24:12.910Z"
   },
   {
    "duration": 7,
    "start_time": "2023-10-02T13:24:13.526Z"
   },
   {
    "duration": 181,
    "start_time": "2023-10-02T13:24:14.092Z"
   },
   {
    "duration": 3,
    "start_time": "2023-10-02T13:24:15.406Z"
   },
   {
    "duration": 5,
    "start_time": "2023-10-02T13:24:15.897Z"
   },
   {
    "duration": 272,
    "start_time": "2023-10-02T13:24:16.385Z"
   },
   {
    "duration": 145,
    "start_time": "2023-10-02T13:24:18.285Z"
   },
   {
    "duration": 8,
    "start_time": "2023-10-02T13:24:19.043Z"
   },
   {
    "duration": 21,
    "start_time": "2023-10-02T13:24:20.469Z"
   },
   {
    "duration": 352,
    "start_time": "2023-10-02T13:24:21.242Z"
   },
   {
    "duration": 174,
    "start_time": "2023-10-02T13:24:23.086Z"
   },
   {
    "duration": 14,
    "start_time": "2023-10-02T13:24:23.666Z"
   },
   {
    "duration": 243,
    "start_time": "2023-10-02T13:24:24.254Z"
   },
   {
    "duration": 407,
    "start_time": "2023-10-02T13:24:25.322Z"
   },
   {
    "duration": 5,
    "start_time": "2023-10-02T13:24:27.734Z"
   },
   {
    "duration": 245,
    "start_time": "2023-10-02T13:24:28.437Z"
   },
   {
    "duration": 376,
    "start_time": "2023-10-02T13:24:29.025Z"
   },
   {
    "duration": 145,
    "start_time": "2023-10-02T13:24:30.906Z"
   },
   {
    "duration": 20,
    "start_time": "2023-10-02T13:24:31.618Z"
   },
   {
    "duration": 300,
    "start_time": "2023-10-02T13:24:32.321Z"
   },
   {
    "duration": 329,
    "start_time": "2023-10-02T13:24:32.974Z"
   },
   {
    "duration": 10,
    "start_time": "2023-10-02T13:24:35.126Z"
   },
   {
    "duration": 170,
    "start_time": "2023-10-02T13:24:36.498Z"
   },
   {
    "duration": 171,
    "start_time": "2023-10-02T13:24:37.033Z"
   },
   {
    "duration": 5,
    "start_time": "2023-10-02T13:24:37.698Z"
   },
   {
    "duration": 5,
    "start_time": "2023-10-02T13:24:38.378Z"
   },
   {
    "duration": 9,
    "start_time": "2023-10-02T13:24:38.993Z"
   },
   {
    "duration": 8,
    "start_time": "2023-10-02T13:24:39.578Z"
   },
   {
    "duration": 4,
    "start_time": "2023-10-02T13:24:41.554Z"
   },
   {
    "duration": 254,
    "start_time": "2023-10-02T13:24:42.253Z"
   },
   {
    "duration": 183,
    "start_time": "2023-10-02T13:24:43.004Z"
   },
   {
    "duration": 166,
    "start_time": "2023-10-02T13:24:44.290Z"
   },
   {
    "duration": 228,
    "start_time": "2023-10-02T13:24:45.246Z"
   },
   {
    "duration": 5,
    "start_time": "2023-10-02T13:24:46.006Z"
   },
   {
    "duration": 6,
    "start_time": "2023-10-02T13:24:46.765Z"
   },
   {
    "duration": 9,
    "start_time": "2023-10-02T13:24:47.469Z"
   },
   {
    "duration": 11,
    "start_time": "2023-10-02T13:24:48.098Z"
   },
   {
    "duration": 460,
    "start_time": "2023-10-02T14:15:53.826Z"
   },
   {
    "duration": 6,
    "start_time": "2023-10-02T14:18:04.809Z"
   },
   {
    "duration": 5,
    "start_time": "2023-10-02T14:18:18.774Z"
   },
   {
    "duration": 5,
    "start_time": "2023-10-02T14:18:29.094Z"
   },
   {
    "duration": 4,
    "start_time": "2023-10-02T14:26:28.183Z"
   },
   {
    "duration": 5,
    "start_time": "2023-10-02T14:26:34.418Z"
   },
   {
    "duration": 5,
    "start_time": "2023-10-02T14:26:53.534Z"
   },
   {
    "duration": 5,
    "start_time": "2023-10-02T14:27:06.411Z"
   },
   {
    "duration": 6,
    "start_time": "2023-10-02T14:27:14.523Z"
   },
   {
    "duration": 7,
    "start_time": "2023-10-02T14:28:55.187Z"
   },
   {
    "duration": 6,
    "start_time": "2023-10-02T14:29:25.380Z"
   },
   {
    "duration": 5,
    "start_time": "2023-10-02T14:29:33.055Z"
   },
   {
    "duration": 6,
    "start_time": "2023-10-02T14:29:59.199Z"
   },
   {
    "duration": 8,
    "start_time": "2023-10-02T14:43:48.350Z"
   },
   {
    "duration": 6,
    "start_time": "2023-10-02T14:44:06.145Z"
   },
   {
    "duration": 8,
    "start_time": "2023-10-02T14:44:26.186Z"
   },
   {
    "duration": 5,
    "start_time": "2023-10-02T15:29:45.813Z"
   },
   {
    "duration": 5,
    "start_time": "2023-10-02T15:30:04.589Z"
   },
   {
    "duration": 5,
    "start_time": "2023-10-02T15:30:18.362Z"
   },
   {
    "duration": 6,
    "start_time": "2023-10-02T15:38:13.463Z"
   },
   {
    "duration": 7,
    "start_time": "2023-10-02T15:38:30.574Z"
   },
   {
    "duration": 7,
    "start_time": "2023-10-02T15:39:36.642Z"
   },
   {
    "duration": 161,
    "start_time": "2023-10-02T15:40:05.923Z"
   },
   {
    "duration": 140,
    "start_time": "2023-10-02T15:40:39.474Z"
   },
   {
    "duration": 1436,
    "start_time": "2023-10-03T14:24:23.544Z"
   },
   {
    "duration": 70,
    "start_time": "2023-10-03T14:24:25.736Z"
   },
   {
    "duration": 18,
    "start_time": "2023-10-03T14:24:26.608Z"
   },
   {
    "duration": 202,
    "start_time": "2023-10-03T14:24:27.003Z"
   },
   {
    "duration": 5,
    "start_time": "2023-10-03T14:24:27.768Z"
   },
   {
    "duration": 8,
    "start_time": "2023-10-03T14:24:28.191Z"
   },
   {
    "duration": 162,
    "start_time": "2023-10-03T14:24:28.993Z"
   },
   {
    "duration": 15,
    "start_time": "2023-10-03T14:24:30.071Z"
   },
   {
    "duration": 180,
    "start_time": "2023-10-03T14:24:30.499Z"
   },
   {
    "duration": 4,
    "start_time": "2023-10-03T14:24:31.473Z"
   },
   {
    "duration": 7,
    "start_time": "2023-10-03T14:24:31.982Z"
   },
   {
    "duration": 164,
    "start_time": "2023-10-03T14:24:32.463Z"
   },
   {
    "duration": 3,
    "start_time": "2023-10-03T14:24:33.531Z"
   },
   {
    "duration": 4,
    "start_time": "2023-10-03T14:24:34.047Z"
   },
   {
    "duration": 209,
    "start_time": "2023-10-03T14:24:34.519Z"
   },
   {
    "duration": 150,
    "start_time": "2023-10-03T14:24:36.031Z"
   },
   {
    "duration": 7,
    "start_time": "2023-10-03T14:24:36.488Z"
   },
   {
    "duration": 22,
    "start_time": "2023-10-03T14:24:40.624Z"
   },
   {
    "duration": 338,
    "start_time": "2023-10-03T14:24:41.316Z"
   },
   {
    "duration": 178,
    "start_time": "2023-10-03T14:24:42.882Z"
   },
   {
    "duration": 16,
    "start_time": "2023-10-03T14:24:43.710Z"
   },
   {
    "duration": 229,
    "start_time": "2023-10-03T14:24:44.420Z"
   },
   {
    "duration": 349,
    "start_time": "2023-10-03T14:24:45.020Z"
   },
   {
    "duration": 5,
    "start_time": "2023-10-03T14:24:47.888Z"
   },
   {
    "duration": 313,
    "start_time": "2023-10-03T14:24:48.708Z"
   },
   {
    "duration": 355,
    "start_time": "2023-10-03T14:24:49.771Z"
   },
   {
    "duration": 137,
    "start_time": "2023-10-03T14:24:52.116Z"
   },
   {
    "duration": 20,
    "start_time": "2023-10-03T14:24:52.759Z"
   },
   {
    "duration": 274,
    "start_time": "2023-10-03T14:24:53.511Z"
   },
   {
    "duration": 307,
    "start_time": "2023-10-03T14:24:54.240Z"
   },
   {
    "duration": 13,
    "start_time": "2023-10-03T14:24:56.631Z"
   },
   {
    "duration": 170,
    "start_time": "2023-10-03T14:24:58.136Z"
   },
   {
    "duration": 160,
    "start_time": "2023-10-03T14:24:58.808Z"
   },
   {
    "duration": 6,
    "start_time": "2023-10-03T14:24:59.548Z"
   },
   {
    "duration": 5,
    "start_time": "2023-10-03T14:25:00.160Z"
   },
   {
    "duration": 10,
    "start_time": "2023-10-03T14:25:00.777Z"
   },
   {
    "duration": 10,
    "start_time": "2023-10-03T14:25:01.309Z"
   },
   {
    "duration": 5,
    "start_time": "2023-10-03T14:25:03.416Z"
   },
   {
    "duration": 178,
    "start_time": "2023-10-03T14:25:04.023Z"
   },
   {
    "duration": 172,
    "start_time": "2023-10-03T14:25:04.669Z"
   },
   {
    "duration": 168,
    "start_time": "2023-10-03T14:25:05.481Z"
   },
   {
    "duration": 185,
    "start_time": "2023-10-03T14:25:06.443Z"
   },
   {
    "duration": 6,
    "start_time": "2023-10-03T14:25:08.723Z"
   },
   {
    "duration": 5,
    "start_time": "2023-10-03T14:25:09.922Z"
   },
   {
    "duration": 8,
    "start_time": "2023-10-03T14:25:10.697Z"
   },
   {
    "duration": 8,
    "start_time": "2023-10-03T14:25:11.365Z"
   },
   {
    "duration": 6,
    "start_time": "2023-10-03T14:25:13.377Z"
   },
   {
    "duration": 5,
    "start_time": "2023-10-03T14:25:13.984Z"
   },
   {
    "duration": 5,
    "start_time": "2023-10-03T14:25:14.577Z"
   },
   {
    "duration": 7,
    "start_time": "2023-10-03T14:25:15.638Z"
   },
   {
    "duration": 7,
    "start_time": "2023-10-03T14:25:16.177Z"
   },
   {
    "duration": 7,
    "start_time": "2023-10-03T14:25:16.688Z"
   },
   {
    "duration": 5,
    "start_time": "2023-10-03T14:25:18.199Z"
   },
   {
    "duration": 5,
    "start_time": "2023-10-03T14:25:18.734Z"
   },
   {
    "duration": 5,
    "start_time": "2023-10-03T14:25:19.336Z"
   },
   {
    "duration": 7,
    "start_time": "2023-10-03T14:25:20.277Z"
   },
   {
    "duration": 7,
    "start_time": "2023-10-03T14:25:20.784Z"
   },
   {
    "duration": 7,
    "start_time": "2023-10-03T14:25:21.295Z"
   },
   {
    "duration": 1804,
    "start_time": "2023-10-03T14:25:27.523Z"
   },
   {
    "duration": 8,
    "start_time": "2023-10-03T14:48:40.435Z"
   },
   {
    "duration": 270,
    "start_time": "2023-10-03T14:53:41.102Z"
   },
   {
    "duration": 7,
    "start_time": "2023-10-03T14:55:47.370Z"
   },
   {
    "duration": 29,
    "start_time": "2023-10-03T15:03:22.779Z"
   },
   {
    "duration": 6,
    "start_time": "2023-10-03T15:03:41.834Z"
   },
   {
    "duration": 6,
    "start_time": "2023-10-03T15:04:42.426Z"
   },
   {
    "duration": 6,
    "start_time": "2023-10-03T15:05:11.135Z"
   },
   {
    "duration": 108,
    "start_time": "2023-10-03T15:11:43.469Z"
   },
   {
    "duration": 16,
    "start_time": "2023-10-03T16:12:34.534Z"
   },
   {
    "duration": 17,
    "start_time": "2023-10-03T16:13:21.340Z"
   },
   {
    "duration": 15,
    "start_time": "2023-10-03T16:13:32.847Z"
   },
   {
    "duration": 22,
    "start_time": "2023-10-03T16:13:43.509Z"
   },
   {
    "duration": 15,
    "start_time": "2023-10-03T16:13:52.845Z"
   },
   {
    "duration": 8,
    "start_time": "2023-10-03T16:15:07.851Z"
   },
   {
    "duration": 5,
    "start_time": "2023-10-03T16:15:33.916Z"
   },
   {
    "duration": 6,
    "start_time": "2023-10-03T16:15:47.023Z"
   },
   {
    "duration": 7,
    "start_time": "2023-10-03T16:37:08.200Z"
   },
   {
    "duration": 8,
    "start_time": "2023-10-03T16:37:48.332Z"
   },
   {
    "duration": 15,
    "start_time": "2023-10-03T16:38:06.188Z"
   },
   {
    "duration": 12,
    "start_time": "2023-10-03T16:39:56.260Z"
   },
   {
    "duration": 10,
    "start_time": "2023-10-03T16:40:11.154Z"
   },
   {
    "duration": 10,
    "start_time": "2023-10-03T16:40:18.406Z"
   },
   {
    "duration": 7,
    "start_time": "2023-10-03T16:40:24.732Z"
   },
   {
    "duration": 8,
    "start_time": "2023-10-03T16:40:36.167Z"
   },
   {
    "duration": 38,
    "start_time": "2023-10-03T16:41:40.791Z"
   },
   {
    "duration": 46,
    "start_time": "2023-10-03T16:42:06.050Z"
   },
   {
    "duration": 27,
    "start_time": "2023-10-03T16:42:26.942Z"
   },
   {
    "duration": 21,
    "start_time": "2023-10-03T16:47:11.764Z"
   },
   {
    "duration": 16,
    "start_time": "2023-10-03T16:47:55.604Z"
   },
   {
    "duration": 7,
    "start_time": "2023-10-03T16:59:38.708Z"
   },
   {
    "duration": 6,
    "start_time": "2023-10-03T17:00:06.363Z"
   },
   {
    "duration": 7,
    "start_time": "2023-10-03T17:00:28.785Z"
   },
   {
    "duration": 97,
    "start_time": "2023-10-03T17:02:38.212Z"
   },
   {
    "duration": 9,
    "start_time": "2023-10-03T17:03:00.495Z"
   },
   {
    "duration": 7,
    "start_time": "2023-10-03T17:03:28.750Z"
   },
   {
    "duration": 8,
    "start_time": "2023-10-03T17:03:39.696Z"
   },
   {
    "duration": 7,
    "start_time": "2023-10-03T17:04:20.602Z"
   },
   {
    "duration": 27,
    "start_time": "2023-10-03T17:09:53.607Z"
   },
   {
    "duration": 19,
    "start_time": "2023-10-03T17:10:03.009Z"
   },
   {
    "duration": 7,
    "start_time": "2023-10-03T17:10:50.341Z"
   },
   {
    "duration": 5,
    "start_time": "2023-10-03T17:11:35.634Z"
   },
   {
    "duration": 5,
    "start_time": "2023-10-03T17:13:14.517Z"
   },
   {
    "duration": 88,
    "start_time": "2023-10-03T17:20:19.877Z"
   },
   {
    "duration": 8,
    "start_time": "2023-10-03T17:21:54.823Z"
   },
   {
    "duration": 8,
    "start_time": "2023-10-03T17:22:17.460Z"
   },
   {
    "duration": 13,
    "start_time": "2023-10-03T17:22:40.878Z"
   },
   {
    "duration": 24,
    "start_time": "2023-10-03T17:23:02.879Z"
   },
   {
    "duration": 8,
    "start_time": "2023-10-03T17:33:23.942Z"
   },
   {
    "duration": 29,
    "start_time": "2023-10-03T17:35:00.419Z"
   },
   {
    "duration": 7,
    "start_time": "2023-10-03T17:35:15.858Z"
   },
   {
    "duration": 25,
    "start_time": "2023-10-03T17:35:16.434Z"
   },
   {
    "duration": 28,
    "start_time": "2023-10-03T17:35:42.222Z"
   },
   {
    "duration": 26,
    "start_time": "2023-10-03T17:35:58.348Z"
   },
   {
    "duration": 150,
    "start_time": "2023-10-03T17:40:07.788Z"
   },
   {
    "duration": 1564,
    "start_time": "2023-10-04T13:41:12.074Z"
   },
   {
    "duration": 95,
    "start_time": "2023-10-04T13:41:13.640Z"
   },
   {
    "duration": 20,
    "start_time": "2023-10-04T13:41:16.201Z"
   },
   {
    "duration": 239,
    "start_time": "2023-10-04T13:41:16.999Z"
   },
   {
    "duration": 6,
    "start_time": "2023-10-04T13:41:18.883Z"
   },
   {
    "duration": 7,
    "start_time": "2023-10-04T13:41:19.532Z"
   },
   {
    "duration": 186,
    "start_time": "2023-10-04T13:41:20.236Z"
   },
   {
    "duration": 21,
    "start_time": "2023-10-04T13:41:22.661Z"
   },
   {
    "duration": 219,
    "start_time": "2023-10-04T13:41:23.410Z"
   },
   {
    "duration": 5,
    "start_time": "2023-10-04T13:41:24.921Z"
   },
   {
    "duration": 7,
    "start_time": "2023-10-04T13:41:26.604Z"
   },
   {
    "duration": 187,
    "start_time": "2023-10-04T13:41:27.303Z"
   },
   {
    "duration": 5,
    "start_time": "2023-10-04T13:41:29.005Z"
   },
   {
    "duration": 4,
    "start_time": "2023-10-04T13:41:29.833Z"
   },
   {
    "duration": 232,
    "start_time": "2023-10-04T13:41:30.521Z"
   },
   {
    "duration": 158,
    "start_time": "2023-10-04T13:41:32.905Z"
   },
   {
    "duration": 10,
    "start_time": "2023-10-04T13:41:33.677Z"
   },
   {
    "duration": 29,
    "start_time": "2023-10-04T13:41:35.145Z"
   },
   {
    "duration": 364,
    "start_time": "2023-10-04T13:41:35.911Z"
   },
   {
    "duration": 205,
    "start_time": "2023-10-04T13:41:37.878Z"
   },
   {
    "duration": 25,
    "start_time": "2023-10-04T13:41:38.648Z"
   },
   {
    "duration": 260,
    "start_time": "2023-10-04T13:41:39.481Z"
   },
   {
    "duration": 363,
    "start_time": "2023-10-04T13:41:40.280Z"
   },
   {
    "duration": 10,
    "start_time": "2023-10-04T13:41:42.766Z"
   },
   {
    "duration": 374,
    "start_time": "2023-10-04T13:41:43.745Z"
   },
   {
    "duration": 364,
    "start_time": "2023-10-04T13:41:44.963Z"
   },
   {
    "duration": 141,
    "start_time": "2023-10-04T13:41:47.695Z"
   },
   {
    "duration": 23,
    "start_time": "2023-10-04T13:41:48.683Z"
   },
   {
    "duration": 293,
    "start_time": "2023-10-04T13:41:49.584Z"
   },
   {
    "duration": 382,
    "start_time": "2023-10-04T13:41:50.664Z"
   },
   {
    "duration": 12,
    "start_time": "2023-10-04T13:41:53.384Z"
   },
   {
    "duration": 186,
    "start_time": "2023-10-04T13:41:54.293Z"
   },
   {
    "duration": 211,
    "start_time": "2023-10-04T13:41:55.282Z"
   },
   {
    "duration": 7,
    "start_time": "2023-10-04T13:41:56.256Z"
   },
   {
    "duration": 6,
    "start_time": "2023-10-04T13:41:57.152Z"
   },
   {
    "duration": 11,
    "start_time": "2023-10-04T13:41:57.940Z"
   },
   {
    "duration": 12,
    "start_time": "2023-10-04T13:41:58.809Z"
   },
   {
    "duration": 6,
    "start_time": "2023-10-04T13:42:01.444Z"
   },
   {
    "duration": 200,
    "start_time": "2023-10-04T13:42:02.422Z"
   },
   {
    "duration": 203,
    "start_time": "2023-10-04T13:42:03.557Z"
   },
   {
    "duration": 190,
    "start_time": "2023-10-04T13:42:04.649Z"
   },
   {
    "duration": 199,
    "start_time": "2023-10-04T13:42:05.717Z"
   },
   {
    "duration": 7,
    "start_time": "2023-10-04T13:42:06.748Z"
   },
   {
    "duration": 7,
    "start_time": "2023-10-04T13:42:07.676Z"
   },
   {
    "duration": 14,
    "start_time": "2023-10-04T13:42:08.461Z"
   },
   {
    "duration": 10,
    "start_time": "2023-10-04T13:42:09.199Z"
   },
   {
    "duration": 8,
    "start_time": "2023-10-04T13:42:11.741Z"
   },
   {
    "duration": 8,
    "start_time": "2023-10-04T13:42:12.473Z"
   },
   {
    "duration": 8,
    "start_time": "2023-10-04T13:42:13.176Z"
   },
   {
    "duration": 10,
    "start_time": "2023-10-04T13:42:14.614Z"
   },
   {
    "duration": 44,
    "start_time": "2023-10-04T13:42:15.453Z"
   },
   {
    "duration": 28,
    "start_time": "2023-10-04T13:42:16.204Z"
   },
   {
    "duration": 29,
    "start_time": "2023-10-04T13:42:16.774Z"
   },
   {
    "duration": 21,
    "start_time": "2023-10-04T13:42:18.877Z"
   },
   {
    "duration": 6,
    "start_time": "2023-10-04T13:42:19.496Z"
   },
   {
    "duration": 8,
    "start_time": "2023-10-04T13:42:20.081Z"
   },
   {
    "duration": 7,
    "start_time": "2023-10-04T13:42:20.776Z"
   },
   {
    "duration": 15,
    "start_time": "2023-10-04T13:42:22.133Z"
   },
   {
    "duration": 7,
    "start_time": "2023-10-04T13:42:22.800Z"
   },
   {
    "duration": 7,
    "start_time": "2023-10-04T13:42:23.560Z"
   },
   {
    "duration": 6,
    "start_time": "2023-10-04T13:42:24.260Z"
   },
   {
    "duration": 7,
    "start_time": "2023-10-04T13:42:25.692Z"
   },
   {
    "duration": 8,
    "start_time": "2023-10-04T13:42:26.378Z"
   },
   {
    "duration": 8,
    "start_time": "2023-10-04T13:42:27.012Z"
   },
   {
    "duration": 10,
    "start_time": "2023-10-04T13:42:28.407Z"
   },
   {
    "duration": 50,
    "start_time": "2023-10-04T13:42:29.031Z"
   },
   {
    "duration": 39,
    "start_time": "2023-10-04T13:42:29.650Z"
   },
   {
    "duration": 29,
    "start_time": "2023-10-04T13:42:30.278Z"
   },
   {
    "duration": 9,
    "start_time": "2023-10-04T13:43:30.461Z"
   },
   {
    "duration": 273,
    "start_time": "2023-10-04T13:44:23.921Z"
   },
   {
    "duration": 285,
    "start_time": "2023-10-04T13:44:37.452Z"
   },
   {
    "duration": 7,
    "start_time": "2023-10-04T13:45:14.697Z"
   },
   {
    "duration": 7,
    "start_time": "2023-10-04T13:51:45.303Z"
   },
   {
    "duration": 8,
    "start_time": "2023-10-04T13:52:17.202Z"
   },
   {
    "duration": 174,
    "start_time": "2023-10-04T13:55:20.289Z"
   },
   {
    "duration": 6,
    "start_time": "2023-10-04T13:56:01.262Z"
   },
   {
    "duration": 8,
    "start_time": "2023-10-04T13:59:27.720Z"
   },
   {
    "duration": 8,
    "start_time": "2023-10-04T13:59:46.968Z"
   },
   {
    "duration": 4,
    "start_time": "2023-10-04T14:02:51.354Z"
   },
   {
    "duration": 155,
    "start_time": "2023-10-04T14:03:02.273Z"
   },
   {
    "duration": 87,
    "start_time": "2023-10-04T14:03:56.081Z"
   },
   {
    "duration": 81,
    "start_time": "2023-10-04T14:04:31.273Z"
   },
   {
    "duration": 4,
    "start_time": "2023-10-04T14:05:34.413Z"
   },
   {
    "duration": 2182,
    "start_time": "2023-10-04T14:06:09.493Z"
   },
   {
    "duration": 5,
    "start_time": "2023-10-04T14:06:27.953Z"
   },
   {
    "duration": 7,
    "start_time": "2023-10-04T14:07:24.364Z"
   },
   {
    "duration": 5,
    "start_time": "2023-10-04T14:07:52.780Z"
   },
   {
    "duration": 6,
    "start_time": "2023-10-04T14:08:33.249Z"
   },
   {
    "duration": 8,
    "start_time": "2023-10-04T14:08:40.117Z"
   },
   {
    "duration": 6,
    "start_time": "2023-10-04T14:08:55.312Z"
   },
   {
    "duration": 4,
    "start_time": "2023-10-04T14:09:30.426Z"
   },
   {
    "duration": 14,
    "start_time": "2023-10-04T14:10:36.488Z"
   },
   {
    "duration": 7,
    "start_time": "2023-10-04T14:10:49.369Z"
   },
   {
    "duration": 5,
    "start_time": "2023-10-04T14:11:10.293Z"
   },
   {
    "duration": 4,
    "start_time": "2023-10-04T14:11:19.938Z"
   },
   {
    "duration": 5,
    "start_time": "2023-10-04T14:11:20.577Z"
   },
   {
    "duration": 91,
    "start_time": "2023-10-04T14:12:08.257Z"
   },
   {
    "duration": 5,
    "start_time": "2023-10-04T14:12:15.389Z"
   },
   {
    "duration": 1234,
    "start_time": "2023-10-04T14:12:20.469Z"
   },
   {
    "duration": 0,
    "start_time": "2023-10-04T14:12:21.705Z"
   },
   {
    "duration": 7,
    "start_time": "2023-10-04T14:13:05.441Z"
   },
   {
    "duration": 7,
    "start_time": "2023-10-04T14:13:06.533Z"
   },
   {
    "duration": 8,
    "start_time": "2023-10-04T14:13:37.457Z"
   },
   {
    "duration": 7,
    "start_time": "2023-10-04T14:13:40.969Z"
   },
   {
    "duration": 5,
    "start_time": "2023-10-04T14:13:42.085Z"
   },
   {
    "duration": 1180,
    "start_time": "2023-10-04T14:13:54.180Z"
   },
   {
    "duration": 9,
    "start_time": "2023-10-04T14:17:12.500Z"
   },
   {
    "duration": 10,
    "start_time": "2023-10-04T14:17:18.297Z"
   },
   {
    "duration": 589,
    "start_time": "2023-10-04T14:18:10.189Z"
   },
   {
    "duration": 9,
    "start_time": "2023-10-04T14:20:36.682Z"
   },
   {
    "duration": 9,
    "start_time": "2023-10-04T14:23:13.465Z"
   },
   {
    "duration": 12,
    "start_time": "2023-10-04T14:23:31.445Z"
   },
   {
    "duration": 317,
    "start_time": "2023-10-04T14:23:39.714Z"
   },
   {
    "duration": 463,
    "start_time": "2023-10-04T14:24:54.085Z"
   },
   {
    "duration": 6,
    "start_time": "2023-10-04T14:25:25.638Z"
   },
   {
    "duration": 16,
    "start_time": "2023-10-04T14:26:12.597Z"
   },
   {
    "duration": 6,
    "start_time": "2023-10-04T14:29:12.609Z"
   },
   {
    "duration": 20,
    "start_time": "2023-10-04T14:30:04.889Z"
   },
   {
    "duration": 7,
    "start_time": "2023-10-04T14:30:27.413Z"
   },
   {
    "duration": 3,
    "start_time": "2023-10-04T14:31:27.381Z"
   },
   {
    "duration": 8,
    "start_time": "2023-10-04T14:31:39.421Z"
   },
   {
    "duration": 8,
    "start_time": "2023-10-04T14:32:08.818Z"
   },
   {
    "duration": 72,
    "start_time": "2023-10-04T14:32:35.565Z"
   },
   {
    "duration": 15,
    "start_time": "2023-10-04T14:32:57.905Z"
   },
   {
    "duration": 5,
    "start_time": "2023-10-04T14:33:01.137Z"
   },
   {
    "duration": 11,
    "start_time": "2023-10-04T14:40:35.425Z"
   },
   {
    "duration": 9,
    "start_time": "2023-10-04T14:41:08.903Z"
   },
   {
    "duration": 17,
    "start_time": "2023-10-04T14:41:42.832Z"
   },
   {
    "duration": 5,
    "start_time": "2023-10-04T14:41:50.866Z"
   },
   {
    "duration": 5,
    "start_time": "2023-10-04T14:42:00.448Z"
   },
   {
    "duration": 7,
    "start_time": "2023-10-04T14:44:54.366Z"
   },
   {
    "duration": 5,
    "start_time": "2023-10-04T14:44:55.092Z"
   },
   {
    "duration": 13,
    "start_time": "2023-10-04T14:45:17.658Z"
   },
   {
    "duration": 5,
    "start_time": "2023-10-04T14:46:52.014Z"
   },
   {
    "duration": 16,
    "start_time": "2023-10-04T14:47:17.501Z"
   },
   {
    "duration": 5,
    "start_time": "2023-10-04T14:47:24.209Z"
   },
   {
    "duration": 6,
    "start_time": "2023-10-04T14:47:25.398Z"
   },
   {
    "duration": 4,
    "start_time": "2023-10-04T14:47:26.289Z"
   },
   {
    "duration": 11,
    "start_time": "2023-10-04T14:48:19.416Z"
   },
   {
    "duration": 5,
    "start_time": "2023-10-04T14:49:15.390Z"
   },
   {
    "duration": 12,
    "start_time": "2023-10-04T14:49:26.176Z"
   },
   {
    "duration": 4,
    "start_time": "2023-10-04T14:49:40.238Z"
   },
   {
    "duration": 5,
    "start_time": "2023-10-04T14:49:57.270Z"
   },
   {
    "duration": 5,
    "start_time": "2023-10-04T14:50:06.425Z"
   },
   {
    "duration": 6,
    "start_time": "2023-10-04T14:51:23.037Z"
   },
   {
    "duration": 8,
    "start_time": "2023-10-04T14:54:31.454Z"
   },
   {
    "duration": 10,
    "start_time": "2023-10-04T14:54:38.413Z"
   },
   {
    "duration": 5,
    "start_time": "2023-10-04T15:03:24.325Z"
   },
   {
    "duration": 6,
    "start_time": "2023-10-04T15:04:22.637Z"
   },
   {
    "duration": 7,
    "start_time": "2023-10-04T15:04:49.392Z"
   },
   {
    "duration": 1402,
    "start_time": "2023-10-04T15:24:34.629Z"
   },
   {
    "duration": 9,
    "start_time": "2023-10-04T15:27:37.164Z"
   },
   {
    "duration": 26,
    "start_time": "2023-10-04T15:29:33.283Z"
   },
   {
    "duration": 13,
    "start_time": "2023-10-04T15:29:37.662Z"
   },
   {
    "duration": 37,
    "start_time": "2023-10-04T15:29:38.244Z"
   },
   {
    "duration": 28,
    "start_time": "2023-10-04T15:29:55.701Z"
   },
   {
    "duration": 29,
    "start_time": "2023-10-04T15:30:54.068Z"
   },
   {
    "duration": 24,
    "start_time": "2023-10-04T15:41:50.151Z"
   },
   {
    "duration": 10,
    "start_time": "2023-10-04T15:52:23.872Z"
   },
   {
    "duration": 27,
    "start_time": "2023-10-04T15:52:27.389Z"
   },
   {
    "duration": 29,
    "start_time": "2023-10-04T15:52:29.592Z"
   },
   {
    "duration": 28,
    "start_time": "2023-10-04T15:52:30.933Z"
   },
   {
    "duration": 10,
    "start_time": "2023-10-04T15:53:07.904Z"
   },
   {
    "duration": 26,
    "start_time": "2023-10-04T15:53:08.737Z"
   },
   {
    "duration": 27,
    "start_time": "2023-10-04T15:53:09.424Z"
   },
   {
    "duration": 27,
    "start_time": "2023-10-04T15:53:10.022Z"
   },
   {
    "duration": 17,
    "start_time": "2023-10-04T15:53:21.637Z"
   },
   {
    "duration": 1355,
    "start_time": "2023-10-05T13:26:32.456Z"
   },
   {
    "duration": 85,
    "start_time": "2023-10-05T13:26:33.813Z"
   },
   {
    "duration": 16,
    "start_time": "2023-10-05T13:26:35.624Z"
   },
   {
    "duration": 179,
    "start_time": "2023-10-05T13:26:36.640Z"
   },
   {
    "duration": 4,
    "start_time": "2023-10-05T13:26:38.532Z"
   },
   {
    "duration": 6,
    "start_time": "2023-10-05T13:26:39.328Z"
   },
   {
    "duration": 212,
    "start_time": "2023-10-05T13:26:40.300Z"
   },
   {
    "duration": 16,
    "start_time": "2023-10-05T13:26:43.428Z"
   },
   {
    "duration": 150,
    "start_time": "2023-10-05T13:26:44.124Z"
   },
   {
    "duration": 5,
    "start_time": "2023-10-05T13:26:47.476Z"
   },
   {
    "duration": 6,
    "start_time": "2023-10-05T13:26:48.264Z"
   },
   {
    "duration": 217,
    "start_time": "2023-10-05T13:26:49.036Z"
   },
   {
    "duration": 3,
    "start_time": "2023-10-05T13:26:50.716Z"
   },
   {
    "duration": 3,
    "start_time": "2023-10-05T13:26:51.404Z"
   },
   {
    "duration": 177,
    "start_time": "2023-10-05T13:26:52.157Z"
   },
   {
    "duration": 207,
    "start_time": "2023-10-05T13:26:55.024Z"
   },
   {
    "duration": 8,
    "start_time": "2023-10-05T13:26:55.944Z"
   },
   {
    "duration": 21,
    "start_time": "2023-10-05T13:26:57.760Z"
   },
   {
    "duration": 323,
    "start_time": "2023-10-05T13:26:58.692Z"
   },
   {
    "duration": 147,
    "start_time": "2023-10-05T13:27:00.512Z"
   },
   {
    "duration": 12,
    "start_time": "2023-10-05T13:27:01.257Z"
   },
   {
    "duration": 238,
    "start_time": "2023-10-05T13:27:02.241Z"
   },
   {
    "duration": 373,
    "start_time": "2023-10-05T13:27:04.257Z"
   },
   {
    "duration": 7,
    "start_time": "2023-10-05T13:27:11.304Z"
   },
   {
    "duration": 353,
    "start_time": "2023-10-05T13:27:16.000Z"
   },
   {
    "duration": 373,
    "start_time": "2023-10-05T13:27:19.824Z"
   },
   {
    "duration": 129,
    "start_time": "2023-10-05T13:27:22.773Z"
   },
   {
    "duration": 20,
    "start_time": "2023-10-05T13:27:23.692Z"
   },
   {
    "duration": 264,
    "start_time": "2023-10-05T13:27:25.332Z"
   },
   {
    "duration": 337,
    "start_time": "2023-10-05T13:27:26.249Z"
   },
   {
    "duration": 12,
    "start_time": "2023-10-05T13:27:30.101Z"
   },
   {
    "duration": 166,
    "start_time": "2023-10-05T13:27:31.432Z"
   },
   {
    "duration": 167,
    "start_time": "2023-10-05T13:27:32.445Z"
   },
   {
    "duration": 6,
    "start_time": "2023-10-05T13:27:33.384Z"
   },
   {
    "duration": 5,
    "start_time": "2023-10-05T13:27:34.357Z"
   },
   {
    "duration": 8,
    "start_time": "2023-10-05T13:27:35.156Z"
   },
   {
    "duration": 11,
    "start_time": "2023-10-05T13:27:36.061Z"
   },
   {
    "duration": 4,
    "start_time": "2023-10-05T13:27:38.333Z"
   },
   {
    "duration": 177,
    "start_time": "2023-10-05T13:27:39.313Z"
   },
   {
    "duration": 180,
    "start_time": "2023-10-05T13:27:40.340Z"
   },
   {
    "duration": 141,
    "start_time": "2023-10-05T13:27:41.408Z"
   },
   {
    "duration": 185,
    "start_time": "2023-10-05T13:27:42.448Z"
   },
   {
    "duration": 5,
    "start_time": "2023-10-05T13:27:43.640Z"
   },
   {
    "duration": 6,
    "start_time": "2023-10-05T13:27:44.528Z"
   },
   {
    "duration": 8,
    "start_time": "2023-10-05T13:27:45.264Z"
   },
   {
    "duration": 10,
    "start_time": "2023-10-05T13:27:46.000Z"
   },
   {
    "duration": 6,
    "start_time": "2023-10-05T13:27:48.120Z"
   },
   {
    "duration": 5,
    "start_time": "2023-10-05T13:27:48.777Z"
   },
   {
    "duration": 6,
    "start_time": "2023-10-05T13:27:49.368Z"
   },
   {
    "duration": 8,
    "start_time": "2023-10-05T13:27:50.724Z"
   },
   {
    "duration": 24,
    "start_time": "2023-10-05T13:27:51.276Z"
   },
   {
    "duration": 23,
    "start_time": "2023-10-05T13:27:51.828Z"
   },
   {
    "duration": 24,
    "start_time": "2023-10-05T13:27:52.436Z"
   },
   {
    "duration": 14,
    "start_time": "2023-10-05T13:27:54.212Z"
   },
   {
    "duration": 6,
    "start_time": "2023-10-05T13:27:54.813Z"
   },
   {
    "duration": 5,
    "start_time": "2023-10-05T13:27:55.356Z"
   },
   {
    "duration": 7,
    "start_time": "2023-10-05T13:27:55.988Z"
   },
   {
    "duration": 14,
    "start_time": "2023-10-05T13:27:57.252Z"
   },
   {
    "duration": 5,
    "start_time": "2023-10-05T13:27:57.788Z"
   },
   {
    "duration": 5,
    "start_time": "2023-10-05T13:27:58.373Z"
   },
   {
    "duration": 7,
    "start_time": "2023-10-05T13:27:58.925Z"
   },
   {
    "duration": 7,
    "start_time": "2023-10-05T13:28:00.288Z"
   },
   {
    "duration": 7,
    "start_time": "2023-10-05T13:28:00.949Z"
   },
   {
    "duration": 6,
    "start_time": "2023-10-05T13:28:01.517Z"
   },
   {
    "duration": 7,
    "start_time": "2023-10-05T13:28:02.781Z"
   },
   {
    "duration": 26,
    "start_time": "2023-10-05T13:28:03.400Z"
   },
   {
    "duration": 23,
    "start_time": "2023-10-05T13:28:03.976Z"
   },
   {
    "duration": 23,
    "start_time": "2023-10-05T13:28:04.616Z"
   },
   {
    "duration": 5,
    "start_time": "2023-10-05T13:28:06.573Z"
   },
   {
    "duration": 138,
    "start_time": "2023-10-05T13:28:07.468Z"
   },
   {
    "duration": 5,
    "start_time": "2023-10-05T13:28:08.356Z"
   },
   {
    "duration": 5,
    "start_time": "2023-10-05T13:28:09.825Z"
   },
   {
    "duration": 224,
    "start_time": "2023-10-05T13:28:11.181Z"
   },
   {
    "duration": 5,
    "start_time": "2023-10-05T13:28:12.109Z"
   },
   {
    "duration": 7,
    "start_time": "2023-10-05T13:28:13.552Z"
   },
   {
    "duration": 5,
    "start_time": "2023-10-05T13:28:14.308Z"
   },
   {
    "duration": 4,
    "start_time": "2023-10-05T13:28:16.332Z"
   },
   {
    "duration": 4,
    "start_time": "2023-10-05T13:28:17.129Z"
   },
   {
    "duration": 8,
    "start_time": "2023-10-05T13:28:18.605Z"
   },
   {
    "duration": 5,
    "start_time": "2023-10-05T13:28:19.273Z"
   },
   {
    "duration": 5,
    "start_time": "2023-10-05T13:28:20.037Z"
   },
   {
    "duration": 8,
    "start_time": "2023-10-05T13:28:21.324Z"
   },
   {
    "duration": 22,
    "start_time": "2023-10-05T13:28:22.041Z"
   },
   {
    "duration": 24,
    "start_time": "2023-10-05T13:28:22.692Z"
   },
   {
    "duration": 24,
    "start_time": "2023-10-05T13:28:23.384Z"
   },
   {
    "duration": 331,
    "start_time": "2023-10-05T13:36:01.435Z"
   },
   {
    "duration": 5,
    "start_time": "2023-10-05T13:48:58.557Z"
   },
   {
    "duration": 4,
    "start_time": "2023-10-05T13:49:08.514Z"
   },
   {
    "duration": 5,
    "start_time": "2023-10-05T13:49:20.861Z"
   },
   {
    "duration": 14,
    "start_time": "2023-10-05T13:53:34.966Z"
   },
   {
    "duration": 6,
    "start_time": "2023-10-05T13:54:18.865Z"
   },
   {
    "duration": 5,
    "start_time": "2023-10-05T13:54:33.603Z"
   },
   {
    "duration": 5,
    "start_time": "2023-10-05T13:54:50.638Z"
   },
   {
    "duration": 7,
    "start_time": "2023-10-05T14:07:15.724Z"
   },
   {
    "duration": 12,
    "start_time": "2023-10-05T14:07:29.588Z"
   },
   {
    "duration": 8,
    "start_time": "2023-10-05T14:07:41.879Z"
   },
   {
    "duration": 83,
    "start_time": "2023-10-05T14:09:51.092Z"
   },
   {
    "duration": 118,
    "start_time": "2023-10-05T14:14:14.044Z"
   },
   {
    "duration": 8,
    "start_time": "2023-10-05T14:16:11.172Z"
   },
   {
    "duration": 23,
    "start_time": "2023-10-05T14:16:37.905Z"
   },
   {
    "duration": 23,
    "start_time": "2023-10-05T14:16:57.489Z"
   },
   {
    "duration": 33,
    "start_time": "2023-10-05T14:17:36.640Z"
   },
   {
    "duration": 48,
    "start_time": "2023-10-06T14:45:50.331Z"
   },
   {
    "duration": 1404,
    "start_time": "2023-10-06T14:45:56.623Z"
   },
   {
    "duration": 70,
    "start_time": "2023-10-06T14:45:58.347Z"
   },
   {
    "duration": 12,
    "start_time": "2023-10-06T14:46:00.863Z"
   },
   {
    "duration": 5,
    "start_time": "2023-10-06T14:46:29.007Z"
   },
   {
    "duration": 7,
    "start_time": "2023-10-06T14:48:17.822Z"
   },
   {
    "duration": 13,
    "start_time": "2023-10-06T14:50:38.910Z"
   },
   {
    "duration": 196,
    "start_time": "2023-10-06T14:50:40.055Z"
   },
   {
    "duration": 4,
    "start_time": "2023-10-06T14:50:42.830Z"
   },
   {
    "duration": 6,
    "start_time": "2023-10-06T14:50:43.494Z"
   },
   {
    "duration": 178,
    "start_time": "2023-10-06T14:50:44.270Z"
   },
   {
    "duration": 13,
    "start_time": "2023-10-06T14:50:46.002Z"
   },
   {
    "duration": 172,
    "start_time": "2023-10-06T14:50:46.609Z"
   },
   {
    "duration": 4,
    "start_time": "2023-10-06T14:50:48.842Z"
   },
   {
    "duration": 7,
    "start_time": "2023-10-06T14:50:49.481Z"
   },
   {
    "duration": 159,
    "start_time": "2023-10-06T14:50:50.005Z"
   },
   {
    "duration": 3,
    "start_time": "2023-10-06T14:50:51.465Z"
   },
   {
    "duration": 4,
    "start_time": "2023-10-06T14:50:52.002Z"
   },
   {
    "duration": 199,
    "start_time": "2023-10-06T14:50:52.618Z"
   },
   {
    "duration": 143,
    "start_time": "2023-10-06T15:07:26.386Z"
   },
   {
    "duration": 151,
    "start_time": "2023-10-06T15:21:11.740Z"
   },
   {
    "duration": 8,
    "start_time": "2023-10-06T15:21:14.857Z"
   },
   {
    "duration": 13,
    "start_time": "2023-10-06T15:21:34.173Z"
   },
   {
    "duration": 7,
    "start_time": "2023-10-06T15:22:17.255Z"
   },
   {
    "duration": 6,
    "start_time": "2023-10-06T15:22:39.440Z"
   },
   {
    "duration": 6,
    "start_time": "2023-10-06T15:22:52.088Z"
   },
   {
    "duration": 9,
    "start_time": "2023-10-06T15:25:22.255Z"
   },
   {
    "duration": 6,
    "start_time": "2023-10-06T15:26:06.794Z"
   },
   {
    "duration": 6,
    "start_time": "2023-10-06T15:26:33.334Z"
   },
   {
    "duration": 93,
    "start_time": "2023-10-06T15:37:28.153Z"
   },
   {
    "duration": 127,
    "start_time": "2023-10-06T15:52:57.561Z"
   },
   {
    "duration": 64,
    "start_time": "2023-10-06T15:54:13.561Z"
   },
   {
    "duration": 5,
    "start_time": "2023-10-06T15:54:30.929Z"
   },
   {
    "duration": 168,
    "start_time": "2023-10-06T15:54:31.584Z"
   },
   {
    "duration": 169,
    "start_time": "2023-10-06T15:54:33.073Z"
   },
   {
    "duration": 157,
    "start_time": "2023-10-06T15:54:35.025Z"
   },
   {
    "duration": 243,
    "start_time": "2023-10-06T15:54:36.892Z"
   },
   {
    "duration": 5,
    "start_time": "2023-10-06T15:56:54.741Z"
   },
   {
    "duration": 5,
    "start_time": "2023-10-06T15:57:23.393Z"
   },
   {
    "duration": 168,
    "start_time": "2023-10-06T15:59:31.825Z"
   },
   {
    "duration": 166,
    "start_time": "2023-10-06T16:00:07.563Z"
   },
   {
    "duration": 162,
    "start_time": "2023-10-06T16:00:56.402Z"
   },
   {
    "duration": 122,
    "start_time": "2023-10-06T16:01:02.682Z"
   },
   {
    "duration": 157,
    "start_time": "2023-10-06T16:01:19.566Z"
   },
   {
    "duration": 179,
    "start_time": "2023-10-06T16:01:32.055Z"
   },
   {
    "duration": 13,
    "start_time": "2023-10-06T16:09:43.379Z"
   },
   {
    "duration": 12,
    "start_time": "2023-10-06T16:10:24.983Z"
   },
   {
    "duration": 181,
    "start_time": "2023-10-06T16:10:32.623Z"
   },
   {
    "duration": 3,
    "start_time": "2023-10-06T16:14:10.591Z"
   },
   {
    "duration": 31,
    "start_time": "2023-10-06T16:14:11.750Z"
   },
   {
    "duration": 13,
    "start_time": "2023-10-06T16:14:13.058Z"
   },
   {
    "duration": 6,
    "start_time": "2023-10-06T16:14:13.643Z"
   },
   {
    "duration": 6,
    "start_time": "2023-10-06T16:14:14.179Z"
   },
   {
    "duration": 12,
    "start_time": "2023-10-06T16:14:17.487Z"
   },
   {
    "duration": 175,
    "start_time": "2023-10-06T16:14:18.167Z"
   },
   {
    "duration": 4,
    "start_time": "2023-10-06T16:14:20.323Z"
   },
   {
    "duration": 6,
    "start_time": "2023-10-06T16:14:20.955Z"
   },
   {
    "duration": 153,
    "start_time": "2023-10-06T16:14:21.806Z"
   },
   {
    "duration": 15,
    "start_time": "2023-10-06T16:14:24.051Z"
   },
   {
    "duration": 186,
    "start_time": "2023-10-06T16:14:24.791Z"
   },
   {
    "duration": 4,
    "start_time": "2023-10-06T16:14:26.727Z"
   },
   {
    "duration": 8,
    "start_time": "2023-10-06T16:14:27.283Z"
   },
   {
    "duration": 221,
    "start_time": "2023-10-06T16:14:27.854Z"
   },
   {
    "duration": 3,
    "start_time": "2023-10-06T16:14:29.554Z"
   },
   {
    "duration": 3,
    "start_time": "2023-10-06T16:14:30.179Z"
   },
   {
    "duration": 185,
    "start_time": "2023-10-06T16:14:30.810Z"
   },
   {
    "duration": 70,
    "start_time": "2023-10-06T16:14:34.319Z"
   },
   {
    "duration": 8,
    "start_time": "2023-10-06T16:14:35.023Z"
   },
   {
    "duration": 11,
    "start_time": "2023-10-06T16:14:39.507Z"
   },
   {
    "duration": 6,
    "start_time": "2023-10-06T16:14:40.054Z"
   },
   {
    "duration": 6,
    "start_time": "2023-10-06T16:14:40.703Z"
   },
   {
    "duration": 10,
    "start_time": "2023-10-06T16:14:42.139Z"
   },
   {
    "duration": 5,
    "start_time": "2023-10-06T16:14:42.739Z"
   },
   {
    "duration": 6,
    "start_time": "2023-10-06T16:14:43.442Z"
   },
   {
    "duration": 21,
    "start_time": "2023-10-06T16:14:45.239Z"
   },
   {
    "duration": 339,
    "start_time": "2023-10-06T16:14:45.938Z"
   },
   {
    "duration": 193,
    "start_time": "2023-10-06T16:14:47.447Z"
   },
   {
    "duration": 15,
    "start_time": "2023-10-06T16:14:48.346Z"
   },
   {
    "duration": 225,
    "start_time": "2023-10-06T16:14:49.231Z"
   },
   {
    "duration": 396,
    "start_time": "2023-10-06T16:14:51.923Z"
   },
   {
    "duration": 4,
    "start_time": "2023-10-06T16:14:54.295Z"
   },
   {
    "duration": 214,
    "start_time": "2023-10-06T16:14:54.823Z"
   },
   {
    "duration": 315,
    "start_time": "2023-10-06T16:14:55.511Z"
   },
   {
    "duration": 136,
    "start_time": "2023-10-06T16:14:58.151Z"
   },
   {
    "duration": 21,
    "start_time": "2023-10-06T16:14:59.159Z"
   },
   {
    "duration": 256,
    "start_time": "2023-10-06T16:15:00.015Z"
   },
   {
    "duration": 324,
    "start_time": "2023-10-06T16:15:00.863Z"
   },
   {
    "duration": 10,
    "start_time": "2023-10-06T16:15:07.987Z"
   },
   {
    "duration": 149,
    "start_time": "2023-10-06T16:15:08.731Z"
   },
   {
    "duration": 225,
    "start_time": "2023-10-06T16:15:10.335Z"
   },
   {
    "duration": 5,
    "start_time": "2023-10-06T16:15:20.559Z"
   },
   {
    "duration": 6,
    "start_time": "2023-10-06T16:15:21.091Z"
   },
   {
    "duration": 10,
    "start_time": "2023-10-06T16:15:21.587Z"
   },
   {
    "duration": 7,
    "start_time": "2023-10-06T16:15:22.099Z"
   },
   {
    "duration": 6,
    "start_time": "2023-10-06T16:15:24.011Z"
   },
   {
    "duration": 194,
    "start_time": "2023-10-06T16:15:24.579Z"
   },
   {
    "duration": 183,
    "start_time": "2023-10-06T16:15:26.007Z"
   },
   {
    "duration": 153,
    "start_time": "2023-10-06T16:15:27.431Z"
   },
   {
    "duration": 176,
    "start_time": "2023-10-06T16:15:29.039Z"
   },
   {
    "duration": 4,
    "start_time": "2023-10-06T16:15:29.914Z"
   },
   {
    "duration": 184,
    "start_time": "2023-10-06T16:15:31.618Z"
   },
   {
    "duration": 5,
    "start_time": "2023-10-06T16:15:33.178Z"
   },
   {
    "duration": 5,
    "start_time": "2023-10-06T16:15:34.191Z"
   },
   {
    "duration": 9,
    "start_time": "2023-10-06T16:15:34.810Z"
   },
   {
    "duration": 7,
    "start_time": "2023-10-06T16:15:35.335Z"
   },
   {
    "duration": 5,
    "start_time": "2023-10-06T16:15:36.999Z"
   },
   {
    "duration": 6,
    "start_time": "2023-10-06T16:15:37.467Z"
   },
   {
    "duration": 5,
    "start_time": "2023-10-06T16:15:37.951Z"
   },
   {
    "duration": 8,
    "start_time": "2023-10-06T16:15:38.899Z"
   },
   {
    "duration": 24,
    "start_time": "2023-10-06T16:15:39.318Z"
   },
   {
    "duration": 24,
    "start_time": "2023-10-06T16:15:39.803Z"
   },
   {
    "duration": 25,
    "start_time": "2023-10-06T16:15:40.227Z"
   },
   {
    "duration": 15,
    "start_time": "2023-10-06T16:15:41.630Z"
   },
   {
    "duration": 6,
    "start_time": "2023-10-06T16:15:42.082Z"
   },
   {
    "duration": 5,
    "start_time": "2023-10-06T16:15:42.491Z"
   },
   {
    "duration": 5,
    "start_time": "2023-10-06T16:15:42.963Z"
   },
   {
    "duration": 16,
    "start_time": "2023-10-06T16:15:43.890Z"
   },
   {
    "duration": 6,
    "start_time": "2023-10-06T16:15:44.355Z"
   },
   {
    "duration": 6,
    "start_time": "2023-10-06T16:15:44.831Z"
   },
   {
    "duration": 5,
    "start_time": "2023-10-06T16:15:45.271Z"
   },
   {
    "duration": 6,
    "start_time": "2023-10-06T16:15:46.191Z"
   },
   {
    "duration": 6,
    "start_time": "2023-10-06T16:15:46.639Z"
   },
   {
    "duration": 6,
    "start_time": "2023-10-06T16:15:47.096Z"
   },
   {
    "duration": 7,
    "start_time": "2023-10-06T16:15:48.123Z"
   },
   {
    "duration": 24,
    "start_time": "2023-10-06T16:15:48.619Z"
   },
   {
    "duration": 23,
    "start_time": "2023-10-06T16:15:49.098Z"
   },
   {
    "duration": 24,
    "start_time": "2023-10-06T16:15:49.547Z"
   },
   {
    "duration": 5,
    "start_time": "2023-10-06T16:15:51.315Z"
   },
   {
    "duration": 147,
    "start_time": "2023-10-06T16:15:51.963Z"
   },
   {
    "duration": 5,
    "start_time": "2023-10-06T16:15:53.299Z"
   },
   {
    "duration": 7,
    "start_time": "2023-10-06T16:15:54.187Z"
   },
   {
    "duration": 172,
    "start_time": "2023-10-06T16:15:55.119Z"
   },
   {
    "duration": 5,
    "start_time": "2023-10-06T16:15:56.499Z"
   },
   {
    "duration": 6,
    "start_time": "2023-10-06T16:15:57.414Z"
   },
   {
    "duration": 5,
    "start_time": "2023-10-06T16:15:57.879Z"
   },
   {
    "duration": 4,
    "start_time": "2023-10-06T16:15:58.811Z"
   },
   {
    "duration": 4,
    "start_time": "2023-10-06T16:15:59.311Z"
   },
   {
    "duration": 8,
    "start_time": "2023-10-06T16:16:01.786Z"
   },
   {
    "duration": 208,
    "start_time": "2023-10-06T16:16:01.796Z"
   },
   {
    "duration": 46,
    "start_time": "2023-10-06T16:16:02.005Z"
   },
   {
    "duration": 57,
    "start_time": "2023-10-06T16:16:02.053Z"
   },
   {
    "duration": 26,
    "start_time": "2023-10-06T16:16:02.486Z"
   },
   {
    "duration": 35,
    "start_time": "2023-10-06T16:16:02.949Z"
   },
   {
    "duration": 24,
    "start_time": "2023-10-06T16:16:03.387Z"
   },
   {
    "duration": 16,
    "start_time": "2023-10-06T16:16:04.835Z"
   },
   {
    "duration": 6,
    "start_time": "2023-10-06T16:16:05.346Z"
   },
   {
    "duration": 5,
    "start_time": "2023-10-06T16:16:05.875Z"
   },
   {
    "duration": 5,
    "start_time": "2023-10-06T16:16:06.335Z"
   },
   {
    "duration": 16,
    "start_time": "2023-10-06T16:16:07.219Z"
   },
   {
    "duration": 5,
    "start_time": "2023-10-06T16:16:07.699Z"
   },
   {
    "duration": 5,
    "start_time": "2023-10-06T16:16:08.111Z"
   },
   {
    "duration": 5,
    "start_time": "2023-10-06T16:16:08.583Z"
   },
   {
    "duration": 8,
    "start_time": "2023-10-06T16:16:09.475Z"
   },
   {
    "duration": 6,
    "start_time": "2023-10-06T16:16:09.923Z"
   },
   {
    "duration": 6,
    "start_time": "2023-10-06T16:16:10.399Z"
   },
   {
    "duration": 8,
    "start_time": "2023-10-06T16:16:11.307Z"
   },
   {
    "duration": 23,
    "start_time": "2023-10-06T16:16:11.766Z"
   },
   {
    "duration": 25,
    "start_time": "2023-10-06T16:16:12.182Z"
   },
   {
    "duration": 23,
    "start_time": "2023-10-06T16:16:12.587Z"
   },
   {
    "duration": 1352,
    "start_time": "2023-10-07T17:17:02.564Z"
   },
   {
    "duration": 71,
    "start_time": "2023-10-07T17:17:04.213Z"
   },
   {
    "duration": 12,
    "start_time": "2023-10-07T17:17:05.224Z"
   },
   {
    "duration": 5,
    "start_time": "2023-10-07T17:17:05.737Z"
   },
   {
    "duration": 5,
    "start_time": "2023-10-07T17:17:06.240Z"
   },
   {
    "duration": 12,
    "start_time": "2023-10-07T17:17:08.521Z"
   },
   {
    "duration": 175,
    "start_time": "2023-10-07T17:17:09.121Z"
   },
   {
    "duration": 4,
    "start_time": "2023-10-07T17:17:10.717Z"
   },
   {
    "duration": 5,
    "start_time": "2023-10-07T17:17:11.165Z"
   },
   {
    "duration": 143,
    "start_time": "2023-10-07T17:17:11.569Z"
   },
   {
    "duration": 12,
    "start_time": "2023-10-07T17:17:13.184Z"
   },
   {
    "duration": 163,
    "start_time": "2023-10-07T17:17:13.833Z"
   },
   {
    "duration": 5,
    "start_time": "2023-10-07T17:17:15.765Z"
   },
   {
    "duration": 9,
    "start_time": "2023-10-07T17:17:16.267Z"
   },
   {
    "duration": 142,
    "start_time": "2023-10-07T17:17:16.868Z"
   },
   {
    "duration": 3,
    "start_time": "2023-10-07T17:17:18.176Z"
   },
   {
    "duration": 4,
    "start_time": "2023-10-07T17:17:18.684Z"
   },
   {
    "duration": 173,
    "start_time": "2023-10-07T17:17:19.208Z"
   },
   {
    "duration": 152,
    "start_time": "2023-10-07T17:17:23.257Z"
   },
   {
    "duration": 7,
    "start_time": "2023-10-07T17:17:24.057Z"
   },
   {
    "duration": 5,
    "start_time": "2023-10-07T17:20:16.040Z"
   },
   {
    "duration": 4,
    "start_time": "2023-10-07T17:21:03.677Z"
   },
   {
    "duration": 85,
    "start_time": "2023-10-07T17:21:47.568Z"
   },
   {
    "duration": 5,
    "start_time": "2023-10-07T17:21:52.372Z"
   },
   {
    "duration": 5,
    "start_time": "2023-10-07T17:22:09.825Z"
   },
   {
    "duration": 19,
    "start_time": "2023-10-07T17:28:18.105Z"
   },
   {
    "duration": 5,
    "start_time": "2023-10-07T17:31:58.208Z"
   },
   {
    "duration": 114,
    "start_time": "2023-10-07T17:32:16.096Z"
   },
   {
    "duration": 71,
    "start_time": "2023-10-07T17:32:27.474Z"
   },
   {
    "duration": 10,
    "start_time": "2023-10-07T17:32:51.971Z"
   },
   {
    "duration": 16,
    "start_time": "2023-10-07T17:33:07.516Z"
   },
   {
    "duration": 5,
    "start_time": "2023-10-07T17:36:41.485Z"
   },
   {
    "duration": 6,
    "start_time": "2023-10-07T17:37:29.501Z"
   },
   {
    "duration": 5,
    "start_time": "2023-10-07T17:38:36.916Z"
   },
   {
    "duration": 5,
    "start_time": "2023-10-07T17:40:54.373Z"
   },
   {
    "duration": 75,
    "start_time": "2023-10-07T17:41:09.410Z"
   },
   {
    "duration": 10,
    "start_time": "2023-10-07T17:41:18.326Z"
   },
   {
    "duration": 6,
    "start_time": "2023-10-07T17:41:18.966Z"
   },
   {
    "duration": 6,
    "start_time": "2023-10-07T17:41:20.002Z"
   },
   {
    "duration": 4,
    "start_time": "2023-10-07T17:41:22.867Z"
   },
   {
    "duration": 6,
    "start_time": "2023-10-07T17:41:24.425Z"
   },
   {
    "duration": 8,
    "start_time": "2023-10-07T17:41:55.962Z"
   },
   {
    "duration": 5,
    "start_time": "2023-10-07T17:42:34.679Z"
   },
   {
    "duration": 76,
    "start_time": "2023-10-07T17:43:05.924Z"
   },
   {
    "duration": 5,
    "start_time": "2023-10-07T17:43:08.887Z"
   },
   {
    "duration": 5,
    "start_time": "2023-10-07T17:43:09.328Z"
   },
   {
    "duration": 5,
    "start_time": "2023-10-07T17:43:09.707Z"
   },
   {
    "duration": 10,
    "start_time": "2023-10-07T17:43:10.704Z"
   },
   {
    "duration": 5,
    "start_time": "2023-10-07T17:43:12.104Z"
   },
   {
    "duration": 7,
    "start_time": "2023-10-07T17:43:12.759Z"
   },
   {
    "duration": 69,
    "start_time": "2023-10-07T17:43:27.308Z"
   },
   {
    "duration": 5,
    "start_time": "2023-10-07T17:43:34.916Z"
   },
   {
    "duration": 6,
    "start_time": "2023-10-07T17:43:35.753Z"
   },
   {
    "duration": 7,
    "start_time": "2023-10-07T17:47:37.087Z"
   },
   {
    "duration": 76,
    "start_time": "2023-10-07T17:48:31.459Z"
   },
   {
    "duration": 5,
    "start_time": "2023-10-07T17:48:37.319Z"
   },
   {
    "duration": 5,
    "start_time": "2023-10-07T17:48:39.931Z"
   },
   {
    "duration": 7,
    "start_time": "2023-10-07T17:48:46.563Z"
   },
   {
    "duration": 6,
    "start_time": "2023-10-07T17:49:15.451Z"
   },
   {
    "duration": 5,
    "start_time": "2023-10-07T17:49:25.871Z"
   },
   {
    "duration": 69,
    "start_time": "2023-10-07T17:50:57.672Z"
   },
   {
    "duration": 11,
    "start_time": "2023-10-07T17:51:01.495Z"
   },
   {
    "duration": 7,
    "start_time": "2023-10-07T17:51:02.195Z"
   },
   {
    "duration": 6,
    "start_time": "2023-10-07T17:51:05.072Z"
   },
   {
    "duration": 5,
    "start_time": "2023-10-07T17:51:06.963Z"
   },
   {
    "duration": 8,
    "start_time": "2023-10-07T17:51:10.476Z"
   },
   {
    "duration": 6,
    "start_time": "2023-10-07T17:51:27.744Z"
   },
   {
    "duration": 6,
    "start_time": "2023-10-07T17:52:28.505Z"
   },
   {
    "duration": 6,
    "start_time": "2023-10-07T17:52:46.684Z"
   },
   {
    "duration": 6,
    "start_time": "2023-10-07T17:52:56.104Z"
   },
   {
    "duration": 12,
    "start_time": "2023-10-07T17:58:33.178Z"
   },
   {
    "duration": 9,
    "start_time": "2023-10-07T17:59:19.369Z"
   },
   {
    "duration": 10,
    "start_time": "2023-10-07T17:59:52.178Z"
   },
   {
    "duration": 10,
    "start_time": "2023-10-07T18:01:03.471Z"
   },
   {
    "duration": 9,
    "start_time": "2023-10-07T18:01:06.911Z"
   },
   {
    "duration": 8,
    "start_time": "2023-10-07T18:02:50.031Z"
   },
   {
    "duration": 9,
    "start_time": "2023-10-07T18:03:48.731Z"
   },
   {
    "duration": 73,
    "start_time": "2023-10-07T18:04:52.691Z"
   },
   {
    "duration": 5,
    "start_time": "2023-10-07T18:04:58.119Z"
   },
   {
    "duration": 6,
    "start_time": "2023-10-07T18:04:58.844Z"
   },
   {
    "duration": 11,
    "start_time": "2023-10-07T18:05:09.572Z"
   },
   {
    "duration": 11,
    "start_time": "2023-10-07T18:05:43.371Z"
   },
   {
    "duration": 10,
    "start_time": "2023-10-07T18:05:53.283Z"
   },
   {
    "duration": 9,
    "start_time": "2023-10-07T18:05:54.812Z"
   },
   {
    "duration": 15,
    "start_time": "2023-10-07T18:06:45.648Z"
   },
   {
    "duration": 23,
    "start_time": "2023-10-07T18:06:46.444Z"
   },
   {
    "duration": 72,
    "start_time": "2023-10-07T18:06:52.932Z"
   },
   {
    "duration": 11,
    "start_time": "2023-10-07T18:06:58.496Z"
   },
   {
    "duration": 7,
    "start_time": "2023-10-07T18:07:03.440Z"
   },
   {
    "duration": 8,
    "start_time": "2023-10-07T18:07:04.064Z"
   },
   {
    "duration": 5,
    "start_time": "2023-10-07T18:07:05.728Z"
   },
   {
    "duration": 7,
    "start_time": "2023-10-07T18:07:09.972Z"
   },
   {
    "duration": 9,
    "start_time": "2023-10-07T18:07:10.908Z"
   },
   {
    "duration": 11,
    "start_time": "2023-10-07T18:07:11.471Z"
   },
   {
    "duration": 7,
    "start_time": "2023-10-07T18:07:29.284Z"
   },
   {
    "duration": 81,
    "start_time": "2023-10-07T18:16:31.578Z"
   },
   {
    "duration": 843,
    "start_time": "2023-10-07T18:17:13.837Z"
   },
   {
    "duration": 781,
    "start_time": "2023-10-07T18:17:57.633Z"
   },
   {
    "duration": 769,
    "start_time": "2023-10-07T18:19:25.040Z"
   },
   {
    "duration": 13,
    "start_time": "2023-10-07T18:26:31.455Z"
   },
   {
    "duration": 6,
    "start_time": "2023-10-07T18:26:54.400Z"
   },
   {
    "duration": 5,
    "start_time": "2023-10-07T18:27:03.312Z"
   },
   {
    "duration": 6,
    "start_time": "2023-10-07T18:27:04.292Z"
   },
   {
    "duration": 10,
    "start_time": "2023-10-07T18:27:17.955Z"
   },
   {
    "duration": 8,
    "start_time": "2023-10-07T18:27:25.301Z"
   },
   {
    "duration": 7,
    "start_time": "2023-10-07T18:27:37.151Z"
   },
   {
    "duration": 639,
    "start_time": "2023-10-07T18:27:39.904Z"
   },
   {
    "duration": 5,
    "start_time": "2023-10-07T18:27:54.812Z"
   },
   {
    "duration": 70,
    "start_time": "2023-10-07T18:29:33.735Z"
   },
   {
    "duration": 8,
    "start_time": "2023-10-07T18:29:34.640Z"
   },
   {
    "duration": 11,
    "start_time": "2023-10-07T18:29:36.403Z"
   },
   {
    "duration": 5,
    "start_time": "2023-10-07T18:29:36.904Z"
   },
   {
    "duration": 8,
    "start_time": "2023-10-07T18:29:37.291Z"
   },
   {
    "duration": 5,
    "start_time": "2023-10-07T18:29:38.436Z"
   },
   {
    "duration": 6,
    "start_time": "2023-10-07T18:29:38.856Z"
   },
   {
    "duration": 5,
    "start_time": "2023-10-07T18:29:39.311Z"
   },
   {
    "duration": 6,
    "start_time": "2023-10-07T18:29:39.755Z"
   },
   {
    "duration": 9,
    "start_time": "2023-10-07T18:29:40.187Z"
   },
   {
    "duration": 10,
    "start_time": "2023-10-07T18:29:40.631Z"
   },
   {
    "duration": 6,
    "start_time": "2023-10-07T18:29:41.099Z"
   },
   {
    "duration": 617,
    "start_time": "2023-10-07T18:29:41.628Z"
   },
   {
    "duration": 6,
    "start_time": "2023-10-07T18:29:42.559Z"
   },
   {
    "duration": 13,
    "start_time": "2023-10-07T18:31:39.254Z"
   },
   {
    "duration": 6,
    "start_time": "2023-10-07T18:31:39.895Z"
   },
   {
    "duration": 6,
    "start_time": "2023-10-07T18:31:40.540Z"
   },
   {
    "duration": 17,
    "start_time": "2023-10-07T18:31:42.087Z"
   },
   {
    "duration": 274,
    "start_time": "2023-10-07T18:31:43.024Z"
   },
   {
    "duration": 142,
    "start_time": "2023-10-07T18:31:45.692Z"
   },
   {
    "duration": 13,
    "start_time": "2023-10-07T18:31:46.279Z"
   },
   {
    "duration": 221,
    "start_time": "2023-10-07T18:31:47.572Z"
   },
   {
    "duration": 440,
    "start_time": "2023-10-07T18:31:55.059Z"
   },
   {
    "duration": 5,
    "start_time": "2023-10-07T18:32:02.076Z"
   },
   {
    "duration": 199,
    "start_time": "2023-10-07T18:32:02.731Z"
   },
   {
    "duration": 300,
    "start_time": "2023-10-07T18:32:03.520Z"
   },
   {
    "duration": 124,
    "start_time": "2023-10-07T18:32:30.200Z"
   },
   {
    "duration": 18,
    "start_time": "2023-10-07T18:32:30.691Z"
   },
   {
    "duration": 232,
    "start_time": "2023-10-07T18:32:31.492Z"
   },
   {
    "duration": 256,
    "start_time": "2023-10-07T18:32:33.104Z"
   },
   {
    "duration": 9,
    "start_time": "2023-10-07T18:32:47.308Z"
   },
   {
    "duration": 130,
    "start_time": "2023-10-07T18:32:48.215Z"
   },
   {
    "duration": 138,
    "start_time": "2023-10-07T18:32:56.959Z"
   },
   {
    "duration": 4,
    "start_time": "2023-10-07T18:33:08.624Z"
   },
   {
    "duration": 5,
    "start_time": "2023-10-07T18:33:09.824Z"
   },
   {
    "duration": 8,
    "start_time": "2023-10-07T18:33:10.819Z"
   },
   {
    "duration": 8,
    "start_time": "2023-10-07T18:33:14.623Z"
   },
   {
    "duration": 5,
    "start_time": "2023-10-07T18:33:16.899Z"
   },
   {
    "duration": 159,
    "start_time": "2023-10-07T18:33:17.439Z"
   },
   {
    "duration": 173,
    "start_time": "2023-10-07T18:33:19.507Z"
   },
   {
    "duration": 133,
    "start_time": "2023-10-07T18:33:21.123Z"
   },
   {
    "duration": 146,
    "start_time": "2023-10-07T18:33:22.795Z"
   },
   {
    "duration": 212,
    "start_time": "2023-10-07T18:34:26.455Z"
   },
   {
    "duration": 142,
    "start_time": "2023-10-07T18:34:28.095Z"
   },
   {
    "duration": 4,
    "start_time": "2023-10-07T18:34:31.353Z"
   },
   {
    "duration": 157,
    "start_time": "2023-10-07T18:34:32.695Z"
   },
   {
    "duration": 5,
    "start_time": "2023-10-07T18:34:34.499Z"
   },
   {
    "duration": 5,
    "start_time": "2023-10-07T18:34:35.091Z"
   },
   {
    "duration": 8,
    "start_time": "2023-10-07T18:34:35.803Z"
   },
   {
    "duration": 8,
    "start_time": "2023-10-07T18:34:36.715Z"
   },
   {
    "duration": 6,
    "start_time": "2023-10-07T18:34:39.046Z"
   },
   {
    "duration": 5,
    "start_time": "2023-10-07T18:34:50.075Z"
   },
   {
    "duration": 6,
    "start_time": "2023-10-07T18:35:10.563Z"
   },
   {
    "duration": 9,
    "start_time": "2023-10-07T18:35:30.430Z"
   },
   {
    "duration": 21,
    "start_time": "2023-10-07T18:35:31.271Z"
   },
   {
    "duration": 22,
    "start_time": "2023-10-07T18:35:32.283Z"
   },
   {
    "duration": 24,
    "start_time": "2023-10-07T18:35:33.635Z"
   },
   {
    "duration": 14,
    "start_time": "2023-10-07T18:35:46.818Z"
   },
   {
    "duration": 5,
    "start_time": "2023-10-07T18:35:47.675Z"
   },
   {
    "duration": 6,
    "start_time": "2023-10-07T18:35:48.374Z"
   },
   {
    "duration": 4,
    "start_time": "2023-10-07T18:35:49.027Z"
   },
   {
    "duration": 13,
    "start_time": "2023-10-07T18:35:50.731Z"
   },
   {
    "duration": 5,
    "start_time": "2023-10-07T18:35:51.496Z"
   },
   {
    "duration": 5,
    "start_time": "2023-10-07T18:35:52.387Z"
   },
   {
    "duration": 5,
    "start_time": "2023-10-07T18:35:53.183Z"
   },
   {
    "duration": 5,
    "start_time": "2023-10-07T18:35:54.679Z"
   },
   {
    "duration": 5,
    "start_time": "2023-10-07T18:35:55.415Z"
   },
   {
    "duration": 9,
    "start_time": "2023-10-07T18:35:55.967Z"
   },
   {
    "duration": 6,
    "start_time": "2023-10-07T18:35:57.171Z"
   },
   {
    "duration": 26,
    "start_time": "2023-10-07T18:35:57.907Z"
   },
   {
    "duration": 27,
    "start_time": "2023-10-07T18:35:58.467Z"
   },
   {
    "duration": 23,
    "start_time": "2023-10-07T18:35:58.971Z"
   },
   {
    "duration": 6,
    "start_time": "2023-10-07T18:36:01.428Z"
   },
   {
    "duration": 155,
    "start_time": "2023-10-07T18:36:02.294Z"
   },
   {
    "duration": 4,
    "start_time": "2023-10-07T18:36:13.288Z"
   },
   {
    "duration": 6,
    "start_time": "2023-10-07T18:36:14.851Z"
   },
   {
    "duration": 160,
    "start_time": "2023-10-07T18:36:22.067Z"
   },
   {
    "duration": 5,
    "start_time": "2023-10-07T18:36:24.953Z"
   },
   {
    "duration": 5,
    "start_time": "2023-10-07T18:36:26.587Z"
   },
   {
    "duration": 4,
    "start_time": "2023-10-07T18:36:27.226Z"
   },
   {
    "duration": 4,
    "start_time": "2023-10-07T18:36:29.654Z"
   },
   {
    "duration": 3,
    "start_time": "2023-10-07T18:36:30.435Z"
   },
   {
    "duration": 8,
    "start_time": "2023-10-07T18:36:31.635Z"
   },
   {
    "duration": 6,
    "start_time": "2023-10-07T18:36:32.382Z"
   },
   {
    "duration": 5,
    "start_time": "2023-10-07T18:36:33.650Z"
   },
   {
    "duration": 8,
    "start_time": "2023-10-07T18:36:34.838Z"
   },
   {
    "duration": 23,
    "start_time": "2023-10-07T18:36:35.482Z"
   },
   {
    "duration": 26,
    "start_time": "2023-10-07T18:36:36.074Z"
   },
   {
    "duration": 23,
    "start_time": "2023-10-07T18:36:36.774Z"
   },
   {
    "duration": 16,
    "start_time": "2023-10-07T18:36:38.848Z"
   },
   {
    "duration": 5,
    "start_time": "2023-10-07T18:36:39.475Z"
   },
   {
    "duration": 5,
    "start_time": "2023-10-07T18:36:40.055Z"
   },
   {
    "duration": 4,
    "start_time": "2023-10-07T18:36:40.603Z"
   },
   {
    "duration": 14,
    "start_time": "2023-10-07T18:36:42.130Z"
   },
   {
    "duration": 5,
    "start_time": "2023-10-07T18:36:42.774Z"
   },
   {
    "duration": 5,
    "start_time": "2023-10-07T18:36:43.479Z"
   },
   {
    "duration": 5,
    "start_time": "2023-10-07T18:36:45.207Z"
   },
   {
    "duration": 6,
    "start_time": "2023-10-07T18:36:46.775Z"
   },
   {
    "duration": 6,
    "start_time": "2023-10-07T18:36:47.463Z"
   },
   {
    "duration": 6,
    "start_time": "2023-10-07T18:36:47.911Z"
   },
   {
    "duration": 9,
    "start_time": "2023-10-07T18:36:49.119Z"
   },
   {
    "duration": 23,
    "start_time": "2023-10-07T18:36:49.755Z"
   },
   {
    "duration": 22,
    "start_time": "2023-10-07T18:36:50.415Z"
   },
   {
    "duration": 26,
    "start_time": "2023-10-07T18:36:51.084Z"
   },
   {
    "duration": 3,
    "start_time": "2023-10-07T18:38:43.503Z"
   },
   {
    "duration": 33,
    "start_time": "2023-10-07T18:38:44.439Z"
   },
   {
    "duration": 10,
    "start_time": "2023-10-07T18:38:45.675Z"
   },
   {
    "duration": 5,
    "start_time": "2023-10-07T18:38:46.079Z"
   },
   {
    "duration": 5,
    "start_time": "2023-10-07T18:38:46.456Z"
   },
   {
    "duration": 10,
    "start_time": "2023-10-07T18:38:48.135Z"
   },
   {
    "duration": 160,
    "start_time": "2023-10-07T18:38:48.535Z"
   },
   {
    "duration": 4,
    "start_time": "2023-10-07T18:38:49.703Z"
   },
   {
    "duration": 6,
    "start_time": "2023-10-07T18:38:50.099Z"
   },
   {
    "duration": 147,
    "start_time": "2023-10-07T18:38:50.507Z"
   },
   {
    "duration": 12,
    "start_time": "2023-10-07T18:38:51.915Z"
   },
   {
    "duration": 149,
    "start_time": "2023-10-07T18:38:52.383Z"
   },
   {
    "duration": 4,
    "start_time": "2023-10-07T18:38:53.853Z"
   },
   {
    "duration": 6,
    "start_time": "2023-10-07T18:38:54.239Z"
   },
   {
    "duration": 147,
    "start_time": "2023-10-07T18:38:54.603Z"
   },
   {
    "duration": 3,
    "start_time": "2023-10-07T18:38:55.743Z"
   },
   {
    "duration": 4,
    "start_time": "2023-10-07T18:38:56.330Z"
   },
   {
    "duration": 170,
    "start_time": "2023-10-07T18:38:56.699Z"
   },
   {
    "duration": 69,
    "start_time": "2023-10-07T18:38:59.359Z"
   },
   {
    "duration": 7,
    "start_time": "2023-10-07T18:39:00.895Z"
   },
   {
    "duration": 11,
    "start_time": "2023-10-07T18:39:02.694Z"
   },
   {
    "duration": 7,
    "start_time": "2023-10-07T18:39:03.290Z"
   },
   {
    "duration": 6,
    "start_time": "2023-10-07T18:39:04.106Z"
   },
   {
    "duration": 5,
    "start_time": "2023-10-07T18:39:10.530Z"
   },
   {
    "duration": 7,
    "start_time": "2023-10-07T18:39:17.290Z"
   },
   {
    "duration": 4,
    "start_time": "2023-10-07T18:39:27.187Z"
   },
   {
    "duration": 7,
    "start_time": "2023-10-07T18:39:28.462Z"
   },
   {
    "duration": 9,
    "start_time": "2023-10-07T18:39:30.335Z"
   },
   {
    "duration": 9,
    "start_time": "2023-10-07T18:39:31.471Z"
   },
   {
    "duration": 8,
    "start_time": "2023-10-07T18:39:32.402Z"
   },
   {
    "duration": 647,
    "start_time": "2023-10-07T18:39:40.255Z"
   },
   {
    "duration": 5,
    "start_time": "2023-10-07T18:39:43.439Z"
   },
   {
    "duration": 10,
    "start_time": "2023-10-07T18:39:47.127Z"
   },
   {
    "duration": 4,
    "start_time": "2023-10-07T18:39:47.626Z"
   },
   {
    "duration": 6,
    "start_time": "2023-10-07T18:39:48.071Z"
   },
   {
    "duration": 19,
    "start_time": "2023-10-07T18:39:49.382Z"
   },
   {
    "duration": 222,
    "start_time": "2023-10-07T18:39:49.855Z"
   },
   {
    "duration": 217,
    "start_time": "2023-10-07T18:39:51.414Z"
   },
   {
    "duration": 13,
    "start_time": "2023-10-07T18:39:52.086Z"
   },
   {
    "duration": 225,
    "start_time": "2023-10-07T18:39:52.687Z"
   },
   {
    "duration": 280,
    "start_time": "2023-10-07T18:39:54.318Z"
   },
   {
    "duration": 5,
    "start_time": "2023-10-07T18:39:56.726Z"
   },
   {
    "duration": 199,
    "start_time": "2023-10-07T18:39:57.463Z"
   },
   {
    "duration": 265,
    "start_time": "2023-10-07T18:39:58.486Z"
   },
   {
    "duration": 125,
    "start_time": "2023-10-07T18:40:00.899Z"
   },
   {
    "duration": 19,
    "start_time": "2023-10-07T18:40:01.835Z"
   },
   {
    "duration": 202,
    "start_time": "2023-10-07T18:40:03.130Z"
   },
   {
    "duration": 267,
    "start_time": "2023-10-07T18:40:04.095Z"
   },
   {
    "duration": 81,
    "start_time": "2023-10-07T18:41:01.023Z"
   },
   {
    "duration": 9,
    "start_time": "2023-10-07T18:41:22.115Z"
   },
   {
    "duration": 126,
    "start_time": "2023-10-07T18:41:22.595Z"
   },
   {
    "duration": 69,
    "start_time": "2023-10-07T18:42:53.251Z"
   },
   {
    "duration": 7,
    "start_time": "2023-10-07T18:42:53.870Z"
   },
   {
    "duration": 6,
    "start_time": "2023-10-07T18:42:59.994Z"
   },
   {
    "duration": 4,
    "start_time": "2023-10-07T18:43:07.882Z"
   },
   {
    "duration": 5,
    "start_time": "2023-10-07T18:43:11.656Z"
   },
   {
    "duration": 6,
    "start_time": "2023-10-07T18:43:20.911Z"
   },
   {
    "duration": 10,
    "start_time": "2023-10-07T18:43:23.866Z"
   },
   {
    "duration": 10,
    "start_time": "2023-10-07T18:43:33.256Z"
   },
   {
    "duration": 7,
    "start_time": "2023-10-07T18:43:35.658Z"
   },
   {
    "duration": 768,
    "start_time": "2023-10-07T18:43:38.390Z"
   },
   {
    "duration": 6,
    "start_time": "2023-10-07T18:44:47.734Z"
   },
   {
    "duration": 70,
    "start_time": "2023-10-07T18:47:30.962Z"
   },
   {
    "duration": 8,
    "start_time": "2023-10-07T18:47:31.682Z"
   },
   {
    "duration": 14,
    "start_time": "2023-10-07T18:47:32.470Z"
   },
   {
    "duration": 7,
    "start_time": "2023-10-07T18:47:32.827Z"
   },
   {
    "duration": 6,
    "start_time": "2023-10-07T18:47:33.154Z"
   },
   {
    "duration": 4,
    "start_time": "2023-10-07T18:47:34.211Z"
   },
   {
    "duration": 6,
    "start_time": "2023-10-07T18:47:34.851Z"
   },
   {
    "duration": 9,
    "start_time": "2023-10-07T18:47:35.851Z"
   },
   {
    "duration": 11,
    "start_time": "2023-10-07T18:47:36.486Z"
   },
   {
    "duration": 6,
    "start_time": "2023-10-07T18:47:37.030Z"
   },
   {
    "duration": 796,
    "start_time": "2023-10-07T18:47:38.818Z"
   },
   {
    "duration": 6,
    "start_time": "2023-10-07T18:50:35.632Z"
   },
   {
    "duration": 9,
    "start_time": "2023-10-07T18:52:31.001Z"
   },
   {
    "duration": 9,
    "start_time": "2023-10-07T18:52:51.905Z"
   },
   {
    "duration": 641,
    "start_time": "2023-10-07T18:53:46.209Z"
   },
   {
    "duration": 69,
    "start_time": "2023-10-07T18:56:40.535Z"
   },
   {
    "duration": 8,
    "start_time": "2023-10-07T18:56:41.158Z"
   },
   {
    "duration": 13,
    "start_time": "2023-10-07T18:56:47.502Z"
   },
   {
    "duration": 7,
    "start_time": "2023-10-07T18:56:48.427Z"
   },
   {
    "duration": 7,
    "start_time": "2023-10-07T18:56:49.171Z"
   },
   {
    "duration": 6,
    "start_time": "2023-10-07T18:56:51.078Z"
   },
   {
    "duration": 8,
    "start_time": "2023-10-07T18:57:06.953Z"
   },
   {
    "duration": 11,
    "start_time": "2023-10-07T18:57:07.994Z"
   },
   {
    "duration": 11,
    "start_time": "2023-10-07T18:57:08.598Z"
   },
   {
    "duration": 8,
    "start_time": "2023-10-07T18:57:09.202Z"
   },
   {
    "duration": 769,
    "start_time": "2023-10-07T18:57:09.886Z"
   },
   {
    "duration": 5,
    "start_time": "2023-10-07T18:57:10.748Z"
   },
   {
    "duration": 12,
    "start_time": "2023-10-07T18:57:11.522Z"
   },
   {
    "duration": 13,
    "start_time": "2023-10-07T18:57:14.927Z"
   },
   {
    "duration": 750,
    "start_time": "2023-10-07T19:03:16.417Z"
   },
   {
    "duration": 71,
    "start_time": "2023-10-07T19:03:27.033Z"
   },
   {
    "duration": 12,
    "start_time": "2023-10-07T19:03:27.545Z"
   },
   {
    "duration": 11,
    "start_time": "2023-10-07T19:03:28.421Z"
   },
   {
    "duration": 9,
    "start_time": "2023-10-07T19:03:28.970Z"
   },
   {
    "duration": 10,
    "start_time": "2023-10-07T19:03:29.469Z"
   },
   {
    "duration": 5,
    "start_time": "2023-10-07T19:03:30.989Z"
   },
   {
    "duration": 10,
    "start_time": "2023-10-07T19:03:31.665Z"
   },
   {
    "duration": 12,
    "start_time": "2023-10-07T19:03:32.513Z"
   },
   {
    "duration": 15,
    "start_time": "2023-10-07T19:03:33.441Z"
   },
   {
    "duration": 7,
    "start_time": "2023-10-07T19:03:33.692Z"
   },
   {
    "duration": 866,
    "start_time": "2023-10-07T19:03:34.128Z"
   },
   {
    "duration": 6,
    "start_time": "2023-10-07T19:03:34.996Z"
   },
   {
    "duration": 10,
    "start_time": "2023-10-07T19:03:35.204Z"
   },
   {
    "duration": 77,
    "start_time": "2023-10-07T19:06:53.673Z"
   },
   {
    "duration": 8,
    "start_time": "2023-10-07T19:06:54.229Z"
   },
   {
    "duration": 12,
    "start_time": "2023-10-07T19:06:55.234Z"
   },
   {
    "duration": 6,
    "start_time": "2023-10-07T19:06:55.709Z"
   },
   {
    "duration": 10,
    "start_time": "2023-10-07T19:06:56.172Z"
   },
   {
    "duration": 5,
    "start_time": "2023-10-07T19:06:57.537Z"
   },
   {
    "duration": 8,
    "start_time": "2023-10-07T19:06:57.942Z"
   },
   {
    "duration": 12,
    "start_time": "2023-10-07T19:06:58.373Z"
   },
   {
    "duration": 13,
    "start_time": "2023-10-07T19:06:58.867Z"
   },
   {
    "duration": 8,
    "start_time": "2023-10-07T19:06:59.454Z"
   },
   {
    "duration": 901,
    "start_time": "2023-10-07T19:07:00.221Z"
   },
   {
    "duration": 5,
    "start_time": "2023-10-07T19:07:01.124Z"
   },
   {
    "duration": 11,
    "start_time": "2023-10-07T19:07:03.745Z"
   },
   {
    "duration": 6,
    "start_time": "2023-10-07T19:07:06.681Z"
   },
   {
    "duration": 11,
    "start_time": "2023-10-07T19:09:24.393Z"
   },
   {
    "duration": 6,
    "start_time": "2023-10-07T19:09:24.910Z"
   },
   {
    "duration": 7,
    "start_time": "2023-10-07T19:09:25.385Z"
   },
   {
    "duration": 8,
    "start_time": "2023-10-07T19:09:26.661Z"
   },
   {
    "duration": 7,
    "start_time": "2023-10-07T19:09:27.093Z"
   },
   {
    "duration": 10,
    "start_time": "2023-10-07T19:09:30.737Z"
   },
   {
    "duration": 13,
    "start_time": "2023-10-07T19:09:31.261Z"
   },
   {
    "duration": 8,
    "start_time": "2023-10-07T19:09:31.773Z"
   },
   {
    "duration": 690,
    "start_time": "2023-10-07T19:09:32.850Z"
   },
   {
    "duration": 5,
    "start_time": "2023-10-07T19:09:33.590Z"
   },
   {
    "duration": 10,
    "start_time": "2023-10-07T19:09:34.909Z"
   },
   {
    "duration": 9,
    "start_time": "2023-10-07T19:09:35.517Z"
   },
   {
    "duration": 77,
    "start_time": "2023-10-07T19:09:47.768Z"
   },
   {
    "duration": 7,
    "start_time": "2023-10-07T19:09:48.314Z"
   },
   {
    "duration": 14,
    "start_time": "2023-10-07T19:09:49.242Z"
   },
   {
    "duration": 6,
    "start_time": "2023-10-07T19:09:49.765Z"
   },
   {
    "duration": 6,
    "start_time": "2023-10-07T19:09:50.225Z"
   },
   {
    "duration": 12,
    "start_time": "2023-10-07T19:09:51.566Z"
   },
   {
    "duration": 7,
    "start_time": "2023-10-07T19:09:52.078Z"
   },
   {
    "duration": 12,
    "start_time": "2023-10-07T19:09:52.742Z"
   },
   {
    "duration": 12,
    "start_time": "2023-10-07T19:09:53.269Z"
   },
   {
    "duration": 8,
    "start_time": "2023-10-07T19:09:53.790Z"
   },
   {
    "duration": 843,
    "start_time": "2023-10-07T19:09:54.293Z"
   },
   {
    "duration": 5,
    "start_time": "2023-10-07T19:09:55.138Z"
   },
   {
    "duration": 10,
    "start_time": "2023-10-07T19:09:55.829Z"
   },
   {
    "duration": 9,
    "start_time": "2023-10-07T19:09:56.598Z"
   },
   {
    "duration": 22,
    "start_time": "2023-10-07T19:10:45.658Z"
   },
   {
    "duration": 7,
    "start_time": "2023-10-07T19:10:46.334Z"
   },
   {
    "duration": 5,
    "start_time": "2023-10-07T19:10:46.893Z"
   },
   {
    "duration": 18,
    "start_time": "2023-10-07T19:10:48.501Z"
   },
   {
    "duration": 272,
    "start_time": "2023-10-07T19:10:49.233Z"
   },
   {
    "duration": 170,
    "start_time": "2023-10-07T19:10:50.981Z"
   },
   {
    "duration": 14,
    "start_time": "2023-10-07T19:10:51.782Z"
   },
   {
    "duration": 261,
    "start_time": "2023-10-07T19:10:52.562Z"
   },
   {
    "duration": 305,
    "start_time": "2023-10-07T19:10:54.198Z"
   },
   {
    "duration": 5,
    "start_time": "2023-10-07T19:10:57.025Z"
   },
   {
    "duration": 221,
    "start_time": "2023-10-07T19:10:58.005Z"
   },
   {
    "duration": 391,
    "start_time": "2023-10-07T19:10:59.201Z"
   },
   {
    "duration": 154,
    "start_time": "2023-10-07T19:11:22.234Z"
   },
   {
    "duration": 19,
    "start_time": "2023-10-07T19:11:23.009Z"
   },
   {
    "duration": 262,
    "start_time": "2023-10-07T19:11:23.790Z"
   },
   {
    "duration": 313,
    "start_time": "2023-10-07T19:11:26.369Z"
   },
   {
    "duration": 13,
    "start_time": "2023-10-07T19:11:39.655Z"
   },
   {
    "duration": 163,
    "start_time": "2023-10-07T19:11:40.558Z"
   },
   {
    "duration": 194,
    "start_time": "2023-10-07T19:11:51.642Z"
   },
   {
    "duration": 5,
    "start_time": "2023-10-07T19:11:53.571Z"
   },
   {
    "duration": 5,
    "start_time": "2023-10-07T19:11:54.026Z"
   },
   {
    "duration": 7,
    "start_time": "2023-10-07T19:11:54.482Z"
   },
   {
    "duration": 10,
    "start_time": "2023-10-07T19:11:54.942Z"
   },
   {
    "duration": 6,
    "start_time": "2023-10-07T19:11:57.330Z"
   },
   {
    "duration": 206,
    "start_time": "2023-10-07T19:11:57.770Z"
   },
   {
    "duration": 186,
    "start_time": "2023-10-07T19:11:59.038Z"
   },
   {
    "duration": 168,
    "start_time": "2023-10-07T19:12:00.742Z"
   },
   {
    "duration": 169,
    "start_time": "2023-10-07T19:12:02.370Z"
   },
   {
    "duration": 5,
    "start_time": "2023-10-07T19:12:03.381Z"
   },
   {
    "duration": 157,
    "start_time": "2023-10-07T19:12:17.962Z"
   },
   {
    "duration": 5,
    "start_time": "2023-10-07T19:12:19.126Z"
   },
   {
    "duration": 5,
    "start_time": "2023-10-07T19:12:19.634Z"
   },
   {
    "duration": 7,
    "start_time": "2023-10-07T19:12:20.118Z"
   },
   {
    "duration": 10,
    "start_time": "2023-10-07T19:12:20.566Z"
   },
   {
    "duration": 5,
    "start_time": "2023-10-07T19:12:22.187Z"
   },
   {
    "duration": 7,
    "start_time": "2023-10-07T19:12:22.966Z"
   },
   {
    "duration": 7,
    "start_time": "2023-10-07T19:12:23.568Z"
   },
   {
    "duration": 7,
    "start_time": "2023-10-07T19:12:24.898Z"
   },
   {
    "duration": 22,
    "start_time": "2023-10-07T19:12:25.410Z"
   },
   {
    "duration": 24,
    "start_time": "2023-10-07T19:12:25.838Z"
   },
   {
    "duration": 24,
    "start_time": "2023-10-07T19:12:26.302Z"
   },
   {
    "duration": 18,
    "start_time": "2023-10-07T19:12:27.650Z"
   },
   {
    "duration": 5,
    "start_time": "2023-10-07T19:12:28.113Z"
   },
   {
    "duration": 8,
    "start_time": "2023-10-07T19:12:28.563Z"
   },
   {
    "duration": 5,
    "start_time": "2023-10-07T19:12:29.010Z"
   },
   {
    "duration": 16,
    "start_time": "2023-10-07T19:12:29.966Z"
   },
   {
    "duration": 8,
    "start_time": "2023-10-07T19:12:30.470Z"
   },
   {
    "duration": 5,
    "start_time": "2023-10-07T19:12:30.926Z"
   },
   {
    "duration": 5,
    "start_time": "2023-10-07T19:12:31.390Z"
   },
   {
    "duration": 5,
    "start_time": "2023-10-07T19:12:32.542Z"
   },
   {
    "duration": 5,
    "start_time": "2023-10-07T19:12:32.834Z"
   },
   {
    "duration": 8,
    "start_time": "2023-10-07T19:12:33.366Z"
   },
   {
    "duration": 7,
    "start_time": "2023-10-07T19:12:34.998Z"
   },
   {
    "duration": 24,
    "start_time": "2023-10-07T19:12:35.471Z"
   },
   {
    "duration": 23,
    "start_time": "2023-10-07T19:12:37.390Z"
   },
   {
    "duration": 23,
    "start_time": "2023-10-07T19:12:38.473Z"
   },
   {
    "duration": 7,
    "start_time": "2023-10-07T19:12:40.371Z"
   },
   {
    "duration": 156,
    "start_time": "2023-10-07T19:12:40.982Z"
   },
   {
    "duration": 4,
    "start_time": "2023-10-07T19:12:42.922Z"
   },
   {
    "duration": 6,
    "start_time": "2023-10-07T19:12:44.062Z"
   },
   {
    "duration": 245,
    "start_time": "2023-10-07T19:12:45.765Z"
   },
   {
    "duration": 6,
    "start_time": "2023-10-07T19:13:09.374Z"
   },
   {
    "duration": 16,
    "start_time": "2023-10-07T19:13:10.270Z"
   },
   {
    "duration": 4,
    "start_time": "2023-10-07T19:13:11.026Z"
   },
   {
    "duration": 4,
    "start_time": "2023-10-07T19:13:12.094Z"
   },
   {
    "duration": 3,
    "start_time": "2023-10-07T19:13:12.742Z"
   },
   {
    "duration": 11,
    "start_time": "2023-10-07T19:13:13.866Z"
   },
   {
    "duration": 5,
    "start_time": "2023-10-07T19:13:14.614Z"
   },
   {
    "duration": 5,
    "start_time": "2023-10-07T19:13:15.142Z"
   },
   {
    "duration": 8,
    "start_time": "2023-10-07T19:13:17.142Z"
   },
   {
    "duration": 22,
    "start_time": "2023-10-07T19:13:17.622Z"
   },
   {
    "duration": 24,
    "start_time": "2023-10-07T19:13:18.038Z"
   },
   {
    "duration": 30,
    "start_time": "2023-10-07T19:13:18.478Z"
   },
   {
    "duration": 14,
    "start_time": "2023-10-07T19:13:19.934Z"
   },
   {
    "duration": 5,
    "start_time": "2023-10-07T19:13:20.418Z"
   },
   {
    "duration": 11,
    "start_time": "2023-10-07T19:13:20.866Z"
   },
   {
    "duration": 5,
    "start_time": "2023-10-07T19:13:21.365Z"
   },
   {
    "duration": 14,
    "start_time": "2023-10-07T19:13:22.379Z"
   },
   {
    "duration": 7,
    "start_time": "2023-10-07T19:13:22.867Z"
   },
   {
    "duration": 6,
    "start_time": "2023-10-07T19:13:23.346Z"
   },
   {
    "duration": 5,
    "start_time": "2023-10-07T19:13:23.818Z"
   },
   {
    "duration": 6,
    "start_time": "2023-10-07T19:13:24.918Z"
   },
   {
    "duration": 5,
    "start_time": "2023-10-07T19:13:25.438Z"
   },
   {
    "duration": 11,
    "start_time": "2023-10-07T19:13:26.028Z"
   },
   {
    "duration": 8,
    "start_time": "2023-10-07T19:13:27.073Z"
   },
   {
    "duration": 23,
    "start_time": "2023-10-07T19:13:27.610Z"
   },
   {
    "duration": 22,
    "start_time": "2023-10-07T19:13:28.210Z"
   },
   {
    "duration": 26,
    "start_time": "2023-10-07T19:13:29.110Z"
   },
   {
    "duration": 156,
    "start_time": "2023-10-07T20:33:04.107Z"
   },
   {
    "duration": 6,
    "start_time": "2023-10-07T20:34:08.797Z"
   },
   {
    "duration": 5,
    "start_time": "2023-10-07T20:34:09.768Z"
   },
   {
    "duration": 8,
    "start_time": "2023-10-07T20:34:13.084Z"
   },
   {
    "duration": 7,
    "start_time": "2023-10-07T20:34:13.544Z"
   },
   {
    "duration": 7,
    "start_time": "2023-10-07T20:42:27.894Z"
   },
   {
    "duration": 5,
    "start_time": "2023-10-07T20:42:28.425Z"
   },
   {
    "duration": 5,
    "start_time": "2023-10-07T20:42:28.872Z"
   },
   {
    "duration": 7,
    "start_time": "2023-10-07T20:42:38.338Z"
   },
   {
    "duration": 6,
    "start_time": "2023-10-07T20:42:53.230Z"
   },
   {
    "duration": 6,
    "start_time": "2023-10-07T20:42:53.674Z"
   },
   {
    "duration": 6,
    "start_time": "2023-10-07T20:42:54.006Z"
   },
   {
    "duration": 78,
    "start_time": "2023-10-07T20:43:17.070Z"
   },
   {
    "duration": 7,
    "start_time": "2023-10-07T20:43:22.182Z"
   },
   {
    "duration": 22,
    "start_time": "2023-10-07T20:43:23.075Z"
   },
   {
    "duration": 25,
    "start_time": "2023-10-07T20:43:23.561Z"
   },
   {
    "duration": 22,
    "start_time": "2023-10-07T20:43:24.010Z"
   },
   {
    "duration": 13,
    "start_time": "2023-10-07T20:44:03.379Z"
   },
   {
    "duration": 7,
    "start_time": "2023-10-07T20:44:03.394Z"
   },
   {
    "duration": 5,
    "start_time": "2023-10-07T20:44:04.090Z"
   },
   {
    "duration": 5,
    "start_time": "2023-10-07T20:44:04.682Z"
   },
   {
    "duration": 13,
    "start_time": "2023-10-07T20:44:08.222Z"
   },
   {
    "duration": 5,
    "start_time": "2023-10-07T20:44:08.802Z"
   },
   {
    "duration": 5,
    "start_time": "2023-10-07T20:44:09.597Z"
   },
   {
    "duration": 4,
    "start_time": "2023-10-07T20:44:10.414Z"
   },
   {
    "duration": 5,
    "start_time": "2023-10-07T20:44:41.272Z"
   },
   {
    "duration": 7,
    "start_time": "2023-10-07T20:44:41.778Z"
   },
   {
    "duration": 7,
    "start_time": "2023-10-07T20:44:42.310Z"
   },
   {
    "duration": 9,
    "start_time": "2023-10-07T20:44:46.060Z"
   },
   {
    "duration": 23,
    "start_time": "2023-10-07T20:44:47.199Z"
   },
   {
    "duration": 24,
    "start_time": "2023-10-07T20:44:47.873Z"
   },
   {
    "duration": 24,
    "start_time": "2023-10-07T20:44:48.534Z"
   },
   {
    "duration": 6,
    "start_time": "2023-10-07T20:45:02.768Z"
   },
   {
    "duration": 150,
    "start_time": "2023-10-07T20:45:03.582Z"
   },
   {
    "duration": 8,
    "start_time": "2023-10-07T20:45:07.218Z"
   },
   {
    "duration": 5,
    "start_time": "2023-10-07T20:45:24.105Z"
   },
   {
    "duration": 7,
    "start_time": "2023-10-07T20:45:26.146Z"
   },
   {
    "duration": 6,
    "start_time": "2023-10-07T20:45:55.690Z"
   },
   {
    "duration": 5,
    "start_time": "2023-10-07T20:46:08.526Z"
   },
   {
    "duration": 161,
    "start_time": "2023-10-07T20:46:46.970Z"
   },
   {
    "duration": 5,
    "start_time": "2023-10-07T20:46:55.138Z"
   },
   {
    "duration": 5,
    "start_time": "2023-10-07T20:47:17.883Z"
   },
   {
    "duration": 5,
    "start_time": "2023-10-07T20:47:23.606Z"
   },
   {
    "duration": 4,
    "start_time": "2023-10-07T20:47:43.272Z"
   },
   {
    "duration": 4,
    "start_time": "2023-10-07T20:47:44.050Z"
   },
   {
    "duration": 7,
    "start_time": "2023-10-07T20:48:03.594Z"
   },
   {
    "duration": 5,
    "start_time": "2023-10-07T20:48:04.186Z"
   },
   {
    "duration": 5,
    "start_time": "2023-10-07T20:48:04.794Z"
   },
   {
    "duration": 7,
    "start_time": "2023-10-07T20:48:46.798Z"
   },
   {
    "duration": 22,
    "start_time": "2023-10-07T20:48:47.575Z"
   },
   {
    "duration": 21,
    "start_time": "2023-10-07T20:48:48.131Z"
   },
   {
    "duration": 23,
    "start_time": "2023-10-07T20:48:48.647Z"
   },
   {
    "duration": 17,
    "start_time": "2023-10-07T20:49:01.887Z"
   },
   {
    "duration": 6,
    "start_time": "2023-10-07T20:49:02.430Z"
   },
   {
    "duration": 5,
    "start_time": "2023-10-07T20:49:03.002Z"
   },
   {
    "duration": 4,
    "start_time": "2023-10-07T20:49:03.643Z"
   },
   {
    "duration": 15,
    "start_time": "2023-10-07T20:49:06.234Z"
   },
   {
    "duration": 5,
    "start_time": "2023-10-07T20:49:06.831Z"
   },
   {
    "duration": 5,
    "start_time": "2023-10-07T20:49:07.976Z"
   },
   {
    "duration": 5,
    "start_time": "2023-10-07T20:49:08.539Z"
   },
   {
    "duration": 5,
    "start_time": "2023-10-07T20:49:22.795Z"
   },
   {
    "duration": 5,
    "start_time": "2023-10-07T20:49:23.210Z"
   },
   {
    "duration": 5,
    "start_time": "2023-10-07T20:49:23.611Z"
   },
   {
    "duration": 7,
    "start_time": "2023-10-07T20:49:36.087Z"
   },
   {
    "duration": 6,
    "start_time": "2023-10-07T20:49:36.576Z"
   },
   {
    "duration": 6,
    "start_time": "2023-10-07T20:49:37.261Z"
   },
   {
    "duration": 7,
    "start_time": "2023-10-07T20:49:39.203Z"
   },
   {
    "duration": 23,
    "start_time": "2023-10-07T20:49:39.719Z"
   },
   {
    "duration": 23,
    "start_time": "2023-10-07T20:49:40.175Z"
   },
   {
    "duration": 22,
    "start_time": "2023-10-07T20:49:40.611Z"
   },
   {
    "duration": 3,
    "start_time": "2023-10-07T20:51:51.377Z"
   },
   {
    "duration": 32,
    "start_time": "2023-10-07T20:51:52.235Z"
   },
   {
    "duration": 10,
    "start_time": "2023-10-07T20:51:53.503Z"
   },
   {
    "duration": 6,
    "start_time": "2023-10-07T20:51:54.070Z"
   },
   {
    "duration": 5,
    "start_time": "2023-10-07T20:51:54.578Z"
   },
   {
    "duration": 11,
    "start_time": "2023-10-07T20:51:57.274Z"
   },
   {
    "duration": 152,
    "start_time": "2023-10-07T20:51:58.206Z"
   },
   {
    "duration": 4,
    "start_time": "2023-10-07T20:51:59.415Z"
   },
   {
    "duration": 6,
    "start_time": "2023-10-07T20:51:59.772Z"
   },
   {
    "duration": 136,
    "start_time": "2023-10-07T20:52:00.151Z"
   },
   {
    "duration": 13,
    "start_time": "2023-10-07T20:52:01.386Z"
   },
   {
    "duration": 149,
    "start_time": "2023-10-07T20:52:01.799Z"
   },
   {
    "duration": 4,
    "start_time": "2023-10-07T20:52:03.531Z"
   },
   {
    "duration": 6,
    "start_time": "2023-10-07T20:52:04.130Z"
   },
   {
    "duration": 144,
    "start_time": "2023-10-07T20:52:04.615Z"
   },
   {
    "duration": 2,
    "start_time": "2023-10-07T20:52:05.587Z"
   },
   {
    "duration": 4,
    "start_time": "2023-10-07T20:52:06.087Z"
   },
   {
    "duration": 174,
    "start_time": "2023-10-07T20:52:06.577Z"
   },
   {
    "duration": 71,
    "start_time": "2023-10-07T20:52:11.350Z"
   },
   {
    "duration": 8,
    "start_time": "2023-10-07T20:52:12.107Z"
   },
   {
    "duration": 11,
    "start_time": "2023-10-07T20:52:13.495Z"
   },
   {
    "duration": 6,
    "start_time": "2023-10-07T20:52:17.179Z"
   },
   {
    "duration": 6,
    "start_time": "2023-10-07T20:52:18.935Z"
   },
   {
    "duration": 5,
    "start_time": "2023-10-07T20:52:27.306Z"
   },
   {
    "duration": 6,
    "start_time": "2023-10-07T20:52:28.198Z"
   },
   {
    "duration": 10,
    "start_time": "2023-10-07T20:52:29.074Z"
   },
   {
    "duration": 12,
    "start_time": "2023-10-07T20:52:30.473Z"
   },
   {
    "duration": 6,
    "start_time": "2023-10-07T20:52:30.999Z"
   },
   {
    "duration": 854,
    "start_time": "2023-10-07T20:52:32.450Z"
   },
   {
    "duration": 5,
    "start_time": "2023-10-07T20:52:50.731Z"
   },
   {
    "duration": 9,
    "start_time": "2023-10-07T20:52:51.575Z"
   },
   {
    "duration": 10,
    "start_time": "2023-10-07T20:52:52.191Z"
   },
   {
    "duration": 11,
    "start_time": "2023-10-07T20:52:53.710Z"
   },
   {
    "duration": 5,
    "start_time": "2023-10-07T20:52:54.269Z"
   },
   {
    "duration": 6,
    "start_time": "2023-10-07T20:52:54.794Z"
   },
   {
    "duration": 18,
    "start_time": "2023-10-07T20:52:56.403Z"
   },
   {
    "duration": 203,
    "start_time": "2023-10-07T20:52:57.287Z"
   },
   {
    "duration": 145,
    "start_time": "2023-10-07T20:52:58.743Z"
   },
   {
    "duration": 13,
    "start_time": "2023-10-07T20:52:59.603Z"
   },
   {
    "duration": 196,
    "start_time": "2023-10-07T20:53:00.247Z"
   },
   {
    "duration": 407,
    "start_time": "2023-10-07T20:53:02.481Z"
   },
   {
    "duration": 5,
    "start_time": "2023-10-07T20:53:05.218Z"
   },
   {
    "duration": 238,
    "start_time": "2023-10-07T20:53:05.895Z"
   },
   {
    "duration": 265,
    "start_time": "2023-10-07T20:53:06.903Z"
   },
   {
    "duration": 121,
    "start_time": "2023-10-07T20:53:09.387Z"
   },
   {
    "duration": 17,
    "start_time": "2023-10-07T20:53:10.050Z"
   },
   {
    "duration": 214,
    "start_time": "2023-10-07T20:53:10.726Z"
   },
   {
    "duration": 307,
    "start_time": "2023-10-07T20:53:11.446Z"
   },
   {
    "duration": 10,
    "start_time": "2023-10-07T20:54:02.641Z"
   },
   {
    "duration": 148,
    "start_time": "2023-10-07T20:54:02.877Z"
   },
   {
    "duration": 153,
    "start_time": "2023-10-07T20:54:04.182Z"
   },
   {
    "duration": 5,
    "start_time": "2023-10-07T20:54:05.622Z"
   },
   {
    "duration": 6,
    "start_time": "2023-10-07T20:54:06.222Z"
   },
   {
    "duration": 8,
    "start_time": "2023-10-07T20:54:07.206Z"
   },
   {
    "duration": 8,
    "start_time": "2023-10-07T20:54:08.127Z"
   },
   {
    "duration": 5,
    "start_time": "2023-10-07T20:54:10.083Z"
   },
   {
    "duration": 168,
    "start_time": "2023-10-07T20:54:10.607Z"
   },
   {
    "duration": 159,
    "start_time": "2023-10-07T20:54:11.862Z"
   },
   {
    "duration": 135,
    "start_time": "2023-10-07T20:54:13.131Z"
   },
   {
    "duration": 163,
    "start_time": "2023-10-07T20:54:14.577Z"
   },
   {
    "duration": 4,
    "start_time": "2023-10-07T20:54:15.476Z"
   },
   {
    "duration": 244,
    "start_time": "2023-10-07T20:54:16.515Z"
   },
   {
    "duration": 5,
    "start_time": "2023-10-07T20:54:17.843Z"
   },
   {
    "duration": 5,
    "start_time": "2023-10-07T20:54:18.373Z"
   },
   {
    "duration": 9,
    "start_time": "2023-10-07T20:54:18.847Z"
   },
   {
    "duration": 8,
    "start_time": "2023-10-07T20:54:19.731Z"
   },
   {
    "duration": 6,
    "start_time": "2023-10-07T20:54:51.035Z"
   },
   {
    "duration": 5,
    "start_time": "2023-10-07T20:54:51.476Z"
   },
   {
    "duration": 5,
    "start_time": "2023-10-07T20:54:51.995Z"
   },
   {
    "duration": 6,
    "start_time": "2023-10-07T20:55:42.395Z"
   },
   {
    "duration": 5,
    "start_time": "2023-10-07T20:55:42.819Z"
   },
   {
    "duration": 5,
    "start_time": "2023-10-07T20:55:43.170Z"
   },
   {
    "duration": 10,
    "start_time": "2023-10-07T20:56:09.340Z"
   },
   {
    "duration": 34,
    "start_time": "2023-10-07T20:56:09.874Z"
   },
   {
    "duration": 23,
    "start_time": "2023-10-07T20:56:10.582Z"
   },
   {
    "duration": 22,
    "start_time": "2023-10-07T20:56:11.699Z"
   },
   {
    "duration": 14,
    "start_time": "2023-10-07T20:56:15.919Z"
   },
   {
    "duration": 5,
    "start_time": "2023-10-07T20:56:16.478Z"
   },
   {
    "duration": 4,
    "start_time": "2023-10-07T20:56:17.035Z"
   },
   {
    "duration": 5,
    "start_time": "2023-10-07T20:56:17.515Z"
   },
   {
    "duration": 18,
    "start_time": "2023-10-07T20:56:18.835Z"
   },
   {
    "duration": 6,
    "start_time": "2023-10-07T20:56:19.535Z"
   },
   {
    "duration": 5,
    "start_time": "2023-10-07T20:56:20.720Z"
   },
   {
    "duration": 5,
    "start_time": "2023-10-07T20:56:21.579Z"
   },
   {
    "duration": 7,
    "start_time": "2023-10-07T20:56:29.878Z"
   },
   {
    "duration": 10,
    "start_time": "2023-10-07T20:56:30.366Z"
   },
   {
    "duration": 7,
    "start_time": "2023-10-07T20:56:30.873Z"
   },
   {
    "duration": 10,
    "start_time": "2023-10-07T20:56:32.066Z"
   },
   {
    "duration": 25,
    "start_time": "2023-10-07T20:56:32.615Z"
   },
   {
    "duration": 24,
    "start_time": "2023-10-07T20:56:33.311Z"
   },
   {
    "duration": 28,
    "start_time": "2023-10-07T20:56:33.883Z"
   },
   {
    "duration": 6,
    "start_time": "2023-10-07T20:56:40.235Z"
   },
   {
    "duration": 156,
    "start_time": "2023-10-07T20:56:40.773Z"
   },
   {
    "duration": 4,
    "start_time": "2023-10-07T20:56:42.187Z"
   },
   {
    "duration": 6,
    "start_time": "2023-10-07T20:56:43.195Z"
   },
   {
    "duration": 179,
    "start_time": "2023-10-07T20:56:44.303Z"
   },
   {
    "duration": 5,
    "start_time": "2023-10-07T20:56:45.811Z"
   },
   {
    "duration": 6,
    "start_time": "2023-10-07T20:56:47.139Z"
   },
   {
    "duration": 5,
    "start_time": "2023-10-07T20:56:56.335Z"
   },
   {
    "duration": 3,
    "start_time": "2023-10-07T20:56:57.735Z"
   },
   {
    "duration": 3,
    "start_time": "2023-10-07T20:56:58.269Z"
   },
   {
    "duration": 7,
    "start_time": "2023-10-07T20:56:59.683Z"
   },
   {
    "duration": 6,
    "start_time": "2023-10-07T20:57:00.214Z"
   },
   {
    "duration": 5,
    "start_time": "2023-10-07T20:57:00.791Z"
   },
   {
    "duration": 7,
    "start_time": "2023-10-07T20:57:04.475Z"
   },
   {
    "duration": 22,
    "start_time": "2023-10-07T20:57:05.076Z"
   },
   {
    "duration": 23,
    "start_time": "2023-10-07T20:57:05.639Z"
   },
   {
    "duration": 23,
    "start_time": "2023-10-07T20:57:06.207Z"
   },
   {
    "duration": 16,
    "start_time": "2023-10-07T20:57:14.711Z"
   },
   {
    "duration": 5,
    "start_time": "2023-10-07T20:57:15.391Z"
   },
   {
    "duration": 5,
    "start_time": "2023-10-07T20:57:15.919Z"
   },
   {
    "duration": 7,
    "start_time": "2023-10-07T20:57:16.422Z"
   },
   {
    "duration": 15,
    "start_time": "2023-10-07T20:57:17.781Z"
   },
   {
    "duration": 7,
    "start_time": "2023-10-07T20:57:18.280Z"
   },
   {
    "duration": 6,
    "start_time": "2023-10-07T20:57:19.015Z"
   },
   {
    "duration": 6,
    "start_time": "2023-10-07T20:57:19.674Z"
   },
   {
    "duration": 6,
    "start_time": "2023-10-07T20:57:25.171Z"
   },
   {
    "duration": 5,
    "start_time": "2023-10-07T20:57:25.600Z"
   },
   {
    "duration": 8,
    "start_time": "2023-10-07T20:57:26.073Z"
   },
   {
    "duration": 8,
    "start_time": "2023-10-07T20:57:27.286Z"
   },
   {
    "duration": 24,
    "start_time": "2023-10-07T20:57:27.814Z"
   },
   {
    "duration": 23,
    "start_time": "2023-10-07T20:57:28.476Z"
   },
   {
    "duration": 25,
    "start_time": "2023-10-07T20:57:28.947Z"
   }
  ],
  "kernelspec": {
   "display_name": "Python 3 (ipykernel)",
   "language": "python",
   "name": "python3"
  },
  "language_info": {
   "codemirror_mode": {
    "name": "ipython",
    "version": 3
   },
   "file_extension": ".py",
   "mimetype": "text/x-python",
   "name": "python",
   "nbconvert_exporter": "python",
   "pygments_lexer": "ipython3",
   "version": "3.10.9"
  },
  "toc": {
   "base_numbering": 1,
   "nav_menu": {},
   "number_sections": true,
   "sideBar": true,
   "skip_h1_title": true,
   "title_cell": "Table of Contents",
   "title_sidebar": "Contents",
   "toc_cell": false,
   "toc_position": {},
   "toc_section_display": true,
   "toc_window_display": false
  }
 },
 "nbformat": 4,
 "nbformat_minor": 2
}
